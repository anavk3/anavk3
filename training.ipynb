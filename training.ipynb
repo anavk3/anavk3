{
  "metadata": {
    "kernelspec": {
      "language": "python",
      "display_name": "Python 3",
      "name": "python3"
    },
    "language_info": {
      "name": "python",
      "version": "3.6.6",
      "mimetype": "text/x-python",
      "codemirror_mode": {
        "name": "ipython",
        "version": 3
      },
      "pygments_lexer": "ipython3",
      "nbconvert_exporter": "python",
      "file_extension": ".py"
    },
    "colab": {
      "provenance": []
    }
  },
  "nbformat_minor": 0,
  "nbformat": 4,
  "cells": [
    {
      "cell_type": "markdown",
      "source": [
        "# Reddit Sentiment Analysis"
      ],
      "metadata": {
        "_uuid": "92b885dd147dac19bd0a33db3cd0da100bd5bc23",
        "id": "tBX4VhTt-fiS"
      }
    },
    {
      "cell_type": "code",
      "source": [
        "# !pip install gensim\n",
        "# !pip install keras\n",
        "# !pip install pandas"
      ],
      "metadata": {
        "_uuid": "70282bce8b42a51e4d44f2c7d85c4ca9567b0fd4",
        "execution": {
          "iopub.status.busy": "2023-06-29T08:17:02.083703Z",
          "iopub.execute_input": "2023-06-29T08:17:02.084160Z",
          "iopub.status.idle": "2023-06-29T08:17:02.088778Z",
          "shell.execute_reply.started": "2023-06-29T08:17:02.084086Z",
          "shell.execute_reply": "2023-06-29T08:17:02.087999Z"
        },
        "trusted": true,
        "id": "K0ALts3A-fiV"
      },
      "execution_count": null,
      "outputs": []
    },
    {
      "cell_type": "code",
      "source": [
        "# DataFrame\n",
        "import pandas as pd\n",
        "\n",
        "# Matplot\n",
        "import matplotlib.pyplot as plt\n",
        "%matplotlib inline\n",
        "\n",
        "# Scikit-learn\n",
        "from sklearn.model_selection import train_test_split\n",
        "from sklearn.preprocessing import LabelEncoder\n",
        "from sklearn.metrics import confusion_matrix, classification_report, accuracy_score\n",
        "from sklearn.manifold import TSNE\n",
        "from sklearn.feature_extraction.text import TfidfVectorizer\n",
        "\n",
        "# Keras\n",
        "from keras.preprocessing.text import Tokenizer\n",
        "from keras.preprocessing.sequence import pad_sequences\n",
        "from keras.models import Sequential\n",
        "from keras.layers import Activation, Dense, Dropout, Embedding, Flatten, Conv1D, MaxPooling1D, LSTM\n",
        "from keras import utils\n",
        "from keras.callbacks import ReduceLROnPlateau, EarlyStopping\n",
        "\n",
        "# nltk\n",
        "import nltk\n",
        "from nltk.corpus import stopwords\n",
        "from  nltk.stem import SnowballStemmer\n",
        "\n",
        "# Word2vec\n",
        "import gensim\n",
        "\n",
        "# Utility\n",
        "import re\n",
        "import numpy as np\n",
        "import os\n",
        "from collections import Counter\n",
        "import logging\n",
        "import time\n",
        "import pickle\n",
        "import itertools\n",
        "\n",
        "# Set log\n",
        "logging.basicConfig(format='%(asctime)s : %(levelname)s : %(message)s', level=logging.INFO)"
      ],
      "metadata": {
        "_uuid": "303e72966af732ddef0bd8108a321095314e44af",
        "execution": {
          "iopub.status.busy": "2023-06-29T08:17:02.090090Z",
          "iopub.execute_input": "2023-06-29T08:17:02.090553Z",
          "iopub.status.idle": "2023-06-29T08:17:02.104716Z",
          "shell.execute_reply.started": "2023-06-29T08:17:02.090502Z",
          "shell.execute_reply": "2023-06-29T08:17:02.103852Z"
        },
        "trusted": true,
        "id": "HjZezCwf-fiW"
      },
      "execution_count": null,
      "outputs": []
    },
    {
      "cell_type": "code",
      "source": [
        "nltk.download('stopwords')"
      ],
      "metadata": {
        "_uuid": "35e1a89dead5fd160e4c9a024a21d2e569fc89ff",
        "execution": {
          "iopub.status.busy": "2023-06-29T08:17:02.133476Z",
          "iopub.execute_input": "2023-06-29T08:17:02.134024Z",
          "iopub.status.idle": "2023-06-29T08:17:22.170809Z",
          "shell.execute_reply.started": "2023-06-29T08:17:02.133970Z",
          "shell.execute_reply": "2023-06-29T08:17:22.169966Z"
        },
        "trusted": true,
        "id": "LbF2Lxuj-fiW",
        "outputId": "84969d06-5dc5-4ade-9946-44cab87465bd"
      },
      "execution_count": null,
      "outputs": [
        {
          "name": "stdout",
          "text": "[nltk_data] Error loading stopwords: <urlopen error [Errno -3]\n[nltk_data]     Temporary failure in name resolution>\n",
          "output_type": "stream"
        },
        {
          "execution_count": 38,
          "output_type": "execute_result",
          "data": {
            "text/plain": "False"
          },
          "metadata": {}
        }
      ]
    },
    {
      "cell_type": "markdown",
      "source": [
        "### Settings"
      ],
      "metadata": {
        "_uuid": "e8b01a07df001e4abcc745900336c4db06e455f3",
        "id": "pGalvUsC-fiX"
      }
    },
    {
      "cell_type": "code",
      "source": [
        "# DATASET\n",
        "DATASET_COLUMNS = [\"target\", \"ids\", \"date\", \"flag\", \"user\", \"text\"]\n",
        "DATASET_ENCODING = \"ISO-8859-1\"\n",
        "TRAIN_SIZE = 0.8\n",
        "\n",
        "# TEXT CLENAING\n",
        "TEXT_CLEANING_RE = \"@\\S+|https?:\\S+|http?:\\S|[^A-Za-z0-9]+\"\n",
        "\n",
        "# WORD2VEC\n",
        "W2V_SIZE = 300\n",
        "W2V_WINDOW = 7\n",
        "W2V_EPOCH = 32\n",
        "W2V_MIN_COUNT = 10\n",
        "\n",
        "# KERAS\n",
        "SEQUENCE_LENGTH = 300\n",
        "EPOCHS = 8\n",
        "BATCH_SIZE = 1024\n",
        "\n",
        "# SENTIMENT\n",
        "POSITIVE = \"POSITIVE\"\n",
        "NEGATIVE = \"NEGATIVE\"\n",
        "NEUTRAL = \"NEUTRAL\"\n",
        "SENTIMENT_THRESHOLDS = (0.4, 0.7)\n",
        "\n",
        "# EXPORT\n",
        "KERAS_MODEL = \"model.h5\"\n",
        "WORD2VEC_MODEL = \"model.w2v\"\n",
        "TOKENIZER_MODEL = \"tokenizer.pkl\"\n",
        "ENCODER_MODEL = \"encoder.pkl\""
      ],
      "metadata": {
        "_uuid": "180f0dd2a95419e4602b5c0229822b0111c826f6",
        "execution": {
          "iopub.status.busy": "2023-06-29T08:17:22.171968Z",
          "iopub.execute_input": "2023-06-29T08:17:22.172245Z",
          "iopub.status.idle": "2023-06-29T08:17:22.179436Z",
          "shell.execute_reply.started": "2023-06-29T08:17:22.172198Z",
          "shell.execute_reply": "2023-06-29T08:17:22.178353Z"
        },
        "trusted": true,
        "id": "NC3ORcbb-fiX"
      },
      "execution_count": null,
      "outputs": []
    },
    {
      "cell_type": "markdown",
      "source": [
        "### Read Dataset"
      ],
      "metadata": {
        "_uuid": "1c3beecc618be68480b3d4f0de08d9d863da1dc1",
        "id": "iSUaJffQ-fiY"
      }
    },
    {
      "cell_type": "markdown",
      "source": [
        "### Dataset details\n",
        "* **target**: the polarity of the post (0 = negative, 2 = neutral, 4 = positive)\n",
        "* **ids**: The id of the post ( 2087)\n",
        "* **date**: the date of the post (Sat May 16 23:58:44 UTC 2009)\n",
        "* **flag**: The query (lyx). If there is no query, then this value is NO_QUERY.\n",
        "* **user**: the user that posted (robotickilldozr)\n",
        "* **text**: the text of the post (Lyx is cool)"
      ],
      "metadata": {
        "_uuid": "563b3c44f1092dba0b853747b098e00509098cca",
        "id": "eyEJPJTG-fiY"
      }
    },
    {
      "cell_type": "code",
      "source": [
        "dataset_filename = os.listdir(\"../input\")[0]\n",
        "dataset_path = os.path.join(\"..\",\"input\",dataset_filename)\n",
        "print(\"Open file:\", dataset_path)\n",
        "df = pd.read_csv(dataset_path, encoding =DATASET_ENCODING , names=DATASET_COLUMNS)"
      ],
      "metadata": {
        "_uuid": "bba8f91cd70de4f5ea0fb0870ae2029b6e3dcc24",
        "execution": {
          "iopub.status.busy": "2023-06-29T08:17:22.181116Z",
          "iopub.execute_input": "2023-06-29T08:17:22.181581Z",
          "iopub.status.idle": "2023-06-29T08:17:26.915511Z",
          "shell.execute_reply.started": "2023-06-29T08:17:22.181375Z",
          "shell.execute_reply": "2023-06-29T08:17:26.914203Z"
        },
        "trusted": true,
        "id": "joPF97BU-fiY",
        "outputId": "6df87900-f675-4a94-ed1e-14ebb7d5cd64"
      },
      "execution_count": null,
      "outputs": [
        {
          "name": "stdout",
          "text": "Open file: ../input/training.1600000.processed.noemoticon.csv\n",
          "output_type": "stream"
        }
      ]
    },
    {
      "cell_type": "code",
      "source": [
        "print(\"Dataset size:\", len(df))"
      ],
      "metadata": {
        "_uuid": "936d499c00c4f1648bc16ca9d283c3b39be7fb10",
        "execution": {
          "iopub.status.busy": "2023-06-29T08:17:26.921677Z",
          "iopub.execute_input": "2023-06-29T08:17:26.924439Z",
          "iopub.status.idle": "2023-06-29T08:17:26.934287Z",
          "shell.execute_reply.started": "2023-06-29T08:17:26.924374Z",
          "shell.execute_reply": "2023-06-29T08:17:26.933312Z"
        },
        "trusted": true,
        "id": "jrpzpEdl-fiY",
        "outputId": "ac6df046-b66e-46f8-e354-2c41c0fc3d70"
      },
      "execution_count": null,
      "outputs": [
        {
          "name": "stdout",
          "text": "Dataset size: 1600000\n",
          "output_type": "stream"
        }
      ]
    },
    {
      "cell_type": "markdown",
      "source": [
        "### Map target label to String\n",
        "* **0** -> **NEGATIVE**\n",
        "* **2** -> **NEUTRAL**\n",
        "* **4** -> **POSITIVE**"
      ],
      "metadata": {
        "_uuid": "3f9a7bb129e184967b13261fb5d253af451c75c5",
        "id": "lnY1F7Vf-fiZ"
      }
    },
    {
      "cell_type": "code",
      "source": [
        "decode_map = {0: \"NEGATIVE\", 2: \"NEUTRAL\", 4: \"POSITIVE\"}\n",
        "def decode_sentiment(label):\n",
        "    return decode_map[int(label)]"
      ],
      "metadata": {
        "_uuid": "14074b59106cb9550440839e48b832223fc9502f",
        "execution": {
          "iopub.status.busy": "2023-06-29T08:17:26.970371Z",
          "iopub.execute_input": "2023-06-29T08:17:26.970863Z",
          "iopub.status.idle": "2023-06-29T08:17:26.980164Z",
          "shell.execute_reply.started": "2023-06-29T08:17:26.970650Z",
          "shell.execute_reply": "2023-06-29T08:17:26.979430Z"
        },
        "trusted": true,
        "id": "i83rVNTh-fiZ"
      },
      "execution_count": null,
      "outputs": []
    },
    {
      "cell_type": "code",
      "source": [
        "%%time\n",
        "df.target = df.target.apply(lambda x: decode_sentiment(x))"
      ],
      "metadata": {
        "_uuid": "4449d473187f647a195a6ac6986b009da32a7f4b",
        "execution": {
          "iopub.status.busy": "2023-06-29T08:17:26.981563Z",
          "iopub.execute_input": "2023-06-29T08:17:26.982059Z",
          "iopub.status.idle": "2023-06-29T08:17:28.101817Z",
          "shell.execute_reply.started": "2023-06-29T08:17:26.981848Z",
          "shell.execute_reply": "2023-06-29T08:17:28.101115Z"
        },
        "trusted": true,
        "id": "5Mmf_Orq-fiZ",
        "outputId": "3a2f605b-dfdb-4174-cb18-4b9fb651a7d2"
      },
      "execution_count": null,
      "outputs": [
        {
          "name": "stdout",
          "text": "CPU times: user 1.09 s, sys: 13 ms, total: 1.1 s\nWall time: 1.11 s\n",
          "output_type": "stream"
        }
      ]
    },
    {
      "cell_type": "code",
      "source": [
        "target_cnt = Counter(df.target)\n",
        "\n",
        "plt.figure(figsize=(16,8))\n",
        "plt.bar(target_cnt.keys(), target_cnt.values())\n",
        "plt.title(\"Dataset labels distribuition\")"
      ],
      "metadata": {
        "_uuid": "19eb327803192f31cce3512aacb232f4d6b38715",
        "execution": {
          "iopub.status.busy": "2023-06-29T08:17:28.103267Z",
          "iopub.execute_input": "2023-06-29T08:17:28.103548Z",
          "iopub.status.idle": "2023-06-29T08:17:28.612774Z",
          "shell.execute_reply.started": "2023-06-29T08:17:28.103499Z",
          "shell.execute_reply": "2023-06-29T08:17:28.612046Z"
        },
        "trusted": true,
        "id": "WnhdEKsc-fia",
        "outputId": "bf2b3795-96e6-4093-a1bb-12bf0d4966e2"
      },
      "execution_count": null,
      "outputs": [
        {
          "execution_count": 45,
          "output_type": "execute_result",
          "data": {
            "text/plain": "Text(0.5,1,'Dataset labels distribuition')"
          },
          "metadata": {}
        },
        {
          "output_type": "display_data",
          "data": {
            "text/plain": "<Figure size 1152x576 with 1 Axes>",
            "image/png": "[encoded data removed]"
          },
          "metadata": {}
        }
      ]
    },
    {
      "cell_type": "markdown",
      "source": [
        "### Pre-Process dataset"
      ],
      "metadata": {
        "_uuid": "4329b1573518b03e497213efa7676220734ebb4b",
        "id": "2plLGOdW-fia"
      }
    },
    {
      "cell_type": "code",
      "source": [
        "stop_words = stopwords.words(\"english\")\n",
        "stemmer = SnowballStemmer(\"english\")"
      ],
      "metadata": {
        "_uuid": "8aeee8b7b9ea11b749c7f91cd4787a7b50ed1a91",
        "execution": {
          "iopub.status.busy": "2023-06-29T08:17:28.614128Z",
          "iopub.execute_input": "2023-06-29T08:17:28.614638Z",
          "iopub.status.idle": "2023-06-29T08:17:28.621633Z",
          "shell.execute_reply.started": "2023-06-29T08:17:28.614585Z",
          "shell.execute_reply": "2023-06-29T08:17:28.620683Z"
        },
        "trusted": true,
        "id": "To9l7nJW-fia"
      },
      "execution_count": null,
      "outputs": []
    },
    {
      "cell_type": "code",
      "source": [
        "def preprocess(text, stem=False):\n",
        "    # Remove link,user and special characters\n",
        "    text = re.sub(TEXT_CLEANING_RE, ' ', str(text).lower()).strip()\n",
        "    tokens = []\n",
        "    for token in text.split():\n",
        "        if token not in stop_words:\n",
        "            if stem:\n",
        "                tokens.append(stemmer.stem(token))\n",
        "            else:\n",
        "                tokens.append(token)\n",
        "    return \" \".join(tokens)"
      ],
      "metadata": {
        "_uuid": "649ebcb97969b9ac4301138783704bb3d7846a49",
        "execution": {
          "iopub.status.busy": "2023-06-29T08:17:28.623005Z",
          "iopub.execute_input": "2023-06-29T08:17:28.623528Z",
          "iopub.status.idle": "2023-06-29T08:17:28.630553Z",
          "shell.execute_reply.started": "2023-06-29T08:17:28.623383Z",
          "shell.execute_reply": "2023-06-29T08:17:28.629524Z"
        },
        "trusted": true,
        "id": "MGCC_fix-fia"
      },
      "execution_count": null,
      "outputs": []
    },
    {
      "cell_type": "code",
      "source": [
        "%%time\n",
        "df.text = df.text.apply(lambda x: preprocess(x))"
      ],
      "metadata": {
        "_uuid": "f7f3e77ab9291d14687c49e71ba9b2b1e3323432",
        "execution": {
          "iopub.status.busy": "2023-06-29T08:17:28.632223Z",
          "iopub.execute_input": "2023-06-29T08:17:28.632828Z",
          "iopub.status.idle": "2023-06-29T08:18:35.171530Z",
          "shell.execute_reply.started": "2023-06-29T08:17:28.632467Z",
          "shell.execute_reply": "2023-06-29T08:18:35.170707Z"
        },
        "trusted": true,
        "id": "4-M_zYfq-fia",
        "outputId": "ea6624fe-f78f-48f8-86c2-9a619ca76a44"
      },
      "execution_count": null,
      "outputs": [
        {
          "name": "stdout",
          "text": "CPU times: user 1min 6s, sys: 170 ms, total: 1min 6s\nWall time: 1min 6s\n",
          "output_type": "stream"
        }
      ]
    },
    {
      "cell_type": "markdown",
      "source": [
        "### Split train and test"
      ],
      "metadata": {
        "_uuid": "f5f9714a8507409bbe780eebf2855a33e8e6ba37",
        "trusted": true,
        "id": "6hfUAxRm-fib"
      }
    },
    {
      "cell_type": "code",
      "source": [
        "df_train, df_test = train_test_split(df, test_size=1-TRAIN_SIZE, random_state=42)\n",
        "print(\"TRAIN size:\", len(df_train))\n",
        "print(\"TEST size:\", len(df_test))"
      ],
      "metadata": {
        "_uuid": "d2b1179c968e3f3910c790ecf0c5b2cbb34b0e68",
        "execution": {
          "iopub.status.busy": "2023-06-29T08:18:35.172844Z",
          "iopub.execute_input": "2023-06-29T08:18:35.173400Z",
          "iopub.status.idle": "2023-06-29T08:18:36.218118Z",
          "shell.execute_reply.started": "2023-06-29T08:18:35.173337Z",
          "shell.execute_reply": "2023-06-29T08:18:36.217373Z"
        },
        "trusted": true,
        "id": "D4uQTJMa-fib",
        "outputId": "a41b48ee-e580-40c9-c624-4689f93346d7"
      },
      "execution_count": null,
      "outputs": [
        {
          "name": "stdout",
          "text": "TRAIN size: 1280000\nTEST size: 320000\n",
          "output_type": "stream"
        }
      ]
    },
    {
      "cell_type": "markdown",
      "source": [
        "### Word2Vec"
      ],
      "metadata": {
        "_uuid": "f08a28aab2c3d16d8b9681a7d5d07587153a1cd6",
        "id": "-9rJHj4r-fib"
      }
    },
    {
      "cell_type": "code",
      "source": [
        "%%time\n",
        "documents = [_text.split() for _text in df_train.text]"
      ],
      "metadata": {
        "_uuid": "2461bf564de1b4414841933d0c1d1bee5f5cc5a6",
        "execution": {
          "iopub.status.busy": "2023-06-29T08:18:36.220014Z",
          "iopub.execute_input": "2023-06-29T08:18:36.220474Z",
          "iopub.status.idle": "2023-06-29T08:18:39.966059Z",
          "shell.execute_reply.started": "2023-06-29T08:18:36.220273Z",
          "shell.execute_reply": "2023-06-29T08:18:39.965011Z"
        },
        "trusted": true,
        "id": "A42oFr7d-fib",
        "outputId": "bafcd507-dfc5-48dc-9a16-c77612e89ea9"
      },
      "execution_count": null,
      "outputs": [
        {
          "name": "stdout",
          "text": "CPU times: user 3.2 s, sys: 534 ms, total: 3.73 s\nWall time: 3.74 s\n",
          "output_type": "stream"
        }
      ]
    },
    {
      "cell_type": "code",
      "source": [
        "w2v_model = gensim.models.word2vec.Word2Vec(size=W2V_SIZE,\n",
        "                                            window=W2V_WINDOW,\n",
        "                                            min_count=W2V_MIN_COUNT,\n",
        "                                            workers=8)"
      ],
      "metadata": {
        "_uuid": "8e19b9f25801ba86420decc266d2b3e6fb44f1ea",
        "execution": {
          "iopub.status.busy": "2023-06-29T08:18:39.967600Z",
          "iopub.execute_input": "2023-06-29T08:18:39.969030Z",
          "iopub.status.idle": "2023-06-29T08:18:39.981822Z",
          "shell.execute_reply.started": "2023-06-29T08:18:39.967881Z",
          "shell.execute_reply": "2023-06-29T08:18:39.981072Z"
        },
        "trusted": true,
        "id": "IU-V7INq-fib"
      },
      "execution_count": null,
      "outputs": []
    },
    {
      "cell_type": "code",
      "source": [
        "w2v_model.build_vocab(documents)"
      ],
      "metadata": {
        "_uuid": "58d655af07653c594bec6bebcfb302a973b0ad9c",
        "execution": {
          "iopub.status.busy": "2023-06-29T08:18:39.983210Z",
          "iopub.execute_input": "2023-06-29T08:18:39.983812Z",
          "iopub.status.idle": "2023-06-29T08:18:45.038346Z",
          "shell.execute_reply.started": "2023-06-29T08:18:39.983554Z",
          "shell.execute_reply": "2023-06-29T08:18:45.037448Z"
        },
        "trusted": true,
        "id": "Fmsxcl3K-fib",
        "outputId": "84406978-69ae-4554-ef37-94517f96057c"
      },
      "execution_count": null,
      "outputs": [
        {
          "name": "stderr",
          "text": "2023-06-29 08:18:39,994 : INFO : collecting all words and their counts\n2023-06-29 08:18:39,996 : INFO : PROGRESS: at sentence #0, processed 0 words, keeping 0 word types\n2023-06-29 08:18:40,022 : INFO : PROGRESS: at sentence #10000, processed 72565 words, keeping 14005 word types\n2023-06-29 08:18:40,046 : INFO : PROGRESS: at sentence #20000, processed 144393 words, keeping 21587 word types\n2023-06-29 08:18:40,072 : INFO : PROGRESS: at sentence #30000, processed 215826 words, keeping 27541 word types\n2023-06-29 08:18:40,099 : INFO : PROGRESS: at sentence #40000, processed 288271 words, keeping 32764 word types\n2023-06-29 08:18:40,124 : INFO : PROGRESS: at sentence #50000, processed 359772 words, keeping 37587 word types\n2023-06-29 08:18:40,151 : INFO : PROGRESS: at sentence #60000, processed 431431 words, keeping 42198 word types\n2023-06-29 08:18:40,179 : INFO : PROGRESS: at sentence #70000, processed 503103 words, keeping 46458 word types\n2023-06-29 08:18:40,207 : INFO : PROGRESS: at sentence #80000, processed 575709 words, keeping 50476 word types\n2023-06-29 08:18:40,232 : INFO : PROGRESS: at sentence #90000, processed 647100 words, keeping 54140 word types\n2023-06-29 08:18:40,259 : INFO : PROGRESS: at sentence #100000, processed 718681 words, keeping 57777 word types\n2023-06-29 08:18:40,284 : INFO : PROGRESS: at sentence #110000, processed 790696 words, keeping 61207 word types\n2023-06-29 08:18:40,312 : INFO : PROGRESS: at sentence #120000, processed 863134 words, keeping 64583 word types\n2023-06-29 08:18:40,339 : INFO : PROGRESS: at sentence #130000, processed 935111 words, keeping 67865 word types\n2023-06-29 08:18:40,366 : INFO : PROGRESS: at sentence #140000, processed 1006668 words, keeping 70966 word types\n2023-06-29 08:18:40,392 : INFO : PROGRESS: at sentence #150000, processed 1078512 words, keeping 74119 word types\n2023-06-29 08:18:40,418 : INFO : PROGRESS: at sentence #160000, processed 1149914 words, keeping 77187 word types\n2023-06-29 08:18:40,445 : INFO : PROGRESS: at sentence #170000, processed 1222145 words, keeping 80267 word types\n2023-06-29 08:18:40,474 : INFO : PROGRESS: at sentence #180000, processed 1294708 words, keeping 83393 word types\n2023-06-29 08:18:40,515 : INFO : PROGRESS: at sentence #190000, processed 1367608 words, keeping 86329 word types\n2023-06-29 08:18:40,572 : INFO : PROGRESS: at sentence #200000, processed 1439469 words, keeping 89103 word types\n2023-06-29 08:18:40,609 : INFO : PROGRESS: at sentence #210000, processed 1512099 words, keeping 91840 word types\n2023-06-29 08:18:40,646 : INFO : PROGRESS: at sentence #220000, processed 1584149 words, keeping 94636 word types\n2023-06-29 08:18:40,685 : INFO : PROGRESS: at sentence #230000, processed 1656354 words, keeping 97353 word types\n2023-06-29 08:18:40,723 : INFO : PROGRESS: at sentence #240000, processed 1728573 words, keeping 99975 word types\n2023-06-29 08:18:40,761 : INFO : PROGRESS: at sentence #250000, processed 1801102 words, keeping 102594 word types\n2023-06-29 08:18:40,797 : INFO : PROGRESS: at sentence #260000, processed 1873103 words, keeping 105162 word types\n2023-06-29 08:18:40,835 : INFO : PROGRESS: at sentence #270000, processed 1945245 words, keeping 107626 word types\n2023-06-29 08:18:40,873 : INFO : PROGRESS: at sentence #280000, processed 2017163 words, keeping 110141 word types\n2023-06-29 08:18:40,911 : INFO : PROGRESS: at sentence #290000, processed 2089574 words, keeping 112539 word types\n2023-06-29 08:18:40,948 : INFO : PROGRESS: at sentence #300000, processed 2160996 words, keeping 114893 word types\n2023-06-29 08:18:40,986 : INFO : PROGRESS: at sentence #310000, processed 2232913 words, keeping 117298 word types\n2023-06-29 08:18:41,025 : INFO : PROGRESS: at sentence #320000, processed 2305039 words, keeping 119693 word types\n2023-06-29 08:18:41,064 : INFO : PROGRESS: at sentence #330000, processed 2377119 words, keeping 122131 word types\n2023-06-29 08:18:41,103 : INFO : PROGRESS: at sentence #340000, processed 2449370 words, keeping 124416 word types\n2023-06-29 08:18:41,139 : INFO : PROGRESS: at sentence #350000, processed 2521564 words, keeping 126669 word types\n2023-06-29 08:18:41,188 : INFO : PROGRESS: at sentence #360000, processed 2593681 words, keeping 128912 word types\n2023-06-29 08:18:41,227 : INFO : PROGRESS: at sentence #370000, processed 2665692 words, keeping 131135 word types\n2023-06-29 08:18:41,266 : INFO : PROGRESS: at sentence #380000, processed 2737859 words, keeping 133403 word types\n2023-06-29 08:18:41,305 : INFO : PROGRESS: at sentence #390000, processed 2809848 words, keeping 135551 word types\n2023-06-29 08:18:41,344 : INFO : PROGRESS: at sentence #400000, processed 2882438 words, keeping 137742 word types\n2023-06-29 08:18:41,382 : INFO : PROGRESS: at sentence #410000, processed 2954075 words, keeping 139909 word types\n2023-06-29 08:18:41,421 : INFO : PROGRESS: at sentence #420000, processed 3026247 words, keeping 142144 word types\n2023-06-29 08:18:41,459 : INFO : PROGRESS: at sentence #430000, processed 3098659 words, keeping 144364 word types\n2023-06-29 08:18:41,498 : INFO : PROGRESS: at sentence #440000, processed 3170663 words, keeping 146439 word types\n2023-06-29 08:18:41,537 : INFO : PROGRESS: at sentence #450000, processed 3243344 words, keeping 148526 word types\n2023-06-29 08:18:41,576 : INFO : PROGRESS: at sentence #460000, processed 3315466 words, keeping 150610 word types\n2023-06-29 08:18:41,614 : INFO : PROGRESS: at sentence #470000, processed 3388295 words, keeping 152737 word types\n2023-06-29 08:18:41,652 : INFO : PROGRESS: at sentence #480000, processed 3460120 words, keeping 154757 word types\n2023-06-29 08:18:41,691 : INFO : PROGRESS: at sentence #490000, processed 3531883 words, keeping 156825 word types\n2023-06-29 08:18:41,730 : INFO : PROGRESS: at sentence #500000, processed 3604217 words, keeping 158859 word types\n2023-06-29 08:18:41,768 : INFO : PROGRESS: at sentence #510000, processed 3676427 words, keeping 160852 word types\n2023-06-29 08:18:41,807 : INFO : PROGRESS: at sentence #520000, processed 3749045 words, keeping 162863 word types\n2023-06-29 08:18:41,846 : INFO : PROGRESS: at sentence #530000, processed 3821622 words, keeping 164929 word types\n2023-06-29 08:18:41,886 : INFO : PROGRESS: at sentence #540000, processed 3893627 words, keeping 166840 word types\n2023-06-29 08:18:41,925 : INFO : PROGRESS: at sentence #550000, processed 3965477 words, keeping 168799 word types\n2023-06-29 08:18:41,956 : INFO : PROGRESS: at sentence #560000, processed 4038050 words, keeping 170802 word types\n2023-06-29 08:18:41,983 : INFO : PROGRESS: at sentence #570000, processed 4110296 words, keeping 172760 word types\n2023-06-29 08:18:42,009 : INFO : PROGRESS: at sentence #580000, processed 4182385 words, keeping 174635 word types\n2023-06-29 08:18:42,045 : INFO : PROGRESS: at sentence #590000, processed 4254632 words, keeping 176470 word types\n2023-06-29 08:18:42,072 : INFO : PROGRESS: at sentence #600000, processed 4326859 words, keeping 178350 word types\n2023-06-29 08:18:42,099 : INFO : PROGRESS: at sentence #610000, processed 4399183 words, keeping 180290 word types\n2023-06-29 08:18:42,129 : INFO : PROGRESS: at sentence #620000, processed 4471343 words, keeping 182129 word types\n2023-06-29 08:18:42,159 : INFO : PROGRESS: at sentence #630000, processed 4543286 words, keeping 184005 word types\n2023-06-29 08:18:42,190 : INFO : PROGRESS: at sentence #640000, processed 4615780 words, keeping 185835 word types\n2023-06-29 08:18:42,218 : INFO : PROGRESS: at sentence #650000, processed 4688481 words, keeping 187705 word types\n2023-06-29 08:18:42,247 : INFO : PROGRESS: at sentence #660000, processed 4760481 words, keeping 189439 word types\n2023-06-29 08:18:42,274 : INFO : PROGRESS: at sentence #670000, processed 4833024 words, keeping 191232 word types\n2023-06-29 08:18:42,302 : INFO : PROGRESS: at sentence #680000, processed 4904516 words, keeping 193177 word types\n2023-06-29 08:18:42,330 : INFO : PROGRESS: at sentence #690000, processed 4976968 words, keeping 194960 word types\n2023-06-29 08:18:42,358 : INFO : PROGRESS: at sentence #700000, processed 5049412 words, keeping 196725 word types\n2023-06-29 08:18:42,385 : INFO : PROGRESS: at sentence #710000, processed 5121976 words, keeping 198516 word types\n2023-06-29 08:18:42,413 : INFO : PROGRESS: at sentence #720000, processed 5193881 words, keeping 200325 word types\n2023-06-29 08:18:42,439 : INFO : PROGRESS: at sentence #730000, processed 5265467 words, keeping 202133 word types\n2023-06-29 08:18:42,467 : INFO : PROGRESS: at sentence #740000, processed 5337518 words, keeping 203818 word types\n2023-06-29 08:18:42,494 : INFO : PROGRESS: at sentence #750000, processed 5409321 words, keeping 205535 word types\n2023-06-29 08:18:42,523 : INFO : PROGRESS: at sentence #760000, processed 5481512 words, keeping 207282 word types\n2023-06-29 08:18:42,551 : INFO : PROGRESS: at sentence #770000, processed 5554093 words, keeping 209076 word types\n2023-06-29 08:18:42,578 : INFO : PROGRESS: at sentence #780000, processed 5625382 words, keeping 210805 word types\n2023-06-29 08:18:42,604 : INFO : PROGRESS: at sentence #790000, processed 5698066 words, keeping 212618 word types\n2023-06-29 08:18:42,632 : INFO : PROGRESS: at sentence #800000, processed 5770880 words, keeping 214374 word types\n2023-06-29 08:18:42,661 : INFO : PROGRESS: at sentence #810000, processed 5843418 words, keeping 216009 word types\n2023-06-29 08:18:42,687 : INFO : PROGRESS: at sentence #820000, processed 5915628 words, keeping 217804 word types\n2023-06-29 08:18:42,715 : INFO : PROGRESS: at sentence #830000, processed 5987499 words, keeping 219585 word types\n2023-06-29 08:18:42,743 : INFO : PROGRESS: at sentence #840000, processed 6058973 words, keeping 221344 word types\n2023-06-29 08:18:42,770 : INFO : PROGRESS: at sentence #850000, processed 6131125 words, keeping 223002 word types\n2023-06-29 08:18:42,798 : INFO : PROGRESS: at sentence #860000, processed 6202951 words, keeping 224643 word types\n2023-06-29 08:18:42,825 : INFO : PROGRESS: at sentence #870000, processed 6275461 words, keeping 226362 word types\n2023-06-29 08:18:42,854 : INFO : PROGRESS: at sentence #880000, processed 6347661 words, keeping 227986 word types\n2023-06-29 08:18:42,880 : INFO : PROGRESS: at sentence #890000, processed 6419806 words, keeping 229634 word types\n2023-06-29 08:18:42,908 : INFO : PROGRESS: at sentence #900000, processed 6491644 words, keeping 231389 word types\n2023-06-29 08:18:42,937 : INFO : PROGRESS: at sentence #910000, processed 6564022 words, keeping 233050 word types\n2023-06-29 08:18:42,965 : INFO : PROGRESS: at sentence #920000, processed 6636228 words, keeping 234686 word types\n2023-06-29 08:18:42,992 : INFO : PROGRESS: at sentence #930000, processed 6708573 words, keeping 236393 word types\n2023-06-29 08:18:43,020 : INFO : PROGRESS: at sentence #940000, processed 6779956 words, keeping 238052 word types\n2023-06-29 08:18:43,047 : INFO : PROGRESS: at sentence #950000, processed 6852599 words, keeping 239716 word types\n2023-06-29 08:18:43,076 : INFO : PROGRESS: at sentence #960000, processed 6924717 words, keeping 241354 word types\n2023-06-29 08:18:43,104 : INFO : PROGRESS: at sentence #970000, processed 6996992 words, keeping 242980 word types\n2023-06-29 08:18:43,131 : INFO : PROGRESS: at sentence #980000, processed 7068402 words, keeping 244646 word types\n2023-06-29 08:18:43,158 : INFO : PROGRESS: at sentence #990000, processed 7140346 words, keeping 246186 word types\n2023-06-29 08:18:43,185 : INFO : PROGRESS: at sentence #1000000, processed 7211757 words, keeping 247726 word types\n2023-06-29 08:18:43,215 : INFO : PROGRESS: at sentence #1010000, processed 7283267 words, keeping 249288 word types\n2023-06-29 08:18:43,245 : INFO : PROGRESS: at sentence #1020000, processed 7355299 words, keeping 250860 word types\n2023-06-29 08:18:43,270 : INFO : PROGRESS: at sentence #1030000, processed 7426918 words, keeping 252366 word types\n2023-06-29 08:18:43,298 : INFO : PROGRESS: at sentence #1040000, processed 7498815 words, keeping 253930 word types\n2023-06-29 08:18:43,324 : INFO : PROGRESS: at sentence #1050000, processed 7570499 words, keeping 255471 word types\n2023-06-29 08:18:43,352 : INFO : PROGRESS: at sentence #1060000, processed 7643251 words, keeping 257035 word types\n2023-06-29 08:18:43,379 : INFO : PROGRESS: at sentence #1070000, processed 7714721 words, keeping 258509 word types\n2023-06-29 08:18:43,406 : INFO : PROGRESS: at sentence #1080000, processed 7787371 words, keeping 260071 word types\n2023-06-29 08:18:43,434 : INFO : PROGRESS: at sentence #1090000, processed 7859336 words, keeping 261683 word types\n2023-06-29 08:18:43,462 : INFO : PROGRESS: at sentence #1100000, processed 7932029 words, keeping 263278 word types\n2023-06-29 08:18:43,489 : INFO : PROGRESS: at sentence #1110000, processed 8004146 words, keeping 264800 word types\n2023-06-29 08:18:43,519 : INFO : PROGRESS: at sentence #1120000, processed 8075880 words, keeping 266309 word types\n2023-06-29 08:18:43,547 : INFO : PROGRESS: at sentence #1130000, processed 8148163 words, keeping 267826 word types\n2023-06-29 08:18:43,574 : INFO : PROGRESS: at sentence #1140000, processed 8220487 words, keeping 269391 word types\n2023-06-29 08:18:43,601 : INFO : PROGRESS: at sentence #1150000, processed 8292498 words, keeping 270894 word types\n2023-06-29 08:18:43,629 : INFO : PROGRESS: at sentence #1160000, processed 8363838 words, keeping 272400 word types\n2023-06-29 08:18:43,657 : INFO : PROGRESS: at sentence #1170000, processed 8435510 words, keeping 273970 word types\n2023-06-29 08:18:43,684 : INFO : PROGRESS: at sentence #1180000, processed 8507795 words, keeping 275521 word types\n2023-06-29 08:18:43,712 : INFO : PROGRESS: at sentence #1190000, processed 8579080 words, keeping 277007 word types\n2023-06-29 08:18:43,741 : INFO : PROGRESS: at sentence #1200000, processed 8650606 words, keeping 278457 word types\n2023-06-29 08:18:43,767 : INFO : PROGRESS: at sentence #1210000, processed 8721893 words, keeping 279959 word types\n2023-06-29 08:18:43,796 : INFO : PROGRESS: at sentence #1220000, processed 8793795 words, keeping 281427 word types\n2023-06-29 08:18:43,825 : INFO : PROGRESS: at sentence #1230000, processed 8865726 words, keeping 282981 word types\n2023-06-29 08:18:43,855 : INFO : PROGRESS: at sentence #1240000, processed 8938173 words, keeping 284542 word types\n2023-06-29 08:18:43,887 : INFO : PROGRESS: at sentence #1250000, processed 9010842 words, keeping 286064 word types\n2023-06-29 08:18:43,915 : INFO : PROGRESS: at sentence #1260000, processed 9083261 words, keeping 287521 word types\n2023-06-29 08:18:43,944 : INFO : PROGRESS: at sentence #1270000, processed 9155616 words, keeping 288987 word types\n2023-06-29 08:18:43,971 : INFO : collected 290418 word types from a corpus of 9227204 raw words and 1280000 sentences\n2023-06-29 08:18:43,972 : INFO : Loading a fresh vocabulary\n2023-06-29 08:18:44,250 : INFO : effective_min_count=10 retains 30369 unique words (10% of original 290418, drops 260049)\n2023-06-29 08:18:44,250 : INFO : effective_min_count=10 leaves 8780739 word corpus (95% of original 9227204, drops 446465)\n2023-06-29 08:18:44,402 : INFO : deleting the raw counts dictionary of 290418 items\n2023-06-29 08:18:44,409 : INFO : sample=0.001 downsamples 45 most-common words\n2023-06-29 08:18:44,409 : INFO : downsampling leaves estimated 8222658 word corpus (93.6% of prior 8780739)\n2023-06-29 08:18:44,520 : INFO : estimated required memory for 30369 words and 300 dimensions: 88070100 bytes\n2023-06-29 08:18:44,521 : INFO : resetting layer weights\n",
          "output_type": "stream"
        }
      ]
    },
    {
      "cell_type": "code",
      "source": [
        "words = w2v_model.wv.vocab.keys()\n",
        "vocab_size = len(words)\n",
        "print(\"Vocab size\", vocab_size)"
      ],
      "metadata": {
        "_uuid": "72a5628ca81fd4b8983c12d93ae0bf950b86b6ae",
        "execution": {
          "iopub.status.busy": "2023-06-29T08:18:45.039851Z",
          "iopub.execute_input": "2023-06-29T08:18:45.040387Z",
          "iopub.status.idle": "2023-06-29T08:18:45.074662Z",
          "shell.execute_reply.started": "2023-06-29T08:18:45.040161Z",
          "shell.execute_reply": "2023-06-29T08:18:45.073760Z"
        },
        "trusted": true,
        "id": "3A_w3N1O-fic",
        "outputId": "6a6cda32-e9b4-4f71-94b2-7f6eb4439bb0"
      },
      "execution_count": null,
      "outputs": [
        {
          "name": "stdout",
          "text": "Vocab size 30369\n",
          "output_type": "stream"
        }
      ]
    },
    {
      "cell_type": "code",
      "source": [
        "%%time\n",
        "w2v_model.train(documents, total_examples=len(documents), epochs=W2V_EPOCH)"
      ],
      "metadata": {
        "_uuid": "68c3e4a5ba07cac3dee67f78ecdd1404c7f83f14",
        "execution": {
          "iopub.status.busy": "2023-06-29T08:18:45.076005Z",
          "iopub.execute_input": "2023-06-29T08:18:45.076485Z",
          "iopub.status.idle": "2023-06-29T08:30:51.370165Z",
          "shell.execute_reply.started": "2023-06-29T08:18:45.076434Z",
          "shell.execute_reply": "2023-06-29T08:30:51.369468Z"
        },
        "trusted": true,
        "id": "UEr2yefU-fic",
        "outputId": "56fca5eb-cfd3-4313-bcc6-4c5190afc854"
      },
      "execution_count": null,
      "outputs": [
        {
          "name": "stderr",
          "text": "2023-06-29 08:18:45,089 : INFO : training model with 8 workers on 30369 vocabulary and 300 features, using sg=0 hs=0 sample=0.001 negative=5 window=7\n2023-06-29 08:18:46,108 : INFO : EPOCH 1 - PROGRESS: at 3.80% examples, 310263 words/s, in_qsize 15, out_qsize 0\n2023-06-29 08:18:47,156 : INFO : EPOCH 1 - PROGRESS: at 8.58% examples, 342823 words/s, in_qsize 13, out_qsize 3\n2023-06-29 08:18:48,176 : INFO : EPOCH 1 - PROGRESS: at 13.15% examples, 350806 words/s, in_qsize 16, out_qsize 0\n2023-06-29 08:18:49,185 : INFO : EPOCH 1 - PROGRESS: at 18.00% examples, 362138 words/s, in_qsize 15, out_qsize 0\n2023-06-29 08:18:50,198 : INFO : EPOCH 1 - PROGRESS: at 22.87% examples, 368852 words/s, in_qsize 12, out_qsize 2\n2023-06-29 08:18:51,213 : INFO : EPOCH 1 - PROGRESS: at 27.21% examples, 365873 words/s, in_qsize 15, out_qsize 0\n2023-06-29 08:18:52,228 : INFO : EPOCH 1 - PROGRESS: at 32.08% examples, 370082 words/s, in_qsize 16, out_qsize 0\n2023-06-29 08:18:53,236 : INFO : EPOCH 1 - PROGRESS: at 36.51% examples, 369101 words/s, in_qsize 15, out_qsize 0\n2023-06-29 08:18:54,240 : INFO : EPOCH 1 - PROGRESS: at 41.37% examples, 372367 words/s, in_qsize 14, out_qsize 0\n2023-06-29 08:18:55,252 : INFO : EPOCH 1 - PROGRESS: at 45.70% examples, 370372 words/s, in_qsize 14, out_qsize 2\n2023-06-29 08:18:56,263 : INFO : EPOCH 1 - PROGRESS: at 50.02% examples, 368762 words/s, in_qsize 15, out_qsize 0\n2023-06-29 08:18:57,308 : INFO : EPOCH 1 - PROGRESS: at 54.67% examples, 368619 words/s, in_qsize 16, out_qsize 0\n2023-06-29 08:18:58,311 : INFO : EPOCH 1 - PROGRESS: at 58.90% examples, 366932 words/s, in_qsize 15, out_qsize 0\n2023-06-29 08:18:59,325 : INFO : EPOCH 1 - PROGRESS: at 63.76% examples, 368939 words/s, in_qsize 13, out_qsize 2\n2023-06-29 08:19:00,349 : INFO : EPOCH 1 - PROGRESS: at 68.21% examples, 368099 words/s, in_qsize 16, out_qsize 0\n2023-06-29 08:19:01,433 : INFO : EPOCH 1 - PROGRESS: at 73.19% examples, 368734 words/s, in_qsize 15, out_qsize 0\n2023-06-29 08:19:02,447 : INFO : EPOCH 1 - PROGRESS: at 78.07% examples, 370295 words/s, in_qsize 15, out_qsize 0\n2023-06-29 08:19:03,485 : INFO : EPOCH 1 - PROGRESS: at 82.96% examples, 371178 words/s, in_qsize 16, out_qsize 0\n2023-06-29 08:19:04,502 : INFO : EPOCH 1 - PROGRESS: at 87.62% examples, 371461 words/s, in_qsize 14, out_qsize 1\n2023-06-29 08:19:05,515 : INFO : EPOCH 1 - PROGRESS: at 91.96% examples, 370464 words/s, in_qsize 12, out_qsize 3\n2023-06-29 08:19:06,589 : INFO : EPOCH 1 - PROGRESS: at 96.96% examples, 371010 words/s, in_qsize 16, out_qsize 0\n2023-06-29 08:19:07,070 : INFO : worker thread finished; awaiting finish of 7 more threads\n2023-06-29 08:19:07,071 : INFO : worker thread finished; awaiting finish of 6 more threads\n2023-06-29 08:19:07,081 : INFO : worker thread finished; awaiting finish of 5 more threads\n2023-06-29 08:19:07,083 : INFO : worker thread finished; awaiting finish of 4 more threads\n2023-06-29 08:19:07,108 : INFO : worker thread finished; awaiting finish of 3 more threads\n2023-06-29 08:19:07,114 : INFO : worker thread finished; awaiting finish of 2 more threads\n2023-06-29 08:19:07,115 : INFO : worker thread finished; awaiting finish of 1 more threads\n2023-06-29 08:19:07,128 : INFO : worker thread finished; awaiting finish of 0 more threads\n2023-06-29 08:19:07,128 : INFO : EPOCH - 1 : training on 9227204 raw words (8221920 effective words) took 22.0s, 373298 effective words/s\n2023-06-29 08:19:08,163 : INFO : EPOCH 2 - PROGRESS: at 3.69% examples, 295644 words/s, in_qsize 16, out_qsize 0\n2023-06-29 08:19:09,180 : INFO : EPOCH 2 - PROGRESS: at 8.37% examples, 336016 words/s, in_qsize 15, out_qsize 0\n2023-06-29 08:19:10,200 : INFO : EPOCH 2 - PROGRESS: at 13.04% examples, 349177 words/s, in_qsize 15, out_qsize 0\n2023-06-29 08:19:11,226 : INFO : EPOCH 2 - PROGRESS: at 17.68% examples, 355274 words/s, in_qsize 14, out_qsize 1\n2023-06-29 08:19:12,286 : INFO : EPOCH 2 - PROGRESS: at 22.33% examples, 356530 words/s, in_qsize 15, out_qsize 0\n2023-06-29 08:19:13,490 : INFO : EPOCH 2 - PROGRESS: at 25.26% examples, 326826 words/s, in_qsize 15, out_qsize 0\n2023-06-29 08:19:14,502 : INFO : EPOCH 2 - PROGRESS: at 29.05% examples, 324681 words/s, in_qsize 15, out_qsize 1\n2023-06-29 08:19:15,524 : INFO : EPOCH 2 - PROGRESS: at 34.13% examples, 334703 words/s, in_qsize 16, out_qsize 2\n2023-06-29 08:19:16,571 : INFO : EPOCH 2 - PROGRESS: at 39.11% examples, 340968 words/s, in_qsize 15, out_qsize 0\n2023-06-29 08:19:17,663 : INFO : EPOCH 2 - PROGRESS: at 43.32% examples, 338596 words/s, in_qsize 12, out_qsize 4\n2023-06-29 08:19:18,683 : INFO : EPOCH 2 - PROGRESS: at 48.29% examples, 344191 words/s, in_qsize 16, out_qsize 0\n2023-06-29 08:19:19,699 : INFO : EPOCH 2 - PROGRESS: at 52.95% examples, 346898 words/s, in_qsize 15, out_qsize 0\n2023-06-29 08:19:20,714 : INFO : EPOCH 2 - PROGRESS: at 58.03% examples, 351806 words/s, in_qsize 15, out_qsize 0\n2023-06-29 08:19:21,790 : INFO : EPOCH 2 - PROGRESS: at 62.36% examples, 350288 words/s, in_qsize 13, out_qsize 4\n2023-06-29 08:19:22,791 : INFO : EPOCH 2 - PROGRESS: at 67.34% examples, 354074 words/s, in_qsize 12, out_qsize 1\n2023-06-29 08:19:23,829 : INFO : EPOCH 2 - PROGRESS: at 71.89% examples, 354485 words/s, in_qsize 15, out_qsize 0\n2023-06-29 08:19:24,952 : INFO : EPOCH 2 - PROGRESS: at 76.88% examples, 355134 words/s, in_qsize 16, out_qsize 0\n2023-06-29 08:19:25,980 : INFO : EPOCH 2 - PROGRESS: at 81.99% examples, 357966 words/s, in_qsize 14, out_qsize 0\n2023-06-29 08:19:27,042 : INFO : EPOCH 2 - PROGRESS: at 86.42% examples, 357232 words/s, in_qsize 15, out_qsize 0\n2023-06-29 08:19:28,052 : INFO : EPOCH 2 - PROGRESS: at 90.76% examples, 356990 words/s, in_qsize 13, out_qsize 1\n2023-06-29 08:19:29,083 : INFO : EPOCH 2 - PROGRESS: at 94.90% examples, 355638 words/s, in_qsize 15, out_qsize 0\n2023-06-29 08:19:29,964 : INFO : worker thread finished; awaiting finish of 7 more threads\n2023-06-29 08:19:30,009 : INFO : worker thread finished; awaiting finish of 6 more threads\n2023-06-29 08:19:30,013 : INFO : worker thread finished; awaiting finish of 5 more threads\n2023-06-29 08:19:30,015 : INFO : worker thread finished; awaiting finish of 4 more threads\n2023-06-29 08:19:30,016 : INFO : worker thread finished; awaiting finish of 3 more threads\n2023-06-29 08:19:30,021 : INFO : worker thread finished; awaiting finish of 2 more threads\n2023-06-29 08:19:30,022 : INFO : worker thread finished; awaiting finish of 1 more threads\n2023-06-29 08:19:30,023 : INFO : worker thread finished; awaiting finish of 0 more threads\n2023-06-29 08:19:30,024 : INFO : EPOCH - 2 : training on 9227204 raw words (8223828 effective words) took 22.9s, 359353 effective words/s\n2023-06-29 08:19:31,104 : INFO : EPOCH 3 - PROGRESS: at 4.01% examples, 308262 words/s, in_qsize 15, out_qsize 0\n2023-06-29 08:19:32,122 : INFO : EPOCH 3 - PROGRESS: at 9.12% examples, 358496 words/s, in_qsize 15, out_qsize 0\n2023-06-29 08:19:33,160 : INFO : EPOCH 3 - PROGRESS: at 13.79% examples, 361990 words/s, in_qsize 15, out_qsize 0\n2023-06-29 08:19:34,183 : INFO : EPOCH 3 - PROGRESS: at 18.22% examples, 360630 words/s, in_qsize 13, out_qsize 2\n2023-06-29 08:19:35,235 : INFO : EPOCH 3 - PROGRESS: at 22.98% examples, 363135 words/s, in_qsize 16, out_qsize 0\n2023-06-29 08:19:36,269 : INFO : EPOCH 3 - PROGRESS: at 27.96% examples, 368673 words/s, in_qsize 15, out_qsize 1\n2023-06-29 08:19:37,329 : INFO : EPOCH 3 - PROGRESS: at 32.41% examples, 365143 words/s, in_qsize 15, out_qsize 0\n2023-06-29 08:19:38,341 : INFO : EPOCH 3 - PROGRESS: at 36.83% examples, 364604 words/s, in_qsize 14, out_qsize 2\n2023-06-29 08:19:39,381 : INFO : EPOCH 3 - PROGRESS: at 41.48% examples, 365030 words/s, in_qsize 14, out_qsize 1\n2023-06-29 08:19:40,426 : INFO : EPOCH 3 - PROGRESS: at 46.35% examples, 366904 words/s, in_qsize 13, out_qsize 2\n2023-06-29 08:19:41,519 : INFO : EPOCH 3 - PROGRESS: at 51.10% examples, 366138 words/s, in_qsize 15, out_qsize 2\n2023-06-29 08:19:42,575 : INFO : EPOCH 3 - PROGRESS: at 55.97% examples, 367833 words/s, in_qsize 15, out_qsize 0\n2023-06-29 08:19:43,728 : INFO : EPOCH 3 - PROGRESS: at 60.96% examples, 367267 words/s, in_qsize 16, out_qsize 4\n2023-06-29 08:19:44,790 : INFO : EPOCH 3 - PROGRESS: at 65.27% examples, 364106 words/s, in_qsize 16, out_qsize 2\n2023-06-29 08:19:45,917 : INFO : EPOCH 3 - PROGRESS: at 68.21% examples, 353411 words/s, in_qsize 15, out_qsize 1\n2023-06-29 08:19:46,980 : INFO : EPOCH 3 - PROGRESS: at 72.32% examples, 351218 words/s, in_qsize 15, out_qsize 0\n2023-06-29 08:19:48,065 : INFO : EPOCH 3 - PROGRESS: at 77.09% examples, 351788 words/s, in_qsize 16, out_qsize 0\n2023-06-29 08:19:49,099 : INFO : EPOCH 3 - PROGRESS: at 81.99% examples, 353741 words/s, in_qsize 16, out_qsize 0\n2023-06-29 08:19:50,143 : INFO : EPOCH 3 - PROGRESS: at 86.96% examples, 355763 words/s, in_qsize 16, out_qsize 0\n2023-06-29 08:19:51,174 : INFO : EPOCH 3 - PROGRESS: at 90.98% examples, 354292 words/s, in_qsize 15, out_qsize 2\n2023-06-29 08:19:52,277 : INFO : EPOCH 3 - PROGRESS: at 95.98% examples, 355257 words/s, in_qsize 15, out_qsize 4\n2023-06-29 08:19:52,841 : INFO : worker thread finished; awaiting finish of 7 more threads\n2023-06-29 08:19:52,852 : INFO : worker thread finished; awaiting finish of 6 more threads\n2023-06-29 08:19:52,887 : INFO : worker thread finished; awaiting finish of 5 more threads\n2023-06-29 08:19:52,909 : INFO : worker thread finished; awaiting finish of 4 more threads\n2023-06-29 08:19:52,915 : INFO : worker thread finished; awaiting finish of 3 more threads\n2023-06-29 08:19:52,924 : INFO : worker thread finished; awaiting finish of 2 more threads\n2023-06-29 08:19:52,928 : INFO : worker thread finished; awaiting finish of 1 more threads\n2023-06-29 08:19:52,930 : INFO : worker thread finished; awaiting finish of 0 more threads\n2023-06-29 08:19:52,931 : INFO : EPOCH - 3 : training on 9227204 raw words (8223349 effective words) took 22.9s, 359160 effective words/s\n2023-06-29 08:19:53,964 : INFO : EPOCH 4 - PROGRESS: at 3.91% examples, 313917 words/s, in_qsize 15, out_qsize 1\n2023-06-29 08:19:54,976 : INFO : EPOCH 4 - PROGRESS: at 8.91% examples, 359214 words/s, in_qsize 15, out_qsize 0\n2023-06-29 08:19:55,983 : INFO : EPOCH 4 - PROGRESS: at 13.68% examples, 369189 words/s, in_qsize 14, out_qsize 0\n2023-06-29 08:19:57,117 : INFO : EPOCH 4 - PROGRESS: at 18.32% examples, 360536 words/s, in_qsize 14, out_qsize 1\n2023-06-29 08:19:58,121 : INFO : EPOCH 4 - PROGRESS: at 22.98% examples, 364638 words/s, in_qsize 16, out_qsize 0\n2023-06-29 08:19:59,136 : INFO : EPOCH 4 - PROGRESS: at 27.20% examples, 360963 words/s, in_qsize 14, out_qsize 0\n2023-06-29 08:20:00,188 : INFO : EPOCH 4 - PROGRESS: at 31.65% examples, 359010 words/s, in_qsize 15, out_qsize 0\n2023-06-29 08:20:01,214 : INFO : EPOCH 4 - PROGRESS: at 36.08% examples, 358623 words/s, in_qsize 15, out_qsize 0\n2023-06-29 08:20:02,229 : INFO : EPOCH 4 - PROGRESS: at 40.73% examples, 360664 words/s, in_qsize 16, out_qsize 0\n2023-06-29 08:20:03,258 : INFO : EPOCH 4 - PROGRESS: at 45.48% examples, 362679 words/s, in_qsize 15, out_qsize 0\n2023-06-29 08:20:04,282 : INFO : EPOCH 4 - PROGRESS: at 50.35% examples, 365308 words/s, in_qsize 13, out_qsize 2\n2023-06-29 08:20:05,312 : INFO : EPOCH 4 - PROGRESS: at 55.32% examples, 368024 words/s, in_qsize 15, out_qsize 0\n2023-06-29 08:20:06,314 : INFO : EPOCH 4 - PROGRESS: at 59.98% examples, 369105 words/s, in_qsize 15, out_qsize 0\n2023-06-29 08:20:07,314 : INFO : EPOCH 4 - PROGRESS: at 63.75% examples, 365090 words/s, in_qsize 15, out_qsize 0\n2023-06-29 08:20:08,329 : INFO : EPOCH 4 - PROGRESS: at 68.75% examples, 367641 words/s, in_qsize 15, out_qsize 0\n2023-06-29 08:20:09,332 : INFO : EPOCH 4 - PROGRESS: at 73.30% examples, 367967 words/s, in_qsize 15, out_qsize 0\n2023-06-29 08:20:10,385 : INFO : EPOCH 4 - PROGRESS: at 77.42% examples, 365568 words/s, in_qsize 16, out_qsize 2\n2023-06-29 08:20:11,365 : INFO : EPOCH 4 - PROGRESS: at 82.21% examples, 366990 words/s, in_qsize 13, out_qsize 3\n2023-06-29 08:20:12,407 : INFO : EPOCH 4 - PROGRESS: at 86.96% examples, 367476 words/s, in_qsize 11, out_qsize 3\n2023-06-29 08:20:13,418 : INFO : EPOCH 4 - PROGRESS: at 91.63% examples, 368025 words/s, in_qsize 14, out_qsize 1\n2023-06-29 08:20:14,600 : INFO : EPOCH 4 - PROGRESS: at 96.42% examples, 366161 words/s, in_qsize 15, out_qsize 8\n2023-06-29 08:20:15,035 : INFO : worker thread finished; awaiting finish of 7 more threads\n2023-06-29 08:20:15,039 : INFO : worker thread finished; awaiting finish of 6 more threads\n2023-06-29 08:20:15,063 : INFO : worker thread finished; awaiting finish of 5 more threads\n2023-06-29 08:20:15,109 : INFO : worker thread finished; awaiting finish of 4 more threads\n2023-06-29 08:20:15,122 : INFO : worker thread finished; awaiting finish of 3 more threads\n2023-06-29 08:20:15,129 : INFO : worker thread finished; awaiting finish of 2 more threads\n2023-06-29 08:20:15,133 : INFO : worker thread finished; awaiting finish of 1 more threads\n2023-06-29 08:20:15,134 : INFO : worker thread finished; awaiting finish of 0 more threads\n2023-06-29 08:20:15,135 : INFO : EPOCH - 4 : training on 9227204 raw words (8221696 effective words) took 22.2s, 370472 effective words/s\n2023-06-29 08:20:16,165 : INFO : EPOCH 5 - PROGRESS: at 3.91% examples, 314062 words/s, in_qsize 14, out_qsize 1\n2023-06-29 08:20:17,211 : INFO : EPOCH 5 - PROGRESS: at 6.95% examples, 275815 words/s, in_qsize 14, out_qsize 7\n2023-06-29 08:20:18,376 : INFO : EPOCH 5 - PROGRESS: at 9.88% examples, 250864 words/s, in_qsize 10, out_qsize 5\n2023-06-29 08:20:19,406 : INFO : EPOCH 5 - PROGRESS: at 14.65% examples, 282137 words/s, in_qsize 15, out_qsize 3\n2023-06-29 08:20:20,455 : INFO : EPOCH 5 - PROGRESS: at 19.62% examples, 303462 words/s, in_qsize 13, out_qsize 2\n2023-06-29 08:20:21,457 : INFO : EPOCH 5 - PROGRESS: at 24.39% examples, 317487 words/s, in_qsize 14, out_qsize 1\n2023-06-29 08:20:22,479 : INFO : EPOCH 5 - PROGRESS: at 28.72% examples, 321798 words/s, in_qsize 15, out_qsize 5\n2023-06-29 08:20:23,484 : INFO : EPOCH 5 - PROGRESS: at 33.92% examples, 334240 words/s, in_qsize 12, out_qsize 1\n2023-06-29 08:20:24,556 : INFO : EPOCH 5 - PROGRESS: at 38.46% examples, 335939 words/s, in_qsize 15, out_qsize 0\n2023-06-29 08:20:25,693 : INFO : EPOCH 5 - PROGRESS: at 43.54% examples, 339595 words/s, in_qsize 15, out_qsize 1\n2023-06-29 08:20:26,694 : INFO : EPOCH 5 - PROGRESS: at 48.62% examples, 346249 words/s, in_qsize 15, out_qsize 0\n2023-06-29 08:20:27,695 : INFO : EPOCH 5 - PROGRESS: at 52.62% examples, 344903 words/s, in_qsize 15, out_qsize 1\n2023-06-29 08:20:28,768 : INFO : EPOCH 5 - PROGRESS: at 56.84% examples, 343267 words/s, in_qsize 13, out_qsize 2\n2023-06-29 08:20:29,778 : INFO : EPOCH 5 - PROGRESS: at 61.61% examples, 346365 words/s, in_qsize 16, out_qsize 0\n2023-06-29 08:20:30,783 : INFO : EPOCH 5 - PROGRESS: at 65.71% examples, 345739 words/s, in_qsize 14, out_qsize 3\n2023-06-29 08:20:31,856 : INFO : EPOCH 5 - PROGRESS: at 70.37% examples, 346457 words/s, in_qsize 13, out_qsize 4\n2023-06-29 08:20:32,890 : INFO : EPOCH 5 - PROGRESS: at 75.46% examples, 349871 words/s, in_qsize 14, out_qsize 1\n2023-06-29 08:20:34,000 : INFO : EPOCH 5 - PROGRESS: at 80.47% examples, 350988 words/s, in_qsize 14, out_qsize 1\n2023-06-29 08:20:35,044 : INFO : EPOCH 5 - PROGRESS: at 85.34% examples, 352724 words/s, in_qsize 15, out_qsize 0\n2023-06-29 08:20:36,100 : INFO : EPOCH 5 - PROGRESS: at 90.21% examples, 354072 words/s, in_qsize 16, out_qsize 0\n2023-06-29 08:20:37,117 : INFO : EPOCH 5 - PROGRESS: at 95.01% examples, 355495 words/s, in_qsize 15, out_qsize 0\n2023-06-29 08:20:38,171 : INFO : EPOCH 5 - PROGRESS: at 99.01% examples, 353539 words/s, in_qsize 8, out_qsize 2\n2023-06-29 08:20:38,188 : INFO : worker thread finished; awaiting finish of 7 more threads\n2023-06-29 08:20:38,202 : INFO : worker thread finished; awaiting finish of 6 more threads\n2023-06-29 08:20:38,226 : INFO : worker thread finished; awaiting finish of 5 more threads\n2023-06-29 08:20:38,227 : INFO : worker thread finished; awaiting finish of 4 more threads\n2023-06-29 08:20:38,248 : INFO : worker thread finished; awaiting finish of 3 more threads\n2023-06-29 08:20:38,251 : INFO : worker thread finished; awaiting finish of 2 more threads\n2023-06-29 08:20:38,266 : INFO : worker thread finished; awaiting finish of 1 more threads\n2023-06-29 08:20:38,268 : INFO : worker thread finished; awaiting finish of 0 more threads\n2023-06-29 08:20:38,269 : INFO : EPOCH - 5 : training on 9227204 raw words (8222006 effective words) took 23.1s, 355545 effective words/s\n2023-06-29 08:20:39,301 : INFO : EPOCH 6 - PROGRESS: at 3.69% examples, 296288 words/s, in_qsize 13, out_qsize 2\n2023-06-29 08:20:40,322 : INFO : EPOCH 6 - PROGRESS: at 8.47% examples, 340004 words/s, in_qsize 15, out_qsize 0\n2023-06-29 08:20:41,360 : INFO : EPOCH 6 - PROGRESS: at 13.25% examples, 352613 words/s, in_qsize 15, out_qsize 0\n2023-06-29 08:20:42,418 : INFO : EPOCH 6 - PROGRESS: at 18.00% examples, 357098 words/s, in_qsize 15, out_qsize 0\n2023-06-29 08:20:43,462 : INFO : EPOCH 6 - PROGRESS: at 22.65% examples, 359141 words/s, in_qsize 14, out_qsize 0\n2023-06-29 08:20:44,469 : INFO : EPOCH 6 - PROGRESS: at 27.32% examples, 362608 words/s, in_qsize 15, out_qsize 0\n2023-06-29 08:20:45,530 : INFO : EPOCH 6 - PROGRESS: at 31.86% examples, 361200 words/s, in_qsize 15, out_qsize 0\n2023-06-29 08:20:46,560 : INFO : EPOCH 6 - PROGRESS: at 36.83% examples, 365716 words/s, in_qsize 16, out_qsize 0\n2023-06-29 08:20:47,596 : INFO : EPOCH 6 - PROGRESS: at 40.73% examples, 359452 words/s, in_qsize 15, out_qsize 0\n2023-06-29 08:20:48,615 : INFO : EPOCH 6 - PROGRESS: at 45.37% examples, 361050 words/s, in_qsize 14, out_qsize 1\n2023-06-29 08:20:49,790 : INFO : EPOCH 6 - PROGRESS: at 48.51% examples, 346655 words/s, in_qsize 12, out_qsize 3\n2023-06-29 08:20:50,835 : INFO : EPOCH 6 - PROGRESS: at 51.96% examples, 340544 words/s, in_qsize 15, out_qsize 0\n2023-06-29 08:20:51,914 : INFO : EPOCH 6 - PROGRESS: at 56.30% examples, 339735 words/s, in_qsize 15, out_qsize 0\n2023-06-29 08:20:52,935 : INFO : EPOCH 6 - PROGRESS: at 61.28% examples, 344021 words/s, in_qsize 15, out_qsize 0\n2023-06-29 08:20:53,937 : INFO : EPOCH 6 - PROGRESS: at 65.72% examples, 345319 words/s, in_qsize 12, out_qsize 0\n2023-06-29 08:20:54,997 : INFO : EPOCH 6 - PROGRESS: at 70.05% examples, 344745 words/s, in_qsize 14, out_qsize 1\n2023-06-29 08:20:55,999 : INFO : EPOCH 6 - PROGRESS: at 74.37% examples, 345357 words/s, in_qsize 12, out_qsize 5\n2023-06-29 08:20:57,008 : INFO : EPOCH 6 - PROGRESS: at 79.27% examples, 348148 words/s, in_qsize 15, out_qsize 0\n2023-06-29 08:20:58,012 : INFO : EPOCH 6 - PROGRESS: at 83.50% examples, 348053 words/s, in_qsize 14, out_qsize 1\n2023-06-29 08:20:59,031 : INFO : EPOCH 6 - PROGRESS: at 87.51% examples, 346834 words/s, in_qsize 13, out_qsize 2\n2023-06-29 08:21:00,041 : INFO : EPOCH 6 - PROGRESS: at 92.17% examples, 348298 words/s, in_qsize 15, out_qsize 0\n2023-06-29 08:21:01,059 : INFO : EPOCH 6 - PROGRESS: at 96.75% examples, 349161 words/s, in_qsize 14, out_qsize 2\n2023-06-29 08:21:01,541 : INFO : worker thread finished; awaiting finish of 7 more threads\n2023-06-29 08:21:01,570 : INFO : worker thread finished; awaiting finish of 6 more threads\n2023-06-29 08:21:01,590 : INFO : worker thread finished; awaiting finish of 5 more threads\n2023-06-29 08:21:01,611 : INFO : worker thread finished; awaiting finish of 4 more threads\n2023-06-29 08:21:01,619 : INFO : worker thread finished; awaiting finish of 3 more threads\n2023-06-29 08:21:01,621 : INFO : worker thread finished; awaiting finish of 2 more threads\n2023-06-29 08:21:01,634 : INFO : worker thread finished; awaiting finish of 1 more threads\n2023-06-29 08:21:01,638 : INFO : worker thread finished; awaiting finish of 0 more threads\n2023-06-29 08:21:01,639 : INFO : EPOCH - 6 : training on 9227204 raw words (8222472 effective words) took 23.4s, 351968 effective words/s\n2023-06-29 08:21:02,673 : INFO : EPOCH 7 - PROGRESS: at 4.13% examples, 330538 words/s, in_qsize 16, out_qsize 0\n2023-06-29 08:21:03,681 : INFO : EPOCH 7 - PROGRESS: at 8.47% examples, 342143 words/s, in_qsize 15, out_qsize 0\n2023-06-29 08:21:04,681 : INFO : EPOCH 7 - PROGRESS: at 12.93% examples, 349714 words/s, in_qsize 12, out_qsize 3\n2023-06-29 08:21:05,721 : INFO : EPOCH 7 - PROGRESS: at 17.68% examples, 356610 words/s, in_qsize 13, out_qsize 2\n2023-06-29 08:21:06,721 : INFO : EPOCH 7 - PROGRESS: at 22.54% examples, 365307 words/s, in_qsize 12, out_qsize 3\n2023-06-29 08:21:07,746 : INFO : EPOCH 7 - PROGRESS: at 26.67% examples, 359431 words/s, in_qsize 16, out_qsize 1\n2023-06-29 08:21:08,817 : INFO : EPOCH 7 - PROGRESS: at 31.10% examples, 356656 words/s, in_qsize 15, out_qsize 0\n2023-06-29 08:21:09,818 : INFO : EPOCH 7 - PROGRESS: at 35.54% examples, 357667 words/s, in_qsize 15, out_qsize 0\n2023-06-29 08:21:10,843 : INFO : EPOCH 7 - PROGRESS: at 40.62% examples, 363294 words/s, in_qsize 12, out_qsize 0\n2023-06-29 08:21:11,881 : INFO : EPOCH 7 - PROGRESS: at 44.94% examples, 361295 words/s, in_qsize 15, out_qsize 0\n2023-06-29 08:21:12,899 : INFO : EPOCH 7 - PROGRESS: at 49.81% examples, 364242 words/s, in_qsize 15, out_qsize 0\n2023-06-29 08:21:13,971 : INFO : EPOCH 7 - PROGRESS: at 54.46% examples, 363690 words/s, in_qsize 15, out_qsize 0\n2023-06-29 08:21:15,060 : INFO : EPOCH 7 - PROGRESS: at 59.23% examples, 363388 words/s, in_qsize 13, out_qsize 3\n2023-06-29 08:21:16,061 : INFO : EPOCH 7 - PROGRESS: at 63.87% examples, 364706 words/s, in_qsize 12, out_qsize 1\n2023-06-29 08:21:17,067 : INFO : EPOCH 7 - PROGRESS: at 68.64% examples, 366339 words/s, in_qsize 11, out_qsize 1\n2023-06-29 08:21:18,195 : INFO : EPOCH 7 - PROGRESS: at 72.86% examples, 362366 words/s, in_qsize 10, out_qsize 5\n2023-06-29 08:21:19,226 : INFO : EPOCH 7 - PROGRESS: at 77.74% examples, 363922 words/s, in_qsize 15, out_qsize 0\n2023-06-29 08:21:20,260 : INFO : EPOCH 7 - PROGRESS: at 82.85% examples, 366194 words/s, in_qsize 15, out_qsize 0\n2023-06-29 08:21:21,314 : INFO : EPOCH 7 - PROGRESS: at 86.42% examples, 361509 words/s, in_qsize 13, out_qsize 2\n2023-06-29 08:21:22,419 : INFO : EPOCH 7 - PROGRESS: at 89.23% examples, 353434 words/s, in_qsize 15, out_qsize 0\n2023-06-29 08:21:23,426 : INFO : EPOCH 7 - PROGRESS: at 93.70% examples, 353827 words/s, in_qsize 15, out_qsize 0\n2023-06-29 08:21:24,447 : INFO : EPOCH 7 - PROGRESS: at 97.93% examples, 353221 words/s, in_qsize 15, out_qsize 0\n2023-06-29 08:21:24,745 : INFO : worker thread finished; awaiting finish of 7 more threads\n2023-06-29 08:21:24,759 : INFO : worker thread finished; awaiting finish of 6 more threads\n2023-06-29 08:21:24,761 : INFO : worker thread finished; awaiting finish of 5 more threads\n2023-06-29 08:21:24,762 : INFO : worker thread finished; awaiting finish of 4 more threads\n2023-06-29 08:21:24,763 : INFO : worker thread finished; awaiting finish of 3 more threads\n2023-06-29 08:21:24,765 : INFO : worker thread finished; awaiting finish of 2 more threads\n2023-06-29 08:21:24,769 : INFO : worker thread finished; awaiting finish of 1 more threads\n2023-06-29 08:21:24,792 : INFO : worker thread finished; awaiting finish of 0 more threads\n2023-06-29 08:21:24,793 : INFO : EPOCH - 7 : training on 9227204 raw words (8222598 effective words) took 23.1s, 355301 effective words/s\n2023-06-29 08:21:25,808 : INFO : EPOCH 8 - PROGRESS: at 3.69% examples, 302436 words/s, in_qsize 12, out_qsize 3\n2023-06-29 08:21:26,816 : INFO : EPOCH 8 - PROGRESS: at 8.69% examples, 354705 words/s, in_qsize 14, out_qsize 0\n2023-06-29 08:21:27,944 : INFO : EPOCH 8 - PROGRESS: at 12.93% examples, 337891 words/s, in_qsize 15, out_qsize 0\n2023-06-29 08:21:28,953 : INFO : EPOCH 8 - PROGRESS: at 17.78% examples, 352261 words/s, in_qsize 15, out_qsize 0\n2023-06-29 08:21:29,965 : INFO : EPOCH 8 - PROGRESS: at 22.22% examples, 354033 words/s, in_qsize 15, out_qsize 0\n2023-06-29 08:21:30,974 : INFO : EPOCH 8 - PROGRESS: at 27.10% examples, 361100 words/s, in_qsize 11, out_qsize 1\n2023-06-29 08:21:32,014 : INFO : EPOCH 8 - PROGRESS: at 31.76% examples, 362137 words/s, in_qsize 14, out_qsize 1\n2023-06-29 08:21:33,117 : INFO : EPOCH 8 - PROGRESS: at 36.51% examples, 361218 words/s, in_qsize 15, out_qsize 0\n2023-06-29 08:21:34,177 : INFO : EPOCH 8 - PROGRESS: at 41.05% examples, 360294 words/s, in_qsize 16, out_qsize 0\n2023-06-29 08:21:35,185 : INFO : EPOCH 8 - PROGRESS: at 45.70% examples, 362233 words/s, in_qsize 14, out_qsize 1\n2023-06-29 08:21:36,192 : INFO : EPOCH 8 - PROGRESS: at 50.67% examples, 366201 words/s, in_qsize 16, out_qsize 1\n2023-06-29 08:21:37,194 : INFO : EPOCH 8 - PROGRESS: at 54.99% examples, 365356 words/s, in_qsize 16, out_qsize 0\n2023-06-29 08:21:38,263 : INFO : EPOCH 8 - PROGRESS: at 59.34% examples, 362833 words/s, in_qsize 15, out_qsize 0\n2023-06-29 08:21:39,276 : INFO : EPOCH 8 - PROGRESS: at 64.08% examples, 364492 words/s, in_qsize 15, out_qsize 0\n2023-06-29 08:21:40,343 : INFO : EPOCH 8 - PROGRESS: at 68.85% examples, 364699 words/s, in_qsize 15, out_qsize 0\n2023-06-29 08:21:41,354 : INFO : EPOCH 8 - PROGRESS: at 73.41% examples, 365003 words/s, in_qsize 14, out_qsize 1\n2023-06-29 08:21:42,432 : INFO : EPOCH 8 - PROGRESS: at 78.40% examples, 365910 words/s, in_qsize 15, out_qsize 1\n2023-06-29 08:21:43,437 : INFO : EPOCH 8 - PROGRESS: at 82.96% examples, 366264 words/s, in_qsize 16, out_qsize 0\n2023-06-29 08:21:44,438 : INFO : EPOCH 8 - PROGRESS: at 87.51% examples, 366645 words/s, in_qsize 14, out_qsize 0\n2023-06-29 08:21:45,480 : INFO : EPOCH 8 - PROGRESS: at 92.28% examples, 367175 words/s, in_qsize 16, out_qsize 0\n2023-06-29 08:21:46,505 : INFO : EPOCH 8 - PROGRESS: at 96.85% examples, 366999 words/s, in_qsize 15, out_qsize 1\n2023-06-29 08:21:47,013 : INFO : worker thread finished; awaiting finish of 7 more threads\n2023-06-29 08:21:47,056 : INFO : worker thread finished; awaiting finish of 6 more threads\n2023-06-29 08:21:47,072 : INFO : worker thread finished; awaiting finish of 5 more threads\n2023-06-29 08:21:47,093 : INFO : worker thread finished; awaiting finish of 4 more threads\n2023-06-29 08:21:47,105 : INFO : worker thread finished; awaiting finish of 3 more threads\n2023-06-29 08:21:47,122 : INFO : worker thread finished; awaiting finish of 2 more threads\n2023-06-29 08:21:47,132 : INFO : worker thread finished; awaiting finish of 1 more threads\n2023-06-29 08:21:47,136 : INFO : worker thread finished; awaiting finish of 0 more threads\n2023-06-29 08:21:47,137 : INFO : EPOCH - 8 : training on 9227204 raw words (8222608 effective words) took 22.3s, 368220 effective words/s\n2023-06-29 08:21:48,156 : INFO : EPOCH 9 - PROGRESS: at 3.91% examples, 318169 words/s, in_qsize 15, out_qsize 0\n2023-06-29 08:21:49,169 : INFO : EPOCH 9 - PROGRESS: at 8.37% examples, 339449 words/s, in_qsize 16, out_qsize 0\n2023-06-29 08:21:50,188 : INFO : EPOCH 9 - PROGRESS: at 12.93% examples, 348791 words/s, in_qsize 15, out_qsize 0\n2023-06-29 08:21:51,199 : INFO : EPOCH 9 - PROGRESS: at 17.35% examples, 351774 words/s, in_qsize 13, out_qsize 2\n2023-06-29 08:21:52,214 : INFO : EPOCH 9 - PROGRESS: at 21.79% examples, 353452 words/s, in_qsize 15, out_qsize 0\n2023-06-29 08:21:53,407 : INFO : EPOCH 9 - PROGRESS: at 26.56% examples, 348661 words/s, in_qsize 15, out_qsize 0\n2023-06-29 08:21:54,480 : INFO : EPOCH 9 - PROGRESS: at 29.26% examples, 328054 words/s, in_qsize 15, out_qsize 0\n2023-06-29 08:21:55,546 : INFO : EPOCH 9 - PROGRESS: at 33.59% examples, 328806 words/s, in_qsize 15, out_qsize 0\n2023-06-29 08:21:56,547 : INFO : EPOCH 9 - PROGRESS: at 37.92% examples, 331709 words/s, in_qsize 13, out_qsize 2\n2023-06-29 08:21:57,555 : INFO : EPOCH 9 - PROGRESS: at 42.03% examples, 332102 words/s, in_qsize 15, out_qsize 2\n2023-06-29 08:21:58,584 : INFO : EPOCH 9 - PROGRESS: at 46.57% examples, 334943 words/s, in_qsize 15, out_qsize 0\n2023-06-29 08:21:59,746 : INFO : EPOCH 9 - PROGRESS: at 51.64% examples, 337303 words/s, in_qsize 14, out_qsize 1\n2023-06-29 08:22:00,754 : INFO : EPOCH 9 - PROGRESS: at 56.40% examples, 341109 words/s, in_qsize 14, out_qsize 1\n2023-06-29 08:22:01,780 : INFO : EPOCH 9 - PROGRESS: at 61.28% examples, 344613 words/s, in_qsize 15, out_qsize 0\n2023-06-29 08:22:02,808 : INFO : EPOCH 9 - PROGRESS: at 65.71% examples, 345268 words/s, in_qsize 15, out_qsize 0\n2023-06-29 08:22:03,830 : INFO : EPOCH 9 - PROGRESS: at 70.37% examples, 347105 words/s, in_qsize 15, out_qsize 1\n2023-06-29 08:22:04,915 : INFO : EPOCH 9 - PROGRESS: at 75.13% examples, 347958 words/s, in_qsize 14, out_qsize 3\n2023-06-29 08:22:05,932 : INFO : EPOCH 9 - PROGRESS: at 80.03% examples, 350453 words/s, in_qsize 16, out_qsize 1\n2023-06-29 08:22:06,940 : INFO : EPOCH 9 - PROGRESS: at 84.80% examples, 352394 words/s, in_qsize 11, out_qsize 0\n2023-06-29 08:22:07,944 : INFO : EPOCH 9 - PROGRESS: at 88.59% examples, 350377 words/s, in_qsize 15, out_qsize 0\n2023-06-29 08:22:08,977 : INFO : EPOCH 9 - PROGRESS: at 93.48% examples, 352124 words/s, in_qsize 13, out_qsize 0\n2023-06-29 08:22:09,987 : INFO : EPOCH 9 - PROGRESS: at 98.04% examples, 352930 words/s, in_qsize 14, out_qsize 1\n2023-06-29 08:22:10,219 : INFO : worker thread finished; awaiting finish of 7 more threads\n2023-06-29 08:22:10,229 : INFO : worker thread finished; awaiting finish of 6 more threads\n2023-06-29 08:22:10,233 : INFO : worker thread finished; awaiting finish of 5 more threads\n2023-06-29 08:22:10,238 : INFO : worker thread finished; awaiting finish of 4 more threads\n2023-06-29 08:22:10,261 : INFO : worker thread finished; awaiting finish of 3 more threads\n2023-06-29 08:22:10,277 : INFO : worker thread finished; awaiting finish of 2 more threads\n2023-06-29 08:22:10,287 : INFO : worker thread finished; awaiting finish of 1 more threads\n2023-06-29 08:22:10,292 : INFO : worker thread finished; awaiting finish of 0 more threads\n2023-06-29 08:22:10,293 : INFO : EPOCH - 9 : training on 9227204 raw words (8221830 effective words) took 23.1s, 355240 effective words/s\n2023-06-29 08:22:11,309 : INFO : EPOCH 10 - PROGRESS: at 4.23% examples, 346437 words/s, in_qsize 13, out_qsize 0\n2023-06-29 08:22:12,330 : INFO : EPOCH 10 - PROGRESS: at 8.58% examples, 347845 words/s, in_qsize 15, out_qsize 0\n2023-06-29 08:22:13,418 : INFO : EPOCH 10 - PROGRESS: at 13.25% examples, 349346 words/s, in_qsize 15, out_qsize 0\n2023-06-29 08:22:14,441 : INFO : EPOCH 10 - PROGRESS: at 18.00% examples, 357628 words/s, in_qsize 15, out_qsize 0\n2023-06-29 08:22:15,447 : INFO : EPOCH 10 - PROGRESS: at 22.44% examples, 358689 words/s, in_qsize 15, out_qsize 0\n2023-06-29 08:22:16,459 : INFO : EPOCH 10 - PROGRESS: at 27.10% examples, 361959 words/s, in_qsize 14, out_qsize 0\n2023-06-29 08:22:17,482 : INFO : EPOCH 10 - PROGRESS: at 30.99% examples, 355100 words/s, in_qsize 13, out_qsize 3\n2023-06-29 08:22:18,540 : INFO : EPOCH 10 - PROGRESS: at 35.75% examples, 357044 words/s, in_qsize 14, out_qsize 3\n2023-06-29 08:22:19,688 : INFO : EPOCH 10 - PROGRESS: at 40.94% examples, 358940 words/s, in_qsize 13, out_qsize 5\n2023-06-29 08:22:20,717 : INFO : EPOCH 10 - PROGRESS: at 46.02% examples, 363697 words/s, in_qsize 15, out_qsize 0\n2023-06-29 08:22:21,717 : INFO : EPOCH 10 - PROGRESS: at 50.78% examples, 366174 words/s, in_qsize 12, out_qsize 2\n2023-06-29 08:22:22,731 : INFO : EPOCH 10 - PROGRESS: at 55.64% examples, 368589 words/s, in_qsize 14, out_qsize 0\n2023-06-29 08:22:23,803 : INFO : EPOCH 10 - PROGRESS: at 60.30% examples, 367701 words/s, in_qsize 13, out_qsize 2\n2023-06-29 08:22:24,897 : INFO : EPOCH 10 - PROGRESS: at 65.38% examples, 368839 words/s, in_qsize 15, out_qsize 0\n2023-06-29 08:22:26,050 : INFO : EPOCH 10 - PROGRESS: at 68.64% examples, 358791 words/s, in_qsize 14, out_qsize 1\n2023-06-29 08:22:27,059 : INFO : EPOCH 10 - PROGRESS: at 71.67% examples, 352076 words/s, in_qsize 16, out_qsize 0\n2023-06-29 08:22:28,138 : INFO : EPOCH 10 - PROGRESS: at 75.89% examples, 350333 words/s, in_qsize 15, out_qsize 1\n2023-06-29 08:22:29,180 : INFO : EPOCH 10 - PROGRESS: at 80.80% examples, 352129 words/s, in_qsize 16, out_qsize 1\n2023-06-29 08:22:30,182 : INFO : EPOCH 10 - PROGRESS: at 85.77% examples, 354983 words/s, in_qsize 16, out_qsize 0\n2023-06-29 08:22:31,245 : INFO : EPOCH 10 - PROGRESS: at 90.33% examples, 354823 words/s, in_qsize 14, out_qsize 1\n2023-06-29 08:22:32,256 : INFO : EPOCH 10 - PROGRESS: at 95.23% examples, 356731 words/s, in_qsize 14, out_qsize 0\n2023-06-29 08:22:33,106 : INFO : worker thread finished; awaiting finish of 7 more threads\n2023-06-29 08:22:33,110 : INFO : worker thread finished; awaiting finish of 6 more threads\n2023-06-29 08:22:33,138 : INFO : worker thread finished; awaiting finish of 5 more threads\n2023-06-29 08:22:33,158 : INFO : worker thread finished; awaiting finish of 4 more threads\n2023-06-29 08:22:33,163 : INFO : worker thread finished; awaiting finish of 3 more threads\n2023-06-29 08:22:33,188 : INFO : worker thread finished; awaiting finish of 2 more threads\n2023-06-29 08:22:33,193 : INFO : worker thread finished; awaiting finish of 1 more threads\n2023-06-29 08:22:33,200 : INFO : worker thread finished; awaiting finish of 0 more threads\n2023-06-29 08:22:33,201 : INFO : EPOCH - 10 : training on 9227204 raw words (8222558 effective words) took 22.9s, 359171 effective words/s\n2023-06-29 08:22:34,314 : INFO : EPOCH 11 - PROGRESS: at 4.34% examples, 322735 words/s, in_qsize 14, out_qsize 1\n2023-06-29 08:22:35,321 : INFO : EPOCH 11 - PROGRESS: at 9.23% examples, 358817 words/s, in_qsize 15, out_qsize 1\n2023-06-29 08:22:36,358 : INFO : EPOCH 11 - PROGRESS: at 13.68% examples, 356629 words/s, in_qsize 11, out_qsize 4\n2023-06-29 08:22:37,359 : INFO : EPOCH 11 - PROGRESS: at 18.11% examples, 358444 words/s, in_qsize 14, out_qsize 1\n2023-06-29 08:22:38,516 : INFO : EPOCH 11 - PROGRESS: at 22.76% examples, 352570 words/s, in_qsize 15, out_qsize 0\n2023-06-29 08:22:39,529 : INFO : EPOCH 11 - PROGRESS: at 27.53% examples, 358076 words/s, in_qsize 15, out_qsize 0\n2023-06-29 08:22:40,572 : INFO : EPOCH 11 - PROGRESS: at 32.62% examples, 364205 words/s, in_qsize 15, out_qsize 0\n2023-06-29 08:22:41,594 : INFO : EPOCH 11 - PROGRESS: at 36.83% examples, 361211 words/s, in_qsize 15, out_qsize 0\n2023-06-29 08:22:42,600 : INFO : EPOCH 11 - PROGRESS: at 41.80% examples, 366169 words/s, in_qsize 12, out_qsize 1\n2023-06-29 08:22:43,640 : INFO : EPOCH 11 - PROGRESS: at 46.24% examples, 364705 words/s, in_qsize 15, out_qsize 0\n2023-06-29 08:22:44,667 : INFO : EPOCH 11 - PROGRESS: at 51.21% examples, 367808 words/s, in_qsize 15, out_qsize 0\n2023-06-29 08:22:45,692 : INFO : EPOCH 11 - PROGRESS: at 55.97% examples, 369026 words/s, in_qsize 13, out_qsize 0\n2023-06-29 08:22:46,736 : INFO : EPOCH 11 - PROGRESS: at 60.41% examples, 367550 words/s, in_qsize 12, out_qsize 2\n2023-06-29 08:22:47,742 : INFO : EPOCH 11 - PROGRESS: at 64.62% examples, 366021 words/s, in_qsize 13, out_qsize 1\n2023-06-29 08:22:48,751 : INFO : EPOCH 11 - PROGRESS: at 69.39% examples, 367490 words/s, in_qsize 15, out_qsize 0\n2023-06-29 08:22:49,794 : INFO : EPOCH 11 - PROGRESS: at 73.84% examples, 366382 words/s, in_qsize 15, out_qsize 0\n2023-06-29 08:22:50,833 : INFO : EPOCH 11 - PROGRESS: at 78.73% examples, 367536 words/s, in_qsize 15, out_qsize 0\n2023-06-29 08:22:51,835 : INFO : EPOCH 11 - PROGRESS: at 83.50% examples, 368803 words/s, in_qsize 14, out_qsize 1\n2023-06-29 08:22:52,863 : INFO : EPOCH 11 - PROGRESS: at 87.94% examples, 368244 words/s, in_qsize 16, out_qsize 5\n2023-06-29 08:22:53,872 : INFO : EPOCH 11 - PROGRESS: at 93.15% examples, 370778 words/s, in_qsize 16, out_qsize 0\n2023-06-29 08:22:54,886 : INFO : EPOCH 11 - PROGRESS: at 97.39% examples, 369453 words/s, in_qsize 15, out_qsize 0\n2023-06-29 08:22:55,173 : INFO : worker thread finished; awaiting finish of 7 more threads\n2023-06-29 08:22:55,186 : INFO : worker thread finished; awaiting finish of 6 more threads\n2023-06-29 08:22:55,200 : INFO : worker thread finished; awaiting finish of 5 more threads\n2023-06-29 08:22:55,229 : INFO : worker thread finished; awaiting finish of 4 more threads\n2023-06-29 08:22:55,259 : INFO : worker thread finished; awaiting finish of 3 more threads\n2023-06-29 08:22:55,272 : INFO : worker thread finished; awaiting finish of 2 more threads\n2023-06-29 08:22:55,277 : INFO : worker thread finished; awaiting finish of 1 more threads\n2023-06-29 08:22:55,282 : INFO : worker thread finished; awaiting finish of 0 more threads\n2023-06-29 08:22:55,283 : INFO : EPOCH - 11 : training on 9227204 raw words (8222459 effective words) took 22.1s, 372528 effective words/s\n2023-06-29 08:22:56,321 : INFO : EPOCH 12 - PROGRESS: at 4.23% examples, 339170 words/s, in_qsize 16, out_qsize 0\n2023-06-29 08:22:57,400 : INFO : EPOCH 12 - PROGRESS: at 8.69% examples, 338817 words/s, in_qsize 15, out_qsize 0\n2023-06-29 08:22:58,416 : INFO : EPOCH 12 - PROGRESS: at 11.19% examples, 294151 words/s, in_qsize 15, out_qsize 1\n2023-06-29 08:22:59,451 : INFO : EPOCH 12 - PROGRESS: at 14.22% examples, 280814 words/s, in_qsize 15, out_qsize 0\n2023-06-29 08:23:00,461 : INFO : EPOCH 12 - PROGRESS: at 18.76% examples, 298273 words/s, in_qsize 16, out_qsize 0\n2023-06-29 08:23:01,465 : INFO : EPOCH 12 - PROGRESS: at 23.63% examples, 314710 words/s, in_qsize 10, out_qsize 0\n2023-06-29 08:23:02,485 : INFO : EPOCH 12 - PROGRESS: at 27.75% examples, 317544 words/s, in_qsize 16, out_qsize 5\n2023-06-29 08:23:03,515 : INFO : EPOCH 12 - PROGRESS: at 32.30% examples, 322966 words/s, in_qsize 15, out_qsize 0\n2023-06-29 08:23:04,532 : INFO : EPOCH 12 - PROGRESS: at 36.94% examples, 328883 words/s, in_qsize 15, out_qsize 0\n2023-06-29 08:23:05,540 : INFO : EPOCH 12 - PROGRESS: at 41.59% examples, 333882 words/s, in_qsize 15, out_qsize 0\n2023-06-29 08:23:06,545 : INFO : EPOCH 12 - PROGRESS: at 46.46% examples, 339683 words/s, in_qsize 16, out_qsize 1\n2023-06-29 08:23:07,681 : INFO : EPOCH 12 - PROGRESS: at 50.57% examples, 336786 words/s, in_qsize 15, out_qsize 2\n2023-06-29 08:23:08,668 : INFO : EPOCH 12 - PROGRESS: at 55.42% examples, 341049 words/s, in_qsize 15, out_qsize 0\n2023-06-29 08:23:09,677 : INFO : EPOCH 12 - PROGRESS: at 59.65% examples, 341291 words/s, in_qsize 15, out_qsize 0\n2023-06-29 08:23:10,698 : INFO : EPOCH 12 - PROGRESS: at 64.40% examples, 344088 words/s, in_qsize 15, out_qsize 0\n2023-06-29 08:23:11,741 : INFO : EPOCH 12 - PROGRESS: at 69.07% examples, 345568 words/s, in_qsize 16, out_qsize 2\n2023-06-29 08:23:12,766 : INFO : EPOCH 12 - PROGRESS: at 73.94% examples, 348217 words/s, in_qsize 16, out_qsize 0\n2023-06-29 08:23:13,899 : INFO : EPOCH 12 - PROGRESS: at 78.73% examples, 348774 words/s, in_qsize 16, out_qsize 5\n2023-06-29 08:23:14,872 : INFO : EPOCH 12 - PROGRESS: at 84.05% examples, 353094 words/s, in_qsize 15, out_qsize 0\n2023-06-29 08:23:15,891 : INFO : EPOCH 12 - PROGRESS: at 88.81% examples, 354635 words/s, in_qsize 15, out_qsize 0\n2023-06-29 08:23:16,961 : INFO : EPOCH 12 - PROGRESS: at 93.48% examples, 354773 words/s, in_qsize 11, out_qsize 3\n2023-06-29 08:23:18,046 : INFO : EPOCH 12 - PROGRESS: at 97.93% examples, 353909 words/s, in_qsize 13, out_qsize 2\n2023-06-29 08:23:18,277 : INFO : worker thread finished; awaiting finish of 7 more threads\n2023-06-29 08:23:18,278 : INFO : worker thread finished; awaiting finish of 6 more threads\n2023-06-29 08:23:18,281 : INFO : worker thread finished; awaiting finish of 5 more threads\n2023-06-29 08:23:18,283 : INFO : worker thread finished; awaiting finish of 4 more threads\n2023-06-29 08:23:18,290 : INFO : worker thread finished; awaiting finish of 3 more threads\n2023-06-29 08:23:18,297 : INFO : worker thread finished; awaiting finish of 2 more threads\n2023-06-29 08:23:18,302 : INFO : worker thread finished; awaiting finish of 1 more threads\n2023-06-29 08:23:18,316 : INFO : worker thread finished; awaiting finish of 0 more threads\n2023-06-29 08:23:18,316 : INFO : EPOCH - 12 : training on 9227204 raw words (8221196 effective words) took 23.0s, 357140 effective words/s\n2023-06-29 08:23:19,332 : INFO : EPOCH 13 - PROGRESS: at 4.12% examples, 336633 words/s, in_qsize 16, out_qsize 1\n2023-06-29 08:23:20,345 : INFO : EPOCH 13 - PROGRESS: at 9.23% examples, 375099 words/s, in_qsize 16, out_qsize 0\n2023-06-29 08:23:21,357 : INFO : EPOCH 13 - PROGRESS: at 13.90% examples, 376275 words/s, in_qsize 14, out_qsize 1\n2023-06-29 08:23:22,403 : INFO : EPOCH 13 - PROGRESS: at 18.86% examples, 380161 words/s, in_qsize 16, out_qsize 0\n2023-06-29 08:23:23,430 : INFO : EPOCH 13 - PROGRESS: at 23.74% examples, 382200 words/s, in_qsize 15, out_qsize 0\n2023-06-29 08:23:24,449 : INFO : EPOCH 13 - PROGRESS: at 28.40% examples, 381185 words/s, in_qsize 16, out_qsize 0\n2023-06-29 08:23:25,451 : INFO : EPOCH 13 - PROGRESS: at 32.73% examples, 377584 words/s, in_qsize 12, out_qsize 3\n2023-06-29 08:23:26,545 : INFO : EPOCH 13 - PROGRESS: at 37.59% examples, 377614 words/s, in_qsize 15, out_qsize 1\n2023-06-29 08:23:27,526 : INFO : EPOCH 13 - PROGRESS: at 41.81% examples, 373750 words/s, in_qsize 15, out_qsize 0\n2023-06-29 08:23:28,572 : INFO : EPOCH 13 - PROGRESS: at 46.78% examples, 375608 words/s, in_qsize 15, out_qsize 0\n2023-06-29 08:23:29,693 : INFO : EPOCH 13 - PROGRESS: at 51.53% examples, 373061 words/s, in_qsize 15, out_qsize 0\n2023-06-29 08:23:30,711 : INFO : EPOCH 13 - PROGRESS: at 54.67% examples, 363283 words/s, in_qsize 14, out_qsize 0\n2023-06-29 08:23:31,730 : INFO : EPOCH 13 - PROGRESS: at 57.60% examples, 353623 words/s, in_qsize 16, out_qsize 0\n2023-06-29 08:23:32,790 : INFO : EPOCH 13 - PROGRESS: at 62.58% examples, 356024 words/s, in_qsize 12, out_qsize 3\n2023-06-29 08:23:33,839 : INFO : EPOCH 13 - PROGRESS: at 67.56% examples, 358365 words/s, in_qsize 16, out_qsize 2\n2023-06-29 08:23:34,861 : INFO : EPOCH 13 - PROGRESS: at 72.43% examples, 360454 words/s, in_qsize 15, out_qsize 0\n2023-06-29 08:23:35,862 : INFO : EPOCH 13 - PROGRESS: at 76.98% examples, 361199 words/s, in_qsize 14, out_qsize 0\n2023-06-29 08:23:36,874 : INFO : EPOCH 13 - PROGRESS: at 81.77% examples, 362644 words/s, in_qsize 15, out_qsize 0\n2023-06-29 08:23:37,935 : INFO : EPOCH 13 - PROGRESS: at 85.77% examples, 360452 words/s, in_qsize 15, out_qsize 1\n2023-06-29 08:23:39,004 : INFO : EPOCH 13 - PROGRESS: at 90.44% examples, 359739 words/s, in_qsize 16, out_qsize 0\n2023-06-29 08:23:40,005 : INFO : EPOCH 13 - PROGRESS: at 94.91% examples, 359960 words/s, in_qsize 15, out_qsize 0\n2023-06-29 08:23:40,953 : INFO : worker thread finished; awaiting finish of 7 more threads\n2023-06-29 08:23:41,021 : INFO : EPOCH 13 - PROGRESS: at 99.35% examples, 359977 words/s, in_qsize 6, out_qsize 0\n2023-06-29 08:23:41,025 : INFO : worker thread finished; awaiting finish of 6 more threads\n2023-06-29 08:23:41,031 : INFO : worker thread finished; awaiting finish of 5 more threads\n2023-06-29 08:23:41,034 : INFO : worker thread finished; awaiting finish of 4 more threads\n2023-06-29 08:23:41,037 : INFO : worker thread finished; awaiting finish of 3 more threads\n2023-06-29 08:23:41,039 : INFO : worker thread finished; awaiting finish of 2 more threads\n2023-06-29 08:23:41,043 : INFO : worker thread finished; awaiting finish of 1 more threads\n2023-06-29 08:23:41,045 : INFO : worker thread finished; awaiting finish of 0 more threads\n2023-06-29 08:23:41,046 : INFO : EPOCH - 13 : training on 9227204 raw words (8222816 effective words) took 22.7s, 361932 effective words/s\n2023-06-29 08:23:42,143 : INFO : EPOCH 14 - PROGRESS: at 4.23% examples, 320061 words/s, in_qsize 15, out_qsize 0\n2023-06-29 08:23:43,154 : INFO : EPOCH 14 - PROGRESS: at 8.69% examples, 340102 words/s, in_qsize 14, out_qsize 0\n2023-06-29 08:23:44,221 : INFO : EPOCH 14 - PROGRESS: at 13.14% examples, 342448 words/s, in_qsize 11, out_qsize 2\n2023-06-29 08:23:45,248 : INFO : EPOCH 14 - PROGRESS: at 17.13% examples, 339070 words/s, in_qsize 14, out_qsize 3\n2023-06-29 08:23:46,216 : INFO : EPOCH 14 - PROGRESS: at 21.35% examples, 340164 words/s, in_qsize 11, out_qsize 4\n2023-06-29 08:23:47,260 : INFO : EPOCH 14 - PROGRESS: at 25.59% examples, 340551 words/s, in_qsize 15, out_qsize 2\n2023-06-29 08:23:48,249 : INFO : EPOCH 14 - PROGRESS: at 29.59% examples, 338180 words/s, in_qsize 14, out_qsize 1\n2023-06-29 08:23:49,351 : INFO : EPOCH 14 - PROGRESS: at 34.35% examples, 340491 words/s, in_qsize 15, out_qsize 0\n2023-06-29 08:23:50,359 : INFO : EPOCH 14 - PROGRESS: at 38.68% examples, 341911 words/s, in_qsize 15, out_qsize 2\n2023-06-29 08:23:51,374 : INFO : EPOCH 14 - PROGRESS: at 43.11% examples, 343644 words/s, in_qsize 15, out_qsize 0\n2023-06-29 08:23:52,428 : INFO : EPOCH 14 - PROGRESS: at 47.97% examples, 347063 words/s, in_qsize 16, out_qsize 0\n2023-06-29 08:23:53,442 : INFO : EPOCH 14 - PROGRESS: at 52.62% examples, 349590 words/s, in_qsize 12, out_qsize 0\n2023-06-29 08:23:54,491 : INFO : EPOCH 14 - PROGRESS: at 56.73% examples, 347525 words/s, in_qsize 15, out_qsize 0\n2023-06-29 08:23:55,527 : INFO : EPOCH 14 - PROGRESS: at 61.50% examples, 349739 words/s, in_qsize 14, out_qsize 1\n2023-06-29 08:23:56,552 : INFO : EPOCH 14 - PROGRESS: at 66.04% examples, 350752 words/s, in_qsize 15, out_qsize 0\n2023-06-29 08:23:57,607 : INFO : EPOCH 14 - PROGRESS: at 70.37% examples, 349928 words/s, in_qsize 15, out_qsize 0\n2023-06-29 08:23:58,644 : INFO : EPOCH 14 - PROGRESS: at 74.59% examples, 349030 words/s, in_qsize 13, out_qsize 2\n2023-06-29 08:23:59,648 : INFO : EPOCH 14 - PROGRESS: at 79.49% examples, 351740 words/s, in_qsize 15, out_qsize 0\n2023-06-29 08:24:00,656 : INFO : EPOCH 14 - PROGRESS: at 83.72% examples, 351389 words/s, in_qsize 12, out_qsize 4\n2023-06-29 08:24:01,677 : INFO : EPOCH 14 - PROGRESS: at 88.26% examples, 352110 words/s, in_qsize 16, out_qsize 0\n2023-06-29 08:24:02,683 : INFO : EPOCH 14 - PROGRESS: at 90.76% examples, 345196 words/s, in_qsize 13, out_qsize 0\n2023-06-29 08:24:03,690 : INFO : EPOCH 14 - PROGRESS: at 93.27% examples, 338891 words/s, in_qsize 13, out_qsize 2\n2023-06-29 08:24:04,734 : INFO : EPOCH 14 - PROGRESS: at 97.93% examples, 340116 words/s, in_qsize 15, out_qsize 0\n2023-06-29 08:24:05,047 : INFO : worker thread finished; awaiting finish of 7 more threads\n2023-06-29 08:24:05,067 : INFO : worker thread finished; awaiting finish of 6 more threads\n2023-06-29 08:24:05,070 : INFO : worker thread finished; awaiting finish of 5 more threads\n2023-06-29 08:24:05,087 : INFO : worker thread finished; awaiting finish of 4 more threads\n2023-06-29 08:24:05,116 : INFO : worker thread finished; awaiting finish of 3 more threads\n2023-06-29 08:24:05,135 : INFO : worker thread finished; awaiting finish of 2 more threads\n2023-06-29 08:24:05,144 : INFO : worker thread finished; awaiting finish of 1 more threads\n2023-06-29 08:24:05,144 : INFO : worker thread finished; awaiting finish of 0 more threads\n2023-06-29 08:24:05,145 : INFO : EPOCH - 14 : training on 9227204 raw words (8223281 effective words) took 24.1s, 341382 effective words/s\n2023-06-29 08:24:06,189 : INFO : EPOCH 15 - PROGRESS: at 4.13% examples, 327955 words/s, in_qsize 15, out_qsize 0\n2023-06-29 08:24:07,262 : INFO : EPOCH 15 - PROGRESS: at 8.26% examples, 328482 words/s, in_qsize 15, out_qsize 3\n2023-06-29 08:24:08,227 : INFO : EPOCH 15 - PROGRESS: at 12.60% examples, 336725 words/s, in_qsize 15, out_qsize 0\n2023-06-29 08:24:09,287 : INFO : EPOCH 15 - PROGRESS: at 17.24% examples, 342998 words/s, in_qsize 15, out_qsize 0\n2023-06-29 08:24:10,293 : INFO : EPOCH 15 - PROGRESS: at 22.01% examples, 352210 words/s, in_qsize 14, out_qsize 1\n2023-06-29 08:24:11,315 : INFO : EPOCH 15 - PROGRESS: at 26.12% examples, 348756 words/s, in_qsize 15, out_qsize 0\n2023-06-29 08:24:12,357 : INFO : EPOCH 15 - PROGRESS: at 30.56% examples, 349061 words/s, in_qsize 16, out_qsize 1\n2023-06-29 08:24:13,367 : INFO : EPOCH 15 - PROGRESS: at 35.43% examples, 354896 words/s, in_qsize 13, out_qsize 0\n2023-06-29 08:24:14,405 : INFO : EPOCH 15 - PROGRESS: at 39.97% examples, 355521 words/s, in_qsize 13, out_qsize 1\n2023-06-29 08:24:15,411 : INFO : EPOCH 15 - PROGRESS: at 43.97% examples, 352754 words/s, in_qsize 13, out_qsize 2\n2023-06-29 08:24:16,434 : INFO : EPOCH 15 - PROGRESS: at 48.95% examples, 357101 words/s, in_qsize 15, out_qsize 0\n2023-06-29 08:24:17,489 : INFO : EPOCH 15 - PROGRESS: at 52.83% examples, 352582 words/s, in_qsize 14, out_qsize 1\n2023-06-29 08:24:18,598 : INFO : EPOCH 15 - PROGRESS: at 57.71% examples, 353316 words/s, in_qsize 16, out_qsize 0\n2023-06-29 08:24:19,616 : INFO : EPOCH 15 - PROGRESS: at 62.57% examples, 356187 words/s, in_qsize 13, out_qsize 0\n2023-06-29 08:24:20,749 : INFO : EPOCH 15 - PROGRESS: at 67.01% examples, 354472 words/s, in_qsize 15, out_qsize 2\n2023-06-29 08:24:21,729 : INFO : EPOCH 15 - PROGRESS: at 71.45% examples, 354846 words/s, in_qsize 14, out_qsize 1\n2023-06-29 08:24:22,731 : INFO : EPOCH 15 - PROGRESS: at 76.00% examples, 355865 words/s, in_qsize 13, out_qsize 2\n2023-06-29 08:24:23,736 : INFO : EPOCH 15 - PROGRESS: at 80.47% examples, 356268 words/s, in_qsize 12, out_qsize 1\n2023-06-29 08:24:24,764 : INFO : EPOCH 15 - PROGRESS: at 85.02% examples, 356667 words/s, in_qsize 15, out_qsize 0\n2023-06-29 08:24:25,784 : INFO : EPOCH 15 - PROGRESS: at 89.56% examples, 357335 words/s, in_qsize 12, out_qsize 0\n2023-06-29 08:24:26,782 : INFO : EPOCH 15 - PROGRESS: at 93.59% examples, 355889 words/s, in_qsize 16, out_qsize 0\n2023-06-29 08:24:27,811 : INFO : EPOCH 15 - PROGRESS: at 97.50% examples, 353871 words/s, in_qsize 13, out_qsize 2\n2023-06-29 08:24:28,101 : INFO : worker thread finished; awaiting finish of 7 more threads\n2023-06-29 08:24:28,146 : INFO : worker thread finished; awaiting finish of 6 more threads\n2023-06-29 08:24:28,191 : INFO : worker thread finished; awaiting finish of 5 more threads\n2023-06-29 08:24:28,197 : INFO : worker thread finished; awaiting finish of 4 more threads\n2023-06-29 08:24:28,204 : INFO : worker thread finished; awaiting finish of 3 more threads\n2023-06-29 08:24:28,213 : INFO : worker thread finished; awaiting finish of 2 more threads\n2023-06-29 08:24:28,215 : INFO : worker thread finished; awaiting finish of 1 more threads\n2023-06-29 08:24:28,227 : INFO : worker thread finished; awaiting finish of 0 more threads\n2023-06-29 08:24:28,228 : INFO : EPOCH - 15 : training on 9227204 raw words (8222424 effective words) took 23.1s, 356407 effective words/s\n2023-06-29 08:24:29,259 : INFO : EPOCH 16 - PROGRESS: at 4.13% examples, 331536 words/s, in_qsize 15, out_qsize 0\n2023-06-29 08:24:30,266 : INFO : EPOCH 16 - PROGRESS: at 8.47% examples, 342612 words/s, in_qsize 16, out_qsize 0\n2023-06-29 08:24:31,303 : INFO : EPOCH 16 - PROGRESS: at 12.49% examples, 334300 words/s, in_qsize 14, out_qsize 1\n2023-06-29 08:24:32,306 : INFO : EPOCH 16 - PROGRESS: at 16.70% examples, 337202 words/s, in_qsize 15, out_qsize 0\n2023-06-29 08:24:33,377 : INFO : EPOCH 16 - PROGRESS: at 21.57% examples, 344948 words/s, in_qsize 14, out_qsize 1\n2023-06-29 08:24:34,421 : INFO : EPOCH 16 - PROGRESS: at 25.15% examples, 334209 words/s, in_qsize 14, out_qsize 1\n2023-06-29 08:24:35,505 : INFO : EPOCH 16 - PROGRESS: at 27.75% examples, 313787 words/s, in_qsize 15, out_qsize 0\n2023-06-29 08:24:36,532 : INFO : EPOCH 16 - PROGRESS: at 32.08% examples, 317918 words/s, in_qsize 15, out_qsize 0\n2023-06-29 08:24:37,606 : INFO : EPOCH 16 - PROGRESS: at 36.29% examples, 318533 words/s, in_qsize 14, out_qsize 1\n2023-06-29 08:24:38,633 : INFO : EPOCH 16 - PROGRESS: at 40.62% examples, 321365 words/s, in_qsize 11, out_qsize 4\n2023-06-29 08:24:39,676 : INFO : EPOCH 16 - PROGRESS: at 45.37% examples, 326332 words/s, in_qsize 15, out_qsize 1\n2023-06-29 08:24:40,771 : INFO : EPOCH 16 - PROGRESS: at 50.13% examples, 329959 words/s, in_qsize 15, out_qsize 1\n2023-06-29 08:24:41,816 : INFO : EPOCH 16 - PROGRESS: at 54.89% examples, 332694 words/s, in_qsize 15, out_qsize 0\n2023-06-29 08:24:42,831 : INFO : EPOCH 16 - PROGRESS: at 59.44% examples, 335213 words/s, in_qsize 16, out_qsize 0\n2023-06-29 08:24:43,835 : INFO : EPOCH 16 - PROGRESS: at 63.87% examples, 337032 words/s, in_qsize 14, out_qsize 1\n2023-06-29 08:24:44,848 : INFO : EPOCH 16 - PROGRESS: at 68.75% examples, 340617 words/s, in_qsize 16, out_qsize 0\n2023-06-29 08:24:45,882 : INFO : EPOCH 16 - PROGRESS: at 72.75% examples, 339336 words/s, in_qsize 13, out_qsize 5\n2023-06-29 08:24:46,908 : INFO : EPOCH 16 - PROGRESS: at 77.63% examples, 342131 words/s, in_qsize 15, out_qsize 0\n2023-06-29 08:24:47,953 : INFO : EPOCH 16 - PROGRESS: at 82.21% examples, 342969 words/s, in_qsize 15, out_qsize 0\n2023-06-29 08:24:48,978 : INFO : EPOCH 16 - PROGRESS: at 87.18% examples, 345779 words/s, in_qsize 15, out_qsize 0\n2023-06-29 08:24:50,018 : INFO : EPOCH 16 - PROGRESS: at 91.96% examples, 347246 words/s, in_qsize 16, out_qsize 0\n2023-06-29 08:24:51,062 : INFO : EPOCH 16 - PROGRESS: at 96.63% examples, 348141 words/s, in_qsize 15, out_qsize 0\n2023-06-29 08:24:51,600 : INFO : worker thread finished; awaiting finish of 7 more threads\n2023-06-29 08:24:51,623 : INFO : worker thread finished; awaiting finish of 6 more threads\n2023-06-29 08:24:51,626 : INFO : worker thread finished; awaiting finish of 5 more threads\n2023-06-29 08:24:51,657 : INFO : worker thread finished; awaiting finish of 4 more threads\n2023-06-29 08:24:51,679 : INFO : worker thread finished; awaiting finish of 3 more threads\n2023-06-29 08:24:51,699 : INFO : worker thread finished; awaiting finish of 2 more threads\n2023-06-29 08:24:51,704 : INFO : worker thread finished; awaiting finish of 1 more threads\n2023-06-29 08:24:51,712 : INFO : worker thread finished; awaiting finish of 0 more threads\n2023-06-29 08:24:51,713 : INFO : EPOCH - 16 : training on 9227204 raw words (8223141 effective words) took 23.5s, 350296 effective words/s\n2023-06-29 08:24:52,735 : INFO : EPOCH 17 - PROGRESS: at 3.69% examples, 298835 words/s, in_qsize 15, out_qsize 0\n2023-06-29 08:24:53,749 : INFO : EPOCH 17 - PROGRESS: at 8.90% examples, 360445 words/s, in_qsize 16, out_qsize 0\n2023-06-29 08:24:54,752 : INFO : EPOCH 17 - PROGRESS: at 13.36% examples, 361640 words/s, in_qsize 14, out_qsize 0\n2023-06-29 08:24:55,782 : INFO : EPOCH 17 - PROGRESS: at 18.22% examples, 368503 words/s, in_qsize 15, out_qsize 0\n2023-06-29 08:24:56,793 : INFO : EPOCH 17 - PROGRESS: at 22.55% examples, 365374 words/s, in_qsize 14, out_qsize 3\n2023-06-29 08:24:57,843 : INFO : EPOCH 17 - PROGRESS: at 26.99% examples, 362468 words/s, in_qsize 15, out_qsize 0\n2023-06-29 08:24:58,852 : INFO : EPOCH 17 - PROGRESS: at 31.43% examples, 362416 words/s, in_qsize 16, out_qsize 0\n2023-06-29 08:24:59,870 : INFO : EPOCH 17 - PROGRESS: at 35.54% examples, 358630 words/s, in_qsize 13, out_qsize 6\n2023-06-29 08:25:00,887 : INFO : EPOCH 17 - PROGRESS: at 40.19% examples, 360664 words/s, in_qsize 13, out_qsize 2\n2023-06-29 08:25:01,942 : INFO : EPOCH 17 - PROGRESS: at 44.83% examples, 360888 words/s, in_qsize 15, out_qsize 1\n2023-06-29 08:25:02,943 : INFO : EPOCH 17 - PROGRESS: at 49.05% examples, 359653 words/s, in_qsize 13, out_qsize 2\n2023-06-29 08:25:03,980 : INFO : EPOCH 17 - PROGRESS: at 53.59% examples, 359780 words/s, in_qsize 16, out_qsize 1\n2023-06-29 08:25:04,990 : INFO : EPOCH 17 - PROGRESS: at 58.14% examples, 360586 words/s, in_qsize 13, out_qsize 2\n2023-06-29 08:25:06,026 : INFO : EPOCH 17 - PROGRESS: at 63.00% examples, 362509 words/s, in_qsize 13, out_qsize 1\n2023-06-29 08:25:07,129 : INFO : EPOCH 17 - PROGRESS: at 65.60% examples, 350412 words/s, in_qsize 16, out_qsize 0\n2023-06-29 08:25:08,147 : INFO : EPOCH 17 - PROGRESS: at 68.53% examples, 343355 words/s, in_qsize 14, out_qsize 1\n2023-06-29 08:25:09,199 : INFO : EPOCH 17 - PROGRESS: at 72.75% examples, 342560 words/s, in_qsize 14, out_qsize 1\n2023-06-29 08:25:10,245 : INFO : EPOCH 17 - PROGRESS: at 77.63% examples, 344843 words/s, in_qsize 15, out_qsize 0\n2023-06-29 08:25:11,253 : INFO : EPOCH 17 - PROGRESS: at 82.64% examples, 348028 words/s, in_qsize 12, out_qsize 2\n2023-06-29 08:25:12,258 : INFO : EPOCH 17 - PROGRESS: at 87.18% examples, 349224 words/s, in_qsize 16, out_qsize 0\n2023-06-29 08:25:13,264 : INFO : EPOCH 17 - PROGRESS: at 91.53% examples, 349437 words/s, in_qsize 15, out_qsize 0\n2023-06-29 08:25:14,329 : INFO : EPOCH 17 - PROGRESS: at 96.21% examples, 349913 words/s, in_qsize 15, out_qsize 0\n2023-06-29 08:25:14,977 : INFO : worker thread finished; awaiting finish of 7 more threads\n2023-06-29 08:25:14,986 : INFO : worker thread finished; awaiting finish of 6 more threads\n2023-06-29 08:25:14,992 : INFO : worker thread finished; awaiting finish of 5 more threads\n2023-06-29 08:25:14,994 : INFO : worker thread finished; awaiting finish of 4 more threads\n2023-06-29 08:25:15,059 : INFO : worker thread finished; awaiting finish of 3 more threads\n2023-06-29 08:25:15,063 : INFO : worker thread finished; awaiting finish of 2 more threads\n2023-06-29 08:25:15,064 : INFO : worker thread finished; awaiting finish of 1 more threads\n2023-06-29 08:25:15,066 : INFO : worker thread finished; awaiting finish of 0 more threads\n2023-06-29 08:25:15,067 : INFO : EPOCH - 17 : training on 9227204 raw words (8223378 effective words) took 23.3s, 352257 effective words/s\n2023-06-29 08:25:16,099 : INFO : EPOCH 18 - PROGRESS: at 4.01% examples, 322266 words/s, in_qsize 15, out_qsize 0\n2023-06-29 08:25:17,105 : INFO : EPOCH 18 - PROGRESS: at 8.80% examples, 355621 words/s, in_qsize 13, out_qsize 0\n2023-06-29 08:25:18,108 : INFO : EPOCH 18 - PROGRESS: at 13.14% examples, 355456 words/s, in_qsize 14, out_qsize 0\n2023-06-29 08:25:19,130 : INFO : EPOCH 18 - PROGRESS: at 17.68% examples, 358062 words/s, in_qsize 16, out_qsize 0\n2023-06-29 08:25:20,193 : INFO : EPOCH 18 - PROGRESS: at 21.90% examples, 351623 words/s, in_qsize 15, out_qsize 0\n2023-06-29 08:25:21,252 : INFO : EPOCH 18 - PROGRESS: at 26.99% examples, 359882 words/s, in_qsize 15, out_qsize 1\n2023-06-29 08:25:22,275 : INFO : EPOCH 18 - PROGRESS: at 31.97% examples, 365049 words/s, in_qsize 14, out_qsize 0\n2023-06-29 08:25:23,312 : INFO : EPOCH 18 - PROGRESS: at 36.40% examples, 363443 words/s, in_qsize 15, out_qsize 0\n2023-06-29 08:25:24,338 : INFO : EPOCH 18 - PROGRESS: at 41.37% examples, 367437 words/s, in_qsize 16, out_qsize 0\n2023-06-29 08:25:25,358 : INFO : EPOCH 18 - PROGRESS: at 46.13% examples, 369112 words/s, in_qsize 15, out_qsize 0\n2023-06-29 08:25:26,377 : INFO : EPOCH 18 - PROGRESS: at 50.67% examples, 368974 words/s, in_qsize 15, out_qsize 0\n2023-06-29 08:25:27,389 : INFO : EPOCH 18 - PROGRESS: at 55.00% examples, 367610 words/s, in_qsize 12, out_qsize 2\n2023-06-29 08:25:28,407 : INFO : EPOCH 18 - PROGRESS: at 59.55% examples, 367602 words/s, in_qsize 15, out_qsize 0\n2023-06-29 08:25:29,456 : INFO : EPOCH 18 - PROGRESS: at 64.19% examples, 367406 words/s, in_qsize 14, out_qsize 3\n2023-06-29 08:25:30,479 : INFO : EPOCH 18 - PROGRESS: at 68.86% examples, 367879 words/s, in_qsize 11, out_qsize 4\n2023-06-29 08:25:31,499 : INFO : EPOCH 18 - PROGRESS: at 73.94% examples, 370501 words/s, in_qsize 13, out_qsize 0\n2023-06-29 08:25:32,538 : INFO : EPOCH 18 - PROGRESS: at 78.62% examples, 370391 words/s, in_qsize 15, out_qsize 0\n2023-06-29 08:25:33,614 : INFO : EPOCH 18 - PROGRESS: at 83.18% examples, 369078 words/s, in_qsize 15, out_qsize 0\n2023-06-29 08:25:34,710 : INFO : EPOCH 18 - PROGRESS: at 88.27% examples, 369870 words/s, in_qsize 15, out_qsize 2\n2023-06-29 08:25:35,744 : INFO : EPOCH 18 - PROGRESS: at 93.59% examples, 372398 words/s, in_qsize 16, out_qsize 1\n2023-06-29 08:25:36,747 : INFO : EPOCH 18 - PROGRESS: at 98.04% examples, 372004 words/s, in_qsize 15, out_qsize 4\n2023-06-29 08:25:36,936 : INFO : worker thread finished; awaiting finish of 7 more threads\n2023-06-29 08:25:36,960 : INFO : worker thread finished; awaiting finish of 6 more threads\n2023-06-29 08:25:36,962 : INFO : worker thread finished; awaiting finish of 5 more threads\n2023-06-29 08:25:36,969 : INFO : worker thread finished; awaiting finish of 4 more threads\n2023-06-29 08:25:36,978 : INFO : worker thread finished; awaiting finish of 3 more threads\n2023-06-29 08:25:37,008 : INFO : worker thread finished; awaiting finish of 2 more threads\n2023-06-29 08:25:37,016 : INFO : worker thread finished; awaiting finish of 1 more threads\n2023-06-29 08:25:37,022 : INFO : worker thread finished; awaiting finish of 0 more threads\n2023-06-29 08:25:37,023 : INFO : EPOCH - 18 : training on 9227204 raw words (8222960 effective words) took 21.9s, 374691 effective words/s\n2023-06-29 08:25:38,064 : INFO : EPOCH 19 - PROGRESS: at 4.13% examples, 329440 words/s, in_qsize 16, out_qsize 0\n2023-06-29 08:25:39,202 : INFO : EPOCH 19 - PROGRESS: at 7.17% examples, 271412 words/s, in_qsize 15, out_qsize 0\n2023-06-29 08:25:40,223 : INFO : EPOCH 19 - PROGRESS: at 10.10% examples, 259926 words/s, in_qsize 15, out_qsize 0\n2023-06-29 08:25:41,235 : INFO : EPOCH 19 - PROGRESS: at 14.76% examples, 288480 words/s, in_qsize 13, out_qsize 0\n2023-06-29 08:25:42,290 : INFO : EPOCH 19 - PROGRESS: at 19.08% examples, 298283 words/s, in_qsize 13, out_qsize 2\n2023-06-29 08:25:43,365 : INFO : EPOCH 19 - PROGRESS: at 24.29% examples, 315280 words/s, in_qsize 15, out_qsize 0\n2023-06-29 08:25:44,373 : INFO : EPOCH 19 - PROGRESS: at 29.27% examples, 327787 words/s, in_qsize 15, out_qsize 0\n2023-06-29 08:25:45,406 : INFO : EPOCH 19 - PROGRESS: at 33.70% examples, 330963 words/s, in_qsize 15, out_qsize 1\n2023-06-29 08:25:46,414 : INFO : EPOCH 19 - PROGRESS: at 38.14% examples, 334302 words/s, in_qsize 15, out_qsize 1\n2023-06-29 08:25:47,446 : INFO : EPOCH 19 - PROGRESS: at 42.35% examples, 334537 words/s, in_qsize 13, out_qsize 2\n2023-06-29 08:25:48,551 : INFO : EPOCH 19 - PROGRESS: at 47.10% examples, 336485 words/s, in_qsize 15, out_qsize 0\n2023-06-29 08:25:49,611 : INFO : EPOCH 19 - PROGRESS: at 52.40% examples, 342880 words/s, in_qsize 16, out_qsize 0\n2023-06-29 08:25:50,659 : INFO : EPOCH 19 - PROGRESS: at 57.38% examples, 346589 words/s, in_qsize 15, out_qsize 1\n2023-06-29 08:25:51,665 : INFO : EPOCH 19 - PROGRESS: at 62.04% examples, 348938 words/s, in_qsize 12, out_qsize 3\n2023-06-29 08:25:52,735 : INFO : EPOCH 19 - PROGRESS: at 66.47% examples, 348398 words/s, in_qsize 15, out_qsize 0\n2023-06-29 08:25:53,744 : INFO : EPOCH 19 - PROGRESS: at 71.46% examples, 351894 words/s, in_qsize 15, out_qsize 0\n2023-06-29 08:25:54,756 : INFO : EPOCH 19 - PROGRESS: at 76.11% examples, 353389 words/s, in_qsize 14, out_qsize 1\n2023-06-29 08:25:55,792 : INFO : EPOCH 19 - PROGRESS: at 80.90% examples, 354969 words/s, in_qsize 15, out_qsize 3\n2023-06-29 08:25:56,807 : INFO : EPOCH 19 - PROGRESS: at 85.77% examples, 356830 words/s, in_qsize 14, out_qsize 2\n2023-06-29 08:25:57,810 : INFO : EPOCH 19 - PROGRESS: at 90.43% examples, 358036 words/s, in_qsize 14, out_qsize 1\n2023-06-29 08:25:58,909 : INFO : EPOCH 19 - PROGRESS: at 95.01% examples, 357133 words/s, in_qsize 15, out_qsize 0\n2023-06-29 08:25:59,717 : INFO : worker thread finished; awaiting finish of 7 more threads\n2023-06-29 08:25:59,732 : INFO : worker thread finished; awaiting finish of 6 more threads\n2023-06-29 08:25:59,736 : INFO : worker thread finished; awaiting finish of 5 more threads\n2023-06-29 08:25:59,741 : INFO : worker thread finished; awaiting finish of 4 more threads\n2023-06-29 08:25:59,779 : INFO : worker thread finished; awaiting finish of 3 more threads\n2023-06-29 08:25:59,790 : INFO : worker thread finished; awaiting finish of 2 more threads\n2023-06-29 08:25:59,798 : INFO : worker thread finished; awaiting finish of 1 more threads\n2023-06-29 08:25:59,801 : INFO : worker thread finished; awaiting finish of 0 more threads\n2023-06-29 08:25:59,802 : INFO : EPOCH - 19 : training on 9227204 raw words (8222141 effective words) took 22.8s, 361172 effective words/s\n2023-06-29 08:26:00,815 : INFO : EPOCH 20 - PROGRESS: at 4.34% examples, 354389 words/s, in_qsize 15, out_qsize 1\n2023-06-29 08:26:01,834 : INFO : EPOCH 20 - PROGRESS: at 9.12% examples, 369671 words/s, in_qsize 15, out_qsize 0\n2023-06-29 08:26:02,925 : INFO : EPOCH 20 - PROGRESS: at 13.79% examples, 363245 words/s, in_qsize 15, out_qsize 0\n2023-06-29 08:26:03,956 : INFO : EPOCH 20 - PROGRESS: at 18.54% examples, 367278 words/s, in_qsize 16, out_qsize 1\n2023-06-29 08:26:05,021 : INFO : EPOCH 20 - PROGRESS: at 23.31% examples, 367480 words/s, in_qsize 15, out_qsize 0\n2023-06-29 08:26:06,056 : INFO : EPOCH 20 - PROGRESS: at 28.18% examples, 370766 words/s, in_qsize 15, out_qsize 2\n2023-06-29 08:26:07,069 : INFO : EPOCH 20 - PROGRESS: at 32.62% examples, 369837 words/s, in_qsize 16, out_qsize 4\n2023-06-29 08:26:08,070 : INFO : EPOCH 20 - PROGRESS: at 37.05% examples, 368755 words/s, in_qsize 16, out_qsize 0\n2023-06-29 08:26:09,082 : INFO : EPOCH 20 - PROGRESS: at 41.81% examples, 370752 words/s, in_qsize 16, out_qsize 1\n2023-06-29 08:26:10,087 : INFO : EPOCH 20 - PROGRESS: at 46.13% examples, 369177 words/s, in_qsize 11, out_qsize 2\n2023-06-29 08:26:11,105 : INFO : EPOCH 20 - PROGRESS: at 49.59% examples, 361189 words/s, in_qsize 15, out_qsize 1\n2023-06-29 08:26:12,180 : INFO : EPOCH 20 - PROGRESS: at 52.07% examples, 346367 words/s, in_qsize 15, out_qsize 3\n2023-06-29 08:26:13,295 : INFO : EPOCH 20 - PROGRESS: at 57.16% examples, 349565 words/s, in_qsize 14, out_qsize 2\n2023-06-29 08:26:14,316 : INFO : EPOCH 20 - PROGRESS: at 62.03% examples, 351872 words/s, in_qsize 16, out_qsize 0\n2023-06-29 08:26:15,331 : INFO : EPOCH 20 - PROGRESS: at 67.24% examples, 356413 words/s, in_qsize 15, out_qsize 0\n2023-06-29 08:26:16,353 : INFO : EPOCH 20 - PROGRESS: at 71.78% examples, 357009 words/s, in_qsize 14, out_qsize 1\n2023-06-29 08:26:17,361 : INFO : EPOCH 20 - PROGRESS: at 75.78% examples, 355258 words/s, in_qsize 16, out_qsize 0\n2023-06-29 08:26:18,468 : INFO : EPOCH 20 - PROGRESS: at 80.79% examples, 356152 words/s, in_qsize 15, out_qsize 0\n2023-06-29 08:26:19,483 : INFO : EPOCH 20 - PROGRESS: at 85.34% examples, 356800 words/s, in_qsize 13, out_qsize 3\n2023-06-29 08:26:20,556 : INFO : EPOCH 20 - PROGRESS: at 90.54% examples, 358946 words/s, in_qsize 15, out_qsize 0\n2023-06-29 08:26:21,626 : INFO : EPOCH 20 - PROGRESS: at 95.66% examples, 360511 words/s, in_qsize 16, out_qsize 0\n2023-06-29 08:26:22,272 : INFO : worker thread finished; awaiting finish of 7 more threads\n2023-06-29 08:26:22,287 : INFO : worker thread finished; awaiting finish of 6 more threads\n2023-06-29 08:26:22,336 : INFO : worker thread finished; awaiting finish of 5 more threads\n2023-06-29 08:26:22,341 : INFO : worker thread finished; awaiting finish of 4 more threads\n2023-06-29 08:26:22,345 : INFO : worker thread finished; awaiting finish of 3 more threads\n2023-06-29 08:26:22,347 : INFO : worker thread finished; awaiting finish of 2 more threads\n2023-06-29 08:26:22,352 : INFO : worker thread finished; awaiting finish of 1 more threads\n2023-06-29 08:26:22,356 : INFO : worker thread finished; awaiting finish of 0 more threads\n2023-06-29 08:26:22,356 : INFO : EPOCH - 20 : training on 9227204 raw words (8222330 effective words) took 22.5s, 364681 effective words/s\n2023-06-29 08:26:23,374 : INFO : EPOCH 21 - PROGRESS: at 3.91% examples, 318406 words/s, in_qsize 15, out_qsize 0\n2023-06-29 08:26:24,388 : INFO : EPOCH 21 - PROGRESS: at 8.80% examples, 356983 words/s, in_qsize 15, out_qsize 4\n2023-06-29 08:26:25,460 : INFO : EPOCH 21 - PROGRESS: at 13.90% examples, 368684 words/s, in_qsize 14, out_qsize 1\n2023-06-29 08:26:26,484 : INFO : EPOCH 21 - PROGRESS: at 18.87% examples, 376419 words/s, in_qsize 15, out_qsize 0\n2023-06-29 08:26:27,541 : INFO : EPOCH 21 - PROGRESS: at 23.20% examples, 368456 words/s, in_qsize 14, out_qsize 1\n2023-06-29 08:26:28,588 : INFO : EPOCH 21 - PROGRESS: at 28.07% examples, 370900 words/s, in_qsize 15, out_qsize 0\n2023-06-29 08:26:29,636 : INFO : EPOCH 21 - PROGRESS: at 33.16% examples, 375005 words/s, in_qsize 16, out_qsize 0\n2023-06-29 08:26:30,671 : INFO : EPOCH 21 - PROGRESS: at 37.81% examples, 375778 words/s, in_qsize 15, out_qsize 0\n2023-06-29 08:26:31,663 : INFO : EPOCH 21 - PROGRESS: at 42.68% examples, 377543 words/s, in_qsize 14, out_qsize 1\n2023-06-29 08:26:32,680 : INFO : EPOCH 21 - PROGRESS: at 47.54% examples, 379183 words/s, in_qsize 14, out_qsize 1\n2023-06-29 08:26:33,685 : INFO : EPOCH 21 - PROGRESS: at 52.30% examples, 380191 words/s, in_qsize 12, out_qsize 0\n2023-06-29 08:26:34,725 : INFO : EPOCH 21 - PROGRESS: at 56.84% examples, 378487 words/s, in_qsize 15, out_qsize 0\n2023-06-29 08:26:35,755 : INFO : EPOCH 21 - PROGRESS: at 61.93% examples, 380632 words/s, in_qsize 16, out_qsize 0\n2023-06-29 08:26:36,775 : INFO : EPOCH 21 - PROGRESS: at 66.47% examples, 379639 words/s, in_qsize 16, out_qsize 1\n2023-06-29 08:26:37,791 : INFO : EPOCH 21 - PROGRESS: at 71.24% examples, 380047 words/s, in_qsize 14, out_qsize 0\n2023-06-29 08:26:38,818 : INFO : EPOCH 21 - PROGRESS: at 75.89% examples, 379587 words/s, in_qsize 14, out_qsize 0\n2023-06-29 08:26:39,912 : INFO : EPOCH 21 - PROGRESS: at 80.58% examples, 378339 words/s, in_qsize 16, out_qsize 4\n2023-06-29 08:26:40,909 : INFO : EPOCH 21 - PROGRESS: at 85.56% examples, 379538 words/s, in_qsize 14, out_qsize 1\n2023-06-29 08:26:41,948 : INFO : EPOCH 21 - PROGRESS: at 90.33% examples, 379389 words/s, in_qsize 12, out_qsize 5\n2023-06-29 08:26:42,952 : INFO : EPOCH 21 - PROGRESS: at 94.25% examples, 376466 words/s, in_qsize 16, out_qsize 0\n2023-06-29 08:26:44,055 : INFO : EPOCH 21 - PROGRESS: at 97.07% examples, 367997 words/s, in_qsize 13, out_qsize 2\n2023-06-29 08:26:44,537 : INFO : worker thread finished; awaiting finish of 7 more threads\n2023-06-29 08:26:44,542 : INFO : worker thread finished; awaiting finish of 6 more threads\n2023-06-29 08:26:44,543 : INFO : worker thread finished; awaiting finish of 5 more threads\n2023-06-29 08:26:44,544 : INFO : worker thread finished; awaiting finish of 4 more threads\n2023-06-29 08:26:44,548 : INFO : worker thread finished; awaiting finish of 3 more threads\n2023-06-29 08:26:44,549 : INFO : worker thread finished; awaiting finish of 2 more threads\n2023-06-29 08:26:44,550 : INFO : worker thread finished; awaiting finish of 1 more threads\n2023-06-29 08:26:44,573 : INFO : worker thread finished; awaiting finish of 0 more threads\n2023-06-29 08:26:44,573 : INFO : EPOCH - 21 : training on 9227204 raw words (8222407 effective words) took 22.2s, 370278 effective words/s\n2023-06-29 08:26:45,584 : INFO : EPOCH 22 - PROGRESS: at 4.34% examples, 356095 words/s, in_qsize 15, out_qsize 0\n2023-06-29 08:26:46,665 : INFO : EPOCH 22 - PROGRESS: at 9.01% examples, 355471 words/s, in_qsize 14, out_qsize 3\n2023-06-29 08:26:47,776 : INFO : EPOCH 22 - PROGRESS: at 13.90% examples, 357190 words/s, in_qsize 14, out_qsize 1\n2023-06-29 08:26:48,825 : INFO : EPOCH 22 - PROGRESS: at 18.65% examples, 361274 words/s, in_qsize 15, out_qsize 0\n2023-06-29 08:26:49,832 : INFO : EPOCH 22 - PROGRESS: at 23.31% examples, 364981 words/s, in_qsize 15, out_qsize 0\n2023-06-29 08:26:50,835 : INFO : EPOCH 22 - PROGRESS: at 27.96% examples, 367717 words/s, in_qsize 16, out_qsize 0\n2023-06-29 08:26:51,900 : INFO : EPOCH 22 - PROGRESS: at 32.84% examples, 368938 words/s, in_qsize 15, out_qsize 0\n2023-06-29 08:26:52,917 : INFO : EPOCH 22 - PROGRESS: at 38.02% examples, 375259 words/s, in_qsize 15, out_qsize 0\n2023-06-29 08:26:53,968 : INFO : EPOCH 22 - PROGRESS: at 42.68% examples, 374048 words/s, in_qsize 12, out_qsize 3\n2023-06-29 08:26:55,102 : INFO : EPOCH 22 - PROGRESS: at 47.86% examples, 374364 words/s, in_qsize 14, out_qsize 3\n2023-06-29 08:26:56,147 : INFO : EPOCH 22 - PROGRESS: at 52.73% examples, 375253 words/s, in_qsize 16, out_qsize 1\n2023-06-29 08:26:57,207 : INFO : EPOCH 22 - PROGRESS: at 58.03% examples, 378320 words/s, in_qsize 16, out_qsize 1\n2023-06-29 08:26:58,223 : INFO : EPOCH 22 - PROGRESS: at 62.89% examples, 379521 words/s, in_qsize 14, out_qsize 1\n2023-06-29 08:26:59,232 : INFO : EPOCH 22 - PROGRESS: at 67.23% examples, 377691 words/s, in_qsize 15, out_qsize 0\n2023-06-29 08:27:00,325 : INFO : EPOCH 22 - PROGRESS: at 72.43% examples, 379172 words/s, in_qsize 15, out_qsize 2\n2023-06-29 08:27:01,311 : INFO : EPOCH 22 - PROGRESS: at 77.31% examples, 380257 words/s, in_qsize 14, out_qsize 1\n2023-06-29 08:27:02,317 : INFO : EPOCH 22 - PROGRESS: at 81.99% examples, 380273 words/s, in_qsize 15, out_qsize 3\n2023-06-29 08:27:03,345 : INFO : EPOCH 22 - PROGRESS: at 86.97% examples, 381252 words/s, in_qsize 12, out_qsize 3\n2023-06-29 08:27:04,356 : INFO : EPOCH 22 - PROGRESS: at 92.17% examples, 383371 words/s, in_qsize 12, out_qsize 1\n2023-06-29 08:27:05,435 : INFO : EPOCH 22 - PROGRESS: at 96.96% examples, 382331 words/s, in_qsize 12, out_qsize 4\n2023-06-29 08:27:05,839 : INFO : worker thread finished; awaiting finish of 7 more threads\n2023-06-29 08:27:05,861 : INFO : worker thread finished; awaiting finish of 6 more threads\n2023-06-29 08:27:05,890 : INFO : worker thread finished; awaiting finish of 5 more threads\n2023-06-29 08:27:05,892 : INFO : worker thread finished; awaiting finish of 4 more threads\n2023-06-29 08:27:05,895 : INFO : worker thread finished; awaiting finish of 3 more threads\n2023-06-29 08:27:05,896 : INFO : worker thread finished; awaiting finish of 2 more threads\n2023-06-29 08:27:05,899 : INFO : worker thread finished; awaiting finish of 1 more threads\n2023-06-29 08:27:05,908 : INFO : worker thread finished; awaiting finish of 0 more threads\n2023-06-29 08:27:05,908 : INFO : EPOCH - 22 : training on 9227204 raw words (8222605 effective words) took 21.3s, 385599 effective words/s\n2023-06-29 08:27:07,021 : INFO : EPOCH 23 - PROGRESS: at 4.45% examples, 332177 words/s, in_qsize 16, out_qsize 1\n2023-06-29 08:27:08,067 : INFO : EPOCH 23 - PROGRESS: at 9.12% examples, 348825 words/s, in_qsize 15, out_qsize 0\n2023-06-29 08:27:09,116 : INFO : EPOCH 23 - PROGRESS: at 13.79% examples, 354123 words/s, in_qsize 14, out_qsize 1\n2023-06-29 08:27:10,142 : INFO : EPOCH 23 - PROGRESS: at 18.54% examples, 360884 words/s, in_qsize 16, out_qsize 0\n2023-06-29 08:27:11,149 : INFO : EPOCH 23 - PROGRESS: at 23.42% examples, 368178 words/s, in_qsize 14, out_qsize 0\n2023-06-29 08:27:12,166 : INFO : EPOCH 23 - PROGRESS: at 27.75% examples, 365262 words/s, in_qsize 15, out_qsize 0\n2023-06-29 08:27:13,187 : INFO : EPOCH 23 - PROGRESS: at 32.19% examples, 364220 words/s, in_qsize 14, out_qsize 1\n2023-06-29 08:27:14,230 : INFO : EPOCH 23 - PROGRESS: at 36.72% examples, 363539 words/s, in_qsize 15, out_qsize 0\n2023-06-29 08:27:15,432 : INFO : EPOCH 23 - PROGRESS: at 39.97% examples, 345685 words/s, in_qsize 15, out_qsize 0\n2023-06-29 08:27:16,464 : INFO : EPOCH 23 - PROGRESS: at 42.68% examples, 333670 words/s, in_qsize 15, out_qsize 2\n2023-06-29 08:27:17,444 : INFO : EPOCH 23 - PROGRESS: at 47.54% examples, 339429 words/s, in_qsize 16, out_qsize 0\n2023-06-29 08:27:18,514 : INFO : EPOCH 23 - PROGRESS: at 52.29% examples, 341775 words/s, in_qsize 16, out_qsize 0\n2023-06-29 08:27:19,609 : INFO : EPOCH 23 - PROGRESS: at 56.84% examples, 341791 words/s, in_qsize 15, out_qsize 0\n2023-06-29 08:27:20,642 : INFO : EPOCH 23 - PROGRESS: at 61.82% examples, 345626 words/s, in_qsize 15, out_qsize 0\n2023-06-29 08:27:21,654 : INFO : EPOCH 23 - PROGRESS: at 66.47% examples, 347740 words/s, in_qsize 15, out_qsize 0\n2023-06-29 08:27:22,666 : INFO : EPOCH 23 - PROGRESS: at 71.45% examples, 351188 words/s, in_qsize 16, out_qsize 1\n2023-06-29 08:27:23,683 : INFO : EPOCH 23 - PROGRESS: at 76.33% examples, 353632 words/s, in_qsize 12, out_qsize 1\n2023-06-29 08:27:24,684 : INFO : EPOCH 23 - PROGRESS: at 80.35% examples, 352336 words/s, in_qsize 15, out_qsize 0\n2023-06-29 08:27:25,694 : INFO : EPOCH 23 - PROGRESS: at 85.23% examples, 354620 words/s, in_qsize 15, out_qsize 0\n2023-06-29 08:27:26,722 : INFO : EPOCH 23 - PROGRESS: at 90.00% examples, 355933 words/s, in_qsize 14, out_qsize 3\n2023-06-29 08:27:27,759 : INFO : EPOCH 23 - PROGRESS: at 94.91% examples, 357372 words/s, in_qsize 15, out_qsize 0\n2023-06-29 08:27:28,656 : INFO : worker thread finished; awaiting finish of 7 more threads\n2023-06-29 08:27:28,672 : INFO : worker thread finished; awaiting finish of 6 more threads\n2023-06-29 08:27:28,675 : INFO : worker thread finished; awaiting finish of 5 more threads\n2023-06-29 08:27:28,682 : INFO : worker thread finished; awaiting finish of 4 more threads\n2023-06-29 08:27:28,683 : INFO : worker thread finished; awaiting finish of 3 more threads\n2023-06-29 08:27:28,716 : INFO : worker thread finished; awaiting finish of 2 more threads\n2023-06-29 08:27:28,723 : INFO : worker thread finished; awaiting finish of 1 more threads\n2023-06-29 08:27:28,729 : INFO : worker thread finished; awaiting finish of 0 more threads\n2023-06-29 08:27:28,730 : INFO : EPOCH - 23 : training on 9227204 raw words (8223712 effective words) took 22.8s, 360563 effective words/s\n2023-06-29 08:27:29,803 : INFO : EPOCH 24 - PROGRESS: at 4.34% examples, 334704 words/s, in_qsize 14, out_qsize 1\n2023-06-29 08:27:30,876 : INFO : EPOCH 24 - PROGRESS: at 9.23% examples, 354273 words/s, in_qsize 12, out_qsize 3\n2023-06-29 08:27:31,911 : INFO : EPOCH 24 - PROGRESS: at 14.11% examples, 365090 words/s, in_qsize 14, out_qsize 1\n2023-06-29 08:27:32,972 : INFO : EPOCH 24 - PROGRESS: at 19.30% examples, 374434 words/s, in_qsize 15, out_qsize 1\n2023-06-29 08:27:33,979 : INFO : EPOCH 24 - PROGRESS: at 23.96% examples, 375675 words/s, in_qsize 15, out_qsize 0\n2023-06-29 08:27:35,000 : INFO : EPOCH 24 - PROGRESS: at 28.18% examples, 369889 words/s, in_qsize 14, out_qsize 3\n2023-06-29 08:27:36,080 : INFO : EPOCH 24 - PROGRESS: at 33.37% examples, 373688 words/s, in_qsize 16, out_qsize 0\n2023-06-29 08:27:37,094 : INFO : EPOCH 24 - PROGRESS: at 38.02% examples, 374181 words/s, in_qsize 15, out_qsize 0\n2023-06-29 08:27:38,141 : INFO : EPOCH 24 - PROGRESS: at 42.68% examples, 374587 words/s, in_qsize 15, out_qsize 0\n2023-06-29 08:27:39,113 : INFO : EPOCH 24 - PROGRESS: at 47.22% examples, 374346 words/s, in_qsize 15, out_qsize 0\n2023-06-29 08:27:40,125 : INFO : EPOCH 24 - PROGRESS: at 52.18% examples, 377090 words/s, in_qsize 15, out_qsize 0\n2023-06-29 08:27:41,132 : INFO : EPOCH 24 - PROGRESS: at 57.06% examples, 378792 words/s, in_qsize 15, out_qsize 0\n2023-06-29 08:27:42,201 : INFO : EPOCH 24 - PROGRESS: at 61.82% examples, 377872 words/s, in_qsize 15, out_qsize 0\n2023-06-29 08:27:43,216 : INFO : EPOCH 24 - PROGRESS: at 66.58% examples, 378434 words/s, in_qsize 16, out_qsize 0\n2023-06-29 08:27:44,220 : INFO : EPOCH 24 - PROGRESS: at 71.67% examples, 380916 words/s, in_qsize 14, out_qsize 0\n2023-06-29 08:27:45,251 : INFO : EPOCH 24 - PROGRESS: at 76.22% examples, 379766 words/s, in_qsize 16, out_qsize 0\n2023-06-29 08:27:46,272 : INFO : EPOCH 24 - PROGRESS: at 81.34% examples, 381534 words/s, in_qsize 15, out_qsize 0\n2023-06-29 08:27:47,476 : INFO : EPOCH 24 - PROGRESS: at 84.59% examples, 371298 words/s, in_qsize 12, out_qsize 3\n2023-06-29 08:27:48,605 : INFO : EPOCH 24 - PROGRESS: at 87.72% examples, 363193 words/s, in_qsize 15, out_qsize 0\n2023-06-29 08:27:49,638 : INFO : EPOCH 24 - PROGRESS: at 92.61% examples, 364395 words/s, in_qsize 16, out_qsize 0\n2023-06-29 08:27:50,656 : INFO : EPOCH 24 - PROGRESS: at 97.50% examples, 365759 words/s, in_qsize 14, out_qsize 1\n2023-06-29 08:27:51,096 : INFO : worker thread finished; awaiting finish of 7 more threads\n2023-06-29 08:27:51,099 : INFO : worker thread finished; awaiting finish of 6 more threads\n2023-06-29 08:27:51,101 : INFO : worker thread finished; awaiting finish of 5 more threads\n2023-06-29 08:27:51,106 : INFO : worker thread finished; awaiting finish of 4 more threads\n2023-06-29 08:27:51,117 : INFO : worker thread finished; awaiting finish of 3 more threads\n2023-06-29 08:27:51,122 : INFO : worker thread finished; awaiting finish of 2 more threads\n2023-06-29 08:27:51,129 : INFO : worker thread finished; awaiting finish of 1 more threads\n2023-06-29 08:27:51,139 : INFO : worker thread finished; awaiting finish of 0 more threads\n2023-06-29 08:27:51,140 : INFO : EPOCH - 24 : training on 9227204 raw words (8221779 effective words) took 22.4s, 367036 effective words/s\n2023-06-29 08:27:52,157 : INFO : EPOCH 25 - PROGRESS: at 3.80% examples, 310689 words/s, in_qsize 13, out_qsize 5\n2023-06-29 08:27:53,169 : INFO : EPOCH 25 - PROGRESS: at 9.12% examples, 371481 words/s, in_qsize 15, out_qsize 0\n2023-06-29 08:27:54,181 : INFO : EPOCH 25 - PROGRESS: at 14.01% examples, 379734 words/s, in_qsize 16, out_qsize 0\n2023-06-29 08:27:55,298 : INFO : EPOCH 25 - PROGRESS: at 19.08% examples, 378287 words/s, in_qsize 14, out_qsize 1\n2023-06-29 08:27:56,299 : INFO : EPOCH 25 - PROGRESS: at 24.39% examples, 389525 words/s, in_qsize 14, out_qsize 0\n2023-06-29 08:27:57,305 : INFO : EPOCH 25 - PROGRESS: at 28.50% examples, 380839 words/s, in_qsize 13, out_qsize 1\n2023-06-29 08:27:58,334 : INFO : EPOCH 25 - PROGRESS: at 33.16% examples, 379569 words/s, in_qsize 15, out_qsize 1\n2023-06-29 08:27:59,406 : INFO : EPOCH 25 - PROGRESS: at 37.59% examples, 374545 words/s, in_qsize 15, out_qsize 0\n2023-06-29 08:28:00,443 : INFO : EPOCH 25 - PROGRESS: at 42.78% examples, 378746 words/s, in_qsize 15, out_qsize 0\n2023-06-29 08:28:01,486 : INFO : EPOCH 25 - PROGRESS: at 46.89% examples, 374145 words/s, in_qsize 13, out_qsize 3\n2023-06-29 08:28:02,483 : INFO : EPOCH 25 - PROGRESS: at 51.53% examples, 374289 words/s, in_qsize 15, out_qsize 1\n2023-06-29 08:28:03,488 : INFO : EPOCH 25 - PROGRESS: at 56.51% examples, 376989 words/s, in_qsize 12, out_qsize 0\n2023-06-29 08:28:04,492 : INFO : EPOCH 25 - PROGRESS: at 60.74% examples, 374694 words/s, in_qsize 15, out_qsize 0\n2023-06-29 08:28:05,513 : INFO : EPOCH 25 - PROGRESS: at 65.39% examples, 374721 words/s, in_qsize 15, out_qsize 0\n2023-06-29 08:28:06,543 : INFO : EPOCH 25 - PROGRESS: at 69.94% examples, 373931 words/s, in_qsize 12, out_qsize 0\n2023-06-29 08:28:07,544 : INFO : EPOCH 25 - PROGRESS: at 73.83% examples, 370655 words/s, in_qsize 14, out_qsize 1\n2023-06-29 08:28:08,614 : INFO : EPOCH 25 - PROGRESS: at 78.73% examples, 371338 words/s, in_qsize 15, out_qsize 0\n2023-06-29 08:28:09,613 : INFO : EPOCH 25 - PROGRESS: at 83.73% examples, 372993 words/s, in_qsize 15, out_qsize 0\n2023-06-29 08:28:10,759 : INFO : EPOCH 25 - PROGRESS: at 88.59% examples, 371627 words/s, in_qsize 12, out_qsize 6\n2023-06-29 08:28:11,765 : INFO : EPOCH 25 - PROGRESS: at 93.92% examples, 374631 words/s, in_qsize 16, out_qsize 0\n2023-06-29 08:28:12,810 : INFO : EPOCH 25 - PROGRESS: at 98.36% examples, 373415 words/s, in_qsize 16, out_qsize 0\n2023-06-29 08:28:12,954 : INFO : worker thread finished; awaiting finish of 7 more threads\n2023-06-29 08:28:12,984 : INFO : worker thread finished; awaiting finish of 6 more threads\n2023-06-29 08:28:13,003 : INFO : worker thread finished; awaiting finish of 5 more threads\n2023-06-29 08:28:13,004 : INFO : worker thread finished; awaiting finish of 4 more threads\n2023-06-29 08:28:13,015 : INFO : worker thread finished; awaiting finish of 3 more threads\n2023-06-29 08:28:13,022 : INFO : worker thread finished; awaiting finish of 2 more threads\n2023-06-29 08:28:13,027 : INFO : worker thread finished; awaiting finish of 1 more threads\n2023-06-29 08:28:13,033 : INFO : worker thread finished; awaiting finish of 0 more threads\n2023-06-29 08:28:13,033 : INFO : EPOCH - 25 : training on 9227204 raw words (8221376 effective words) took 21.9s, 375755 effective words/s\n2023-06-29 08:28:14,071 : INFO : EPOCH 26 - PROGRESS: at 4.45% examples, 355061 words/s, in_qsize 15, out_qsize 0\n2023-06-29 08:28:15,149 : INFO : EPOCH 26 - PROGRESS: at 9.12% examples, 355287 words/s, in_qsize 14, out_qsize 1\n2023-06-29 08:28:16,171 : INFO : EPOCH 26 - PROGRESS: at 13.04% examples, 341774 words/s, in_qsize 14, out_qsize 1\n2023-06-29 08:28:17,171 : INFO : EPOCH 26 - PROGRESS: at 17.57% examples, 349517 words/s, in_qsize 15, out_qsize 0\n2023-06-29 08:28:18,291 : INFO : EPOCH 26 - PROGRESS: at 22.22% examples, 347979 words/s, in_qsize 13, out_qsize 3\n2023-06-29 08:28:19,335 : INFO : EPOCH 26 - PROGRESS: at 26.23% examples, 342663 words/s, in_qsize 16, out_qsize 2\n2023-06-29 08:28:20,397 : INFO : EPOCH 26 - PROGRESS: at 29.05% examples, 324678 words/s, in_qsize 14, out_qsize 1\n2023-06-29 08:28:21,414 : INFO : EPOCH 26 - PROGRESS: at 33.06% examples, 324581 words/s, in_qsize 15, out_qsize 0\n2023-06-29 08:28:22,421 : INFO : EPOCH 26 - PROGRESS: at 37.70% examples, 330558 words/s, in_qsize 14, out_qsize 0\n2023-06-29 08:28:23,538 : INFO : EPOCH 26 - PROGRESS: at 42.24% examples, 331049 words/s, in_qsize 13, out_qsize 2\n2023-06-29 08:28:24,570 : INFO : EPOCH 26 - PROGRESS: at 47.11% examples, 336193 words/s, in_qsize 16, out_qsize 1\n2023-06-29 08:28:25,593 : INFO : EPOCH 26 - PROGRESS: at 51.54% examples, 337900 words/s, in_qsize 16, out_qsize 1\n2023-06-29 08:28:26,619 : INFO : EPOCH 26 - PROGRESS: at 56.40% examples, 341897 words/s, in_qsize 15, out_qsize 3\n2023-06-29 08:28:27,715 : INFO : EPOCH 26 - PROGRESS: at 60.85% examples, 341257 words/s, in_qsize 14, out_qsize 3\n2023-06-29 08:28:28,718 : INFO : EPOCH 26 - PROGRESS: at 65.93% examples, 346124 words/s, in_qsize 14, out_qsize 1\n2023-06-29 08:28:29,719 : INFO : EPOCH 26 - PROGRESS: at 70.05% examples, 345647 words/s, in_qsize 16, out_qsize 0\n2023-06-29 08:28:30,808 : INFO : EPOCH 26 - PROGRESS: at 75.14% examples, 348015 words/s, in_qsize 16, out_qsize 0\n2023-06-29 08:28:31,852 : INFO : EPOCH 26 - PROGRESS: at 79.92% examples, 350218 words/s, in_qsize 16, out_qsize 0\n2023-06-29 08:28:32,820 : INFO : EPOCH 26 - PROGRESS: at 84.80% examples, 352695 words/s, in_qsize 15, out_qsize 0\n2023-06-29 08:28:33,885 : INFO : EPOCH 26 - PROGRESS: at 89.56% examples, 353483 words/s, in_qsize 16, out_qsize 0\n2023-06-29 08:28:34,890 : INFO : EPOCH 26 - PROGRESS: at 94.03% examples, 353919 words/s, in_qsize 15, out_qsize 0\n2023-06-29 08:28:35,894 : INFO : EPOCH 26 - PROGRESS: at 98.25% examples, 353559 words/s, in_qsize 15, out_qsize 1\n2023-06-29 08:28:36,054 : INFO : worker thread finished; awaiting finish of 7 more threads\n2023-06-29 08:28:36,055 : INFO : worker thread finished; awaiting finish of 6 more threads\n2023-06-29 08:28:36,077 : INFO : worker thread finished; awaiting finish of 5 more threads\n2023-06-29 08:28:36,080 : INFO : worker thread finished; awaiting finish of 4 more threads\n2023-06-29 08:28:36,108 : INFO : worker thread finished; awaiting finish of 3 more threads\n2023-06-29 08:28:36,114 : INFO : worker thread finished; awaiting finish of 2 more threads\n2023-06-29 08:28:36,118 : INFO : worker thread finished; awaiting finish of 1 more threads\n2023-06-29 08:28:36,119 : INFO : worker thread finished; awaiting finish of 0 more threads\n2023-06-29 08:28:36,120 : INFO : EPOCH - 26 : training on 9227204 raw words (8222846 effective words) took 23.1s, 356326 effective words/s\n2023-06-29 08:28:37,159 : INFO : EPOCH 27 - PROGRESS: at 4.23% examples, 337171 words/s, in_qsize 16, out_qsize 1\n2023-06-29 08:28:38,202 : INFO : EPOCH 27 - PROGRESS: at 8.58% examples, 339392 words/s, in_qsize 16, out_qsize 0\n2023-06-29 08:28:39,205 : INFO : EPOCH 27 - PROGRESS: at 13.58% examples, 362099 words/s, in_qsize 16, out_qsize 0\n2023-06-29 08:28:40,218 : INFO : EPOCH 27 - PROGRESS: at 17.67% examples, 355093 words/s, in_qsize 16, out_qsize 1\n2023-06-29 08:28:41,238 : INFO : EPOCH 27 - PROGRESS: at 22.44% examples, 360978 words/s, in_qsize 14, out_qsize 1\n2023-06-29 08:28:42,258 : INFO : EPOCH 27 - PROGRESS: at 26.99% examples, 361982 words/s, in_qsize 10, out_qsize 4\n2023-06-29 08:28:43,289 : INFO : EPOCH 27 - PROGRESS: at 31.97% examples, 367122 words/s, in_qsize 16, out_qsize 0\n2023-06-29 08:28:44,327 : INFO : EPOCH 27 - PROGRESS: at 36.40% examples, 365184 words/s, in_qsize 12, out_qsize 3\n2023-06-29 08:28:45,334 : INFO : EPOCH 27 - PROGRESS: at 41.26% examples, 368794 words/s, in_qsize 14, out_qsize 2\n2023-06-29 08:28:46,394 : INFO : EPOCH 27 - PROGRESS: at 45.81% examples, 367141 words/s, in_qsize 15, out_qsize 2\n2023-06-29 08:28:47,397 : INFO : EPOCH 27 - PROGRESS: at 50.24% examples, 366894 words/s, in_qsize 14, out_qsize 1\n2023-06-29 08:28:48,400 : INFO : EPOCH 27 - PROGRESS: at 54.78% examples, 367417 words/s, in_qsize 14, out_qsize 2\n2023-06-29 08:28:49,402 : INFO : EPOCH 27 - PROGRESS: at 59.66% examples, 369909 words/s, in_qsize 15, out_qsize 0\n2023-06-29 08:28:50,428 : INFO : EPOCH 27 - PROGRESS: at 64.30% examples, 370174 words/s, in_qsize 15, out_qsize 0\n2023-06-29 08:28:51,539 : INFO : EPOCH 27 - PROGRESS: at 67.77% examples, 361980 words/s, in_qsize 15, out_qsize 0\n2023-06-29 08:28:52,543 : INFO : EPOCH 27 - PROGRESS: at 70.59% examples, 353924 words/s, in_qsize 15, out_qsize 0\n2023-06-29 08:28:53,590 : INFO : EPOCH 27 - PROGRESS: at 74.70% examples, 352093 words/s, in_qsize 14, out_qsize 4\n2023-06-29 08:28:54,602 : INFO : EPOCH 27 - PROGRESS: at 79.49% examples, 354004 words/s, in_qsize 14, out_qsize 1\n2023-06-29 08:28:55,622 : INFO : EPOCH 27 - PROGRESS: at 84.15% examples, 355150 words/s, in_qsize 15, out_qsize 0\n2023-06-29 08:28:56,626 : INFO : EPOCH 27 - PROGRESS: at 88.37% examples, 354696 words/s, in_qsize 15, out_qsize 0\n2023-06-29 08:28:57,637 : INFO : EPOCH 27 - PROGRESS: at 92.50% examples, 353744 words/s, in_qsize 12, out_qsize 0\n2023-06-29 08:28:58,641 : INFO : EPOCH 27 - PROGRESS: at 97.07% examples, 354574 words/s, in_qsize 16, out_qsize 0\n2023-06-29 08:28:59,165 : INFO : worker thread finished; awaiting finish of 7 more threads\n2023-06-29 08:28:59,167 : INFO : worker thread finished; awaiting finish of 6 more threads\n2023-06-29 08:28:59,176 : INFO : worker thread finished; awaiting finish of 5 more threads\n2023-06-29 08:28:59,208 : INFO : worker thread finished; awaiting finish of 4 more threads\n2023-06-29 08:28:59,213 : INFO : worker thread finished; awaiting finish of 3 more threads\n2023-06-29 08:28:59,226 : INFO : worker thread finished; awaiting finish of 2 more threads\n2023-06-29 08:28:59,233 : INFO : worker thread finished; awaiting finish of 1 more threads\n2023-06-29 08:28:59,236 : INFO : worker thread finished; awaiting finish of 0 more threads\n2023-06-29 08:28:59,237 : INFO : EPOCH - 27 : training on 9227204 raw words (8223727 effective words) took 23.1s, 355883 effective words/s\n2023-06-29 08:29:00,414 : INFO : EPOCH 28 - PROGRESS: at 4.24% examples, 308231 words/s, in_qsize 15, out_qsize 2\n2023-06-29 08:29:01,443 : INFO : EPOCH 28 - PROGRESS: at 9.12% examples, 340738 words/s, in_qsize 15, out_qsize 0\n2023-06-29 08:29:02,516 : INFO : EPOCH 28 - PROGRESS: at 14.22% examples, 356971 words/s, in_qsize 15, out_qsize 0\n2023-06-29 08:29:03,570 : INFO : EPOCH 28 - PROGRESS: at 18.76% examples, 356361 words/s, in_qsize 14, out_qsize 1\n2023-06-29 08:29:04,582 : INFO : EPOCH 28 - PROGRESS: at 23.53% examples, 362337 words/s, in_qsize 15, out_qsize 0\n2023-06-29 08:29:05,591 : INFO : EPOCH 28 - PROGRESS: at 28.29% examples, 366455 words/s, in_qsize 15, out_qsize 0\n2023-06-29 08:29:06,600 : INFO : EPOCH 28 - PROGRESS: at 32.84% examples, 367071 words/s, in_qsize 14, out_qsize 1\n2023-06-29 08:29:07,677 : INFO : EPOCH 28 - PROGRESS: at 36.94% examples, 361308 words/s, in_qsize 15, out_qsize 0\n2023-06-29 08:29:08,661 : INFO : EPOCH 28 - PROGRESS: at 41.81% examples, 365235 words/s, in_qsize 14, out_qsize 1\n2023-06-29 08:29:09,688 : INFO : EPOCH 28 - PROGRESS: at 46.57% examples, 366816 words/s, in_qsize 15, out_qsize 1\n2023-06-29 08:29:10,709 : INFO : EPOCH 28 - PROGRESS: at 51.21% examples, 367612 words/s, in_qsize 16, out_qsize 0\n2023-06-29 08:29:11,720 : INFO : EPOCH 28 - PROGRESS: at 55.75% examples, 367821 words/s, in_qsize 15, out_qsize 0\n2023-06-29 08:29:12,724 : INFO : EPOCH 28 - PROGRESS: at 60.19% examples, 367543 words/s, in_qsize 15, out_qsize 0\n2023-06-29 08:29:13,744 : INFO : EPOCH 28 - PROGRESS: at 64.62% examples, 366869 words/s, in_qsize 16, out_qsize 0\n2023-06-29 08:29:14,764 : INFO : EPOCH 28 - PROGRESS: at 69.18% examples, 366860 words/s, in_qsize 15, out_qsize 0\n2023-06-29 08:29:15,783 : INFO : EPOCH 28 - PROGRESS: at 73.83% examples, 367381 words/s, in_qsize 12, out_qsize 0\n2023-06-29 08:29:16,820 : INFO : EPOCH 28 - PROGRESS: at 78.29% examples, 366483 words/s, in_qsize 16, out_qsize 0\n2023-06-29 08:29:17,857 : INFO : EPOCH 28 - PROGRESS: at 82.74% examples, 365677 words/s, in_qsize 15, out_qsize 1\n2023-06-29 08:29:18,987 : INFO : EPOCH 28 - PROGRESS: at 87.72% examples, 365497 words/s, in_qsize 14, out_qsize 1\n2023-06-29 08:29:19,993 : INFO : EPOCH 28 - PROGRESS: at 92.50% examples, 366639 words/s, in_qsize 15, out_qsize 0\n2023-06-29 08:29:21,037 : INFO : EPOCH 28 - PROGRESS: at 97.07% examples, 366235 words/s, in_qsize 15, out_qsize 0\n2023-06-29 08:29:21,496 : INFO : worker thread finished; awaiting finish of 7 more threads\n2023-06-29 08:29:21,502 : INFO : worker thread finished; awaiting finish of 6 more threads\n2023-06-29 08:29:21,521 : INFO : worker thread finished; awaiting finish of 5 more threads\n2023-06-29 08:29:21,536 : INFO : worker thread finished; awaiting finish of 4 more threads\n2023-06-29 08:29:21,551 : INFO : worker thread finished; awaiting finish of 3 more threads\n2023-06-29 08:29:21,555 : INFO : worker thread finished; awaiting finish of 2 more threads\n2023-06-29 08:29:21,567 : INFO : worker thread finished; awaiting finish of 1 more threads\n2023-06-29 08:29:21,571 : INFO : worker thread finished; awaiting finish of 0 more threads\n2023-06-29 08:29:21,572 : INFO : EPOCH - 28 : training on 9227204 raw words (8221876 effective words) took 22.3s, 368278 effective words/s\n2023-06-29 08:29:22,656 : INFO : EPOCH 29 - PROGRESS: at 4.23% examples, 323171 words/s, in_qsize 14, out_qsize 1\n2023-06-29 08:29:23,673 : INFO : EPOCH 29 - PROGRESS: at 7.71% examples, 302431 words/s, in_qsize 12, out_qsize 2\n2023-06-29 08:29:24,937 : INFO : EPOCH 29 - PROGRESS: at 10.42% examples, 254924 words/s, in_qsize 15, out_qsize 0\n2023-06-29 08:29:25,989 : INFO : EPOCH 29 - PROGRESS: at 14.97% examples, 278894 words/s, in_qsize 10, out_qsize 5\n2023-06-29 08:29:27,054 : INFO : EPOCH 29 - PROGRESS: at 19.84% examples, 297826 words/s, in_qsize 15, out_qsize 0\n2023-06-29 08:29:28,065 : INFO : EPOCH 29 - PROGRESS: at 24.18% examples, 306359 words/s, in_qsize 15, out_qsize 0\n2023-06-29 08:29:29,106 : INFO : EPOCH 29 - PROGRESS: at 28.83% examples, 314858 words/s, in_qsize 13, out_qsize 2\n2023-06-29 08:29:30,131 : INFO : EPOCH 29 - PROGRESS: at 33.38% examples, 320839 words/s, in_qsize 15, out_qsize 0\n2023-06-29 08:29:31,245 : INFO : EPOCH 29 - PROGRESS: at 38.02% examples, 323475 words/s, in_qsize 15, out_qsize 0\n2023-06-29 08:29:32,275 : INFO : EPOCH 29 - PROGRESS: at 42.89% examples, 329801 words/s, in_qsize 16, out_qsize 0\n2023-06-29 08:29:33,277 : INFO : EPOCH 29 - PROGRESS: at 47.43% examples, 333550 words/s, in_qsize 13, out_qsize 1\n2023-06-29 08:29:34,303 : INFO : EPOCH 29 - PROGRESS: at 52.07% examples, 336795 words/s, in_qsize 16, out_qsize 0\n2023-06-29 08:29:35,328 : INFO : EPOCH 29 - PROGRESS: at 56.40% examples, 337608 words/s, in_qsize 16, out_qsize 0\n2023-06-29 08:29:36,347 : INFO : EPOCH 29 - PROGRESS: at 61.07% examples, 340285 words/s, in_qsize 14, out_qsize 0\n2023-06-29 08:29:37,355 : INFO : EPOCH 29 - PROGRESS: at 65.27% examples, 340563 words/s, in_qsize 14, out_qsize 1\n2023-06-29 08:29:38,355 : INFO : EPOCH 29 - PROGRESS: at 69.72% examples, 342027 words/s, in_qsize 13, out_qsize 2\n2023-06-29 08:29:39,388 : INFO : EPOCH 29 - PROGRESS: at 74.70% examples, 345184 words/s, in_qsize 12, out_qsize 0\n2023-06-29 08:29:40,390 : INFO : EPOCH 29 - PROGRESS: at 78.62% examples, 343856 words/s, in_qsize 15, out_qsize 0\n2023-06-29 08:29:41,459 : INFO : EPOCH 29 - PROGRESS: at 83.62% examples, 345996 words/s, in_qsize 16, out_qsize 2\n2023-06-29 08:29:42,540 : INFO : EPOCH 29 - PROGRESS: at 88.37% examples, 346842 words/s, in_qsize 15, out_qsize 0\n2023-06-29 08:29:43,608 : INFO : EPOCH 29 - PROGRESS: at 93.16% examples, 347792 words/s, in_qsize 16, out_qsize 1\n2023-06-29 08:29:44,658 : INFO : EPOCH 29 - PROGRESS: at 98.04% examples, 349321 words/s, in_qsize 15, out_qsize 0\n2023-06-29 08:29:44,867 : INFO : worker thread finished; awaiting finish of 7 more threads\n2023-06-29 08:29:44,872 : INFO : worker thread finished; awaiting finish of 6 more threads\n2023-06-29 08:29:44,873 : INFO : worker thread finished; awaiting finish of 5 more threads\n2023-06-29 08:29:44,888 : INFO : worker thread finished; awaiting finish of 4 more threads\n2023-06-29 08:29:44,900 : INFO : worker thread finished; awaiting finish of 3 more threads\n2023-06-29 08:29:44,928 : INFO : worker thread finished; awaiting finish of 2 more threads\n2023-06-29 08:29:44,932 : INFO : worker thread finished; awaiting finish of 1 more threads\n2023-06-29 08:29:44,939 : INFO : worker thread finished; awaiting finish of 0 more threads\n2023-06-29 08:29:44,940 : INFO : EPOCH - 29 : training on 9227204 raw words (8222799 effective words) took 23.4s, 352014 effective words/s\n2023-06-29 08:29:45,979 : INFO : EPOCH 30 - PROGRESS: at 4.13% examples, 329161 words/s, in_qsize 16, out_qsize 0\n2023-06-29 08:29:47,002 : INFO : EPOCH 30 - PROGRESS: at 8.37% examples, 334289 words/s, in_qsize 13, out_qsize 2\n2023-06-29 08:29:48,046 : INFO : EPOCH 30 - PROGRESS: at 12.82% examples, 339599 words/s, in_qsize 16, out_qsize 0\n2023-06-29 08:29:49,061 : INFO : EPOCH 30 - PROGRESS: at 17.78% examples, 355386 words/s, in_qsize 16, out_qsize 0\n2023-06-29 08:29:50,110 : INFO : EPOCH 30 - PROGRESS: at 22.54% examples, 359184 words/s, in_qsize 14, out_qsize 1\n2023-06-29 08:29:51,134 : INFO : EPOCH 30 - PROGRESS: at 27.10% examples, 360232 words/s, in_qsize 13, out_qsize 4\n2023-06-29 08:29:52,146 : INFO : EPOCH 30 - PROGRESS: at 31.65% examples, 361605 words/s, in_qsize 13, out_qsize 2\n2023-06-29 08:29:53,166 : INFO : EPOCH 30 - PROGRESS: at 36.29% examples, 363307 words/s, in_qsize 12, out_qsize 3\n2023-06-29 08:29:54,168 : INFO : EPOCH 30 - PROGRESS: at 41.26% examples, 368253 words/s, in_qsize 15, out_qsize 0\n2023-06-29 08:29:55,198 : INFO : EPOCH 30 - PROGRESS: at 45.37% examples, 364279 words/s, in_qsize 16, out_qsize 0\n2023-06-29 08:29:56,225 : INFO : EPOCH 30 - PROGRESS: at 48.30% examples, 352457 words/s, in_qsize 16, out_qsize 0\n2023-06-29 08:29:57,304 : INFO : EPOCH 30 - PROGRESS: at 51.10% examples, 340418 words/s, in_qsize 15, out_qsize 0\n2023-06-29 08:29:58,321 : INFO : EPOCH 30 - PROGRESS: at 55.53% examples, 341890 words/s, in_qsize 15, out_qsize 0\n2023-06-29 08:29:59,367 : INFO : EPOCH 30 - PROGRESS: at 60.31% examples, 344245 words/s, in_qsize 15, out_qsize 1\n2023-06-29 08:30:00,388 : INFO : EPOCH 30 - PROGRESS: at 65.06% examples, 346857 words/s, in_qsize 15, out_qsize 0\n2023-06-29 08:30:01,465 : INFO : EPOCH 30 - PROGRESS: at 69.83% examples, 347986 words/s, in_qsize 13, out_qsize 4\n2023-06-29 08:30:02,537 : INFO : EPOCH 30 - PROGRESS: at 74.92% examples, 350557 words/s, in_qsize 14, out_qsize 1\n2023-06-29 08:30:03,552 : INFO : EPOCH 30 - PROGRESS: at 79.60% examples, 352011 words/s, in_qsize 15, out_qsize 3\n2023-06-29 08:30:04,683 : INFO : EPOCH 30 - PROGRESS: at 84.91% examples, 353948 words/s, in_qsize 16, out_qsize 0\n2023-06-29 08:30:05,726 : INFO : EPOCH 30 - PROGRESS: at 89.56% examples, 354852 words/s, in_qsize 13, out_qsize 6\n2023-06-29 08:30:06,735 : INFO : EPOCH 30 - PROGRESS: at 94.25% examples, 355742 words/s, in_qsize 16, out_qsize 0\n2023-06-29 08:30:07,827 : INFO : EPOCH 30 - PROGRESS: at 99.01% examples, 355889 words/s, in_qsize 10, out_qsize 0\n2023-06-29 08:30:07,857 : INFO : worker thread finished; awaiting finish of 7 more threads\n2023-06-29 08:30:07,872 : INFO : worker thread finished; awaiting finish of 6 more threads\n2023-06-29 08:30:07,874 : INFO : worker thread finished; awaiting finish of 5 more threads\n2023-06-29 08:30:07,875 : INFO : worker thread finished; awaiting finish of 4 more threads\n2023-06-29 08:30:07,884 : INFO : worker thread finished; awaiting finish of 3 more threads\n2023-06-29 08:30:07,903 : INFO : worker thread finished; awaiting finish of 2 more threads\n2023-06-29 08:30:07,912 : INFO : worker thread finished; awaiting finish of 1 more threads\n2023-06-29 08:30:07,915 : INFO : worker thread finished; awaiting finish of 0 more threads\n2023-06-29 08:30:07,917 : INFO : EPOCH - 30 : training on 9227204 raw words (8222836 effective words) took 23.0s, 358041 effective words/s\n2023-06-29 08:30:08,935 : INFO : EPOCH 31 - PROGRESS: at 4.34% examples, 353915 words/s, in_qsize 15, out_qsize 1\n2023-06-29 08:30:09,989 : INFO : EPOCH 31 - PROGRESS: at 9.23% examples, 367458 words/s, in_qsize 15, out_qsize 1\n2023-06-29 08:30:11,001 : INFO : EPOCH 31 - PROGRESS: at 13.68% examples, 365330 words/s, in_qsize 12, out_qsize 2\n2023-06-29 08:30:12,013 : INFO : EPOCH 31 - PROGRESS: at 18.54% examples, 372972 words/s, in_qsize 16, out_qsize 0\n2023-06-29 08:30:13,032 : INFO : EPOCH 31 - PROGRESS: at 22.98% examples, 370080 words/s, in_qsize 15, out_qsize 2\n2023-06-29 08:30:14,095 : INFO : EPOCH 31 - PROGRESS: at 27.86% examples, 371323 words/s, in_qsize 16, out_qsize 0\n2023-06-29 08:30:15,125 : INFO : EPOCH 31 - PROGRESS: at 32.51% examples, 371425 words/s, in_qsize 15, out_qsize 0\n2023-06-29 08:30:16,128 : INFO : EPOCH 31 - PROGRESS: at 37.05% examples, 371589 words/s, in_qsize 14, out_qsize 2\n2023-06-29 08:30:17,146 : INFO : EPOCH 31 - PROGRESS: at 42.13% examples, 375961 words/s, in_qsize 14, out_qsize 0\n2023-06-29 08:30:18,154 : INFO : EPOCH 31 - PROGRESS: at 46.35% examples, 372886 words/s, in_qsize 14, out_qsize 1\n2023-06-29 08:30:19,181 : INFO : EPOCH 31 - PROGRESS: at 51.43% examples, 376035 words/s, in_qsize 16, out_qsize 0\n2023-06-29 08:30:20,191 : INFO : EPOCH 31 - PROGRESS: at 55.97% examples, 375567 words/s, in_qsize 13, out_qsize 2\n2023-06-29 08:30:21,224 : INFO : EPOCH 31 - PROGRESS: at 60.85% examples, 376568 words/s, in_qsize 15, out_qsize 0\n2023-06-29 08:30:22,235 : INFO : EPOCH 31 - PROGRESS: at 65.82% examples, 378581 words/s, in_qsize 14, out_qsize 1\n2023-06-29 08:30:23,281 : INFO : EPOCH 31 - PROGRESS: at 71.24% examples, 381791 words/s, in_qsize 15, out_qsize 0\n2023-06-29 08:30:24,333 : INFO : EPOCH 31 - PROGRESS: at 75.89% examples, 380641 words/s, in_qsize 15, out_qsize 0\n2023-06-29 08:30:25,364 : INFO : EPOCH 31 - PROGRESS: at 81.34% examples, 383697 words/s, in_qsize 16, out_qsize 0\n2023-06-29 08:30:26,380 : INFO : EPOCH 31 - PROGRESS: at 85.66% examples, 381874 words/s, in_qsize 15, out_qsize 0\n2023-06-29 08:30:27,393 : INFO : EPOCH 31 - PROGRESS: at 90.32% examples, 381676 words/s, in_qsize 13, out_qsize 0\n2023-06-29 08:30:28,448 : INFO : EPOCH 31 - PROGRESS: at 92.39% examples, 371226 words/s, in_qsize 16, out_qsize 5\n2023-06-29 08:30:29,401 : INFO : EPOCH 31 - PROGRESS: at 95.99% examples, 367513 words/s, in_qsize 15, out_qsize 0\n2023-06-29 08:30:30,104 : INFO : worker thread finished; awaiting finish of 7 more threads\n2023-06-29 08:30:30,118 : INFO : worker thread finished; awaiting finish of 6 more threads\n2023-06-29 08:30:30,127 : INFO : worker thread finished; awaiting finish of 5 more threads\n2023-06-29 08:30:30,129 : INFO : worker thread finished; awaiting finish of 4 more threads\n2023-06-29 08:30:30,130 : INFO : worker thread finished; awaiting finish of 3 more threads\n2023-06-29 08:30:30,132 : INFO : worker thread finished; awaiting finish of 2 more threads\n2023-06-29 08:30:30,159 : INFO : worker thread finished; awaiting finish of 1 more threads\n2023-06-29 08:30:30,173 : INFO : worker thread finished; awaiting finish of 0 more threads\n2023-06-29 08:30:30,173 : INFO : EPOCH - 31 : training on 9227204 raw words (8221969 effective words) took 22.2s, 369622 effective words/s\n2023-06-29 08:30:31,205 : INFO : EPOCH 32 - PROGRESS: at 4.23% examples, 339783 words/s, in_qsize 13, out_qsize 3\n2023-06-29 08:30:32,207 : INFO : EPOCH 32 - PROGRESS: at 8.90% examples, 360867 words/s, in_qsize 15, out_qsize 0\n2023-06-29 08:30:33,211 : INFO : EPOCH 32 - PROGRESS: at 13.79% examples, 373601 words/s, in_qsize 13, out_qsize 5\n2023-06-29 08:30:34,245 : INFO : EPOCH 32 - PROGRESS: at 19.08% examples, 385921 words/s, in_qsize 15, out_qsize 0\n2023-06-29 08:30:35,298 : INFO : EPOCH 32 - PROGRESS: at 23.74% examples, 382299 words/s, in_qsize 16, out_qsize 1\n2023-06-29 08:30:36,360 : INFO : EPOCH 32 - PROGRESS: at 29.16% examples, 387963 words/s, in_qsize 15, out_qsize 0\n2023-06-29 08:30:37,360 : INFO : EPOCH 32 - PROGRESS: at 33.48% examples, 383512 words/s, in_qsize 14, out_qsize 0\n2023-06-29 08:30:38,372 : INFO : EPOCH 32 - PROGRESS: at 38.46% examples, 386128 words/s, in_qsize 12, out_qsize 0\n2023-06-29 08:30:39,426 : INFO : EPOCH 32 - PROGRESS: at 42.89% examples, 381634 words/s, in_qsize 15, out_qsize 0\n2023-06-29 08:30:40,440 : INFO : EPOCH 32 - PROGRESS: at 47.75% examples, 382965 words/s, in_qsize 14, out_qsize 1\n2023-06-29 08:30:41,491 : INFO : EPOCH 32 - PROGRESS: at 52.51% examples, 382071 words/s, in_qsize 15, out_qsize 0\n2023-06-29 08:30:42,493 : INFO : EPOCH 32 - PROGRESS: at 57.17% examples, 382084 words/s, in_qsize 13, out_qsize 2\n2023-06-29 08:30:43,516 : INFO : EPOCH 32 - PROGRESS: at 62.36% examples, 384878 words/s, in_qsize 14, out_qsize 1\n2023-06-29 08:30:44,530 : INFO : EPOCH 32 - PROGRESS: at 67.13% examples, 384975 words/s, in_qsize 15, out_qsize 0\n2023-06-29 08:30:45,564 : INFO : EPOCH 32 - PROGRESS: at 71.89% examples, 384586 words/s, in_qsize 13, out_qsize 2\n2023-06-29 08:30:46,606 : INFO : EPOCH 32 - PROGRESS: at 76.87% examples, 385130 words/s, in_qsize 15, out_qsize 0\n2023-06-29 08:30:47,625 : INFO : EPOCH 32 - PROGRESS: at 81.23% examples, 383053 words/s, in_qsize 15, out_qsize 0\n2023-06-29 08:30:48,693 : INFO : EPOCH 32 - PROGRESS: at 86.31% examples, 383562 words/s, in_qsize 15, out_qsize 0\n2023-06-29 08:30:49,778 : INFO : EPOCH 32 - PROGRESS: at 91.41% examples, 384068 words/s, in_qsize 16, out_qsize 3\n2023-06-29 08:30:50,791 : INFO : EPOCH 32 - PROGRESS: at 96.53% examples, 385117 words/s, in_qsize 15, out_qsize 0\n2023-06-29 08:30:51,311 : INFO : worker thread finished; awaiting finish of 7 more threads\n2023-06-29 08:30:51,316 : INFO : worker thread finished; awaiting finish of 6 more threads\n2023-06-29 08:30:51,322 : INFO : worker thread finished; awaiting finish of 5 more threads\n2023-06-29 08:30:51,332 : INFO : worker thread finished; awaiting finish of 4 more threads\n2023-06-29 08:30:51,341 : INFO : worker thread finished; awaiting finish of 3 more threads\n2023-06-29 08:30:51,344 : INFO : worker thread finished; awaiting finish of 2 more threads\n2023-06-29 08:30:51,356 : INFO : worker thread finished; awaiting finish of 1 more threads\n2023-06-29 08:30:51,361 : INFO : worker thread finished; awaiting finish of 0 more threads\n2023-06-29 08:30:51,362 : INFO : EPOCH - 32 : training on 9227204 raw words (8222080 effective words) took 21.2s, 388236 effective words/s\n2023-06-29 08:30:51,364 : INFO : training on a 295270528 raw words (263121003 effective words) took 726.3s, 362289 effective words/s\n",
          "output_type": "stream"
        },
        {
          "name": "stdout",
          "text": "CPU times: user 22min 27s, sys: 6.63 s, total: 22min 34s\nWall time: 12min 6s\n",
          "output_type": "stream"
        },
        {
          "execution_count": 54,
          "output_type": "execute_result",
          "data": {
            "text/plain": "(263121003, 295270528)"
          },
          "metadata": {}
        }
      ]
    },
    {
      "cell_type": "code",
      "source": [
        "w2v_model.most_similar(\"love\")"
      ],
      "metadata": {
        "_uuid": "27cc2651c74227115d8bfd8c40e5618048e05edd",
        "execution": {
          "iopub.status.busy": "2023-06-29T08:30:51.371330Z",
          "iopub.execute_input": "2023-06-29T08:30:51.371608Z",
          "iopub.status.idle": "2023-06-29T08:30:51.468194Z",
          "shell.execute_reply.started": "2023-06-29T08:30:51.371559Z",
          "shell.execute_reply": "2023-06-29T08:30:51.467291Z"
        },
        "trusted": true,
        "id": "TBqa6qpN-fic",
        "outputId": "c4c282e3-4dee-40bc-b36c-2d34fb0f46fb"
      },
      "execution_count": null,
      "outputs": [
        {
          "name": "stderr",
          "text": "/opt/conda/lib/python3.6/site-packages/ipykernel_launcher.py:1: DeprecationWarning: Call to deprecated `most_similar` (Method will be removed in 4.0.0, use self.wv.most_similar() instead).\n  \"\"\"Entry point for launching an IPython kernel.\n2023-06-29 08:30:51,373 : INFO : precomputing L2-norms of word weight vectors\n/opt/conda/lib/python3.6/site-packages/gensim/matutils.py:737: FutureWarning: Conversion of the second argument of issubdtype from `int` to `np.signedinteger` is deprecated. In future, it will be treated as `np.int64 == np.dtype(int).type`.\n  if np.issubdtype(vec.dtype, np.int):\n",
          "output_type": "stream"
        },
        {
          "execution_count": 55,
          "output_type": "execute_result",
          "data": {
            "text/plain": "[('luv', 0.5782203674316406),\n ('loves', 0.5563244223594666),\n ('loved', 0.542149007320404),\n ('adore', 0.5200611352920532),\n ('amazing', 0.5077873468399048),\n ('looove', 0.4962958097457886),\n ('loveee', 0.46787068247795105),\n ('awesome', 0.4630008935928345),\n ('loooove', 0.4456910192966461),\n ('lovee', 0.44040095806121826)]"
          },
          "metadata": {}
        }
      ]
    },
    {
      "cell_type": "markdown",
      "source": [
        "### Tokenize Text"
      ],
      "metadata": {
        "_uuid": "e13563644468037258598637b49373ca96b9b879",
        "id": "9z5xtlTa-fic"
      }
    },
    {
      "cell_type": "code",
      "source": [
        "%%time\n",
        "tokenizer = Tokenizer()\n",
        "tokenizer.fit_on_texts(df_train.text)\n",
        "\n",
        "vocab_size = len(tokenizer.word_index) + 1\n",
        "print(\"Total words\", vocab_size)"
      ],
      "metadata": {
        "_uuid": "6852bc709a7cd20173cbeeb218505078f8f37c57",
        "execution": {
          "iopub.status.busy": "2023-06-29T08:30:51.469945Z",
          "iopub.execute_input": "2023-06-29T08:30:51.470315Z",
          "iopub.status.idle": "2023-06-29T08:31:19.330992Z",
          "shell.execute_reply.started": "2023-06-29T08:30:51.470248Z",
          "shell.execute_reply": "2023-06-29T08:31:19.330093Z"
        },
        "trusted": true,
        "id": "nVmjG04j-fid",
        "outputId": "744002e0-0c2d-48c6-d568-ea0bf2d6321d"
      },
      "execution_count": null,
      "outputs": [
        {
          "name": "stdout",
          "text": "Total words 290419\nCPU times: user 27.7 s, sys: 162 ms, total: 27.9 s\nWall time: 27.9 s\n",
          "output_type": "stream"
        }
      ]
    },
    {
      "cell_type": "code",
      "source": [
        "%%time\n",
        "x_train = pad_sequences(tokenizer.texts_to_sequences(df_train.text), maxlen=SEQUENCE_LENGTH)\n",
        "x_test = pad_sequences(tokenizer.texts_to_sequences(df_test.text), maxlen=SEQUENCE_LENGTH)"
      ],
      "metadata": {
        "_uuid": "45de439df3015030c71f84c2d170346936a1d68f",
        "execution": {
          "iopub.status.busy": "2023-06-29T08:31:19.332272Z",
          "iopub.execute_input": "2023-06-29T08:31:19.332556Z",
          "iopub.status.idle": "2023-06-29T08:32:05.124720Z",
          "shell.execute_reply.started": "2023-06-29T08:31:19.332507Z",
          "shell.execute_reply": "2023-06-29T08:32:05.123729Z"
        },
        "trusted": true,
        "id": "u4MwxPjS-fid",
        "outputId": "678f2a74-7e46-4ac3-ac26-4fefc274128d"
      },
      "execution_count": null,
      "outputs": [
        {
          "name": "stdout",
          "text": "CPU times: user 44.7 s, sys: 1.06 s, total: 45.7 s\nWall time: 45.8 s\n",
          "output_type": "stream"
        }
      ]
    },
    {
      "cell_type": "markdown",
      "source": [
        "### Label Encoder"
      ],
      "metadata": {
        "_uuid": "03b35903fc6260e190d6928d240ef7432de117fc",
        "id": "mJqBWWxi-fid"
      }
    },
    {
      "cell_type": "code",
      "source": [
        "labels = df_train.target.unique().tolist()\n",
        "labels.append(NEUTRAL)\n",
        "labels"
      ],
      "metadata": {
        "_uuid": "33676e0efa39e97d89bd650b8b4eae933a22fbf0",
        "execution": {
          "iopub.status.busy": "2023-06-29T08:32:05.126036Z",
          "iopub.execute_input": "2023-06-29T08:32:05.126330Z",
          "iopub.status.idle": "2023-06-29T08:32:05.190846Z",
          "shell.execute_reply.started": "2023-06-29T08:32:05.126271Z",
          "shell.execute_reply": "2023-06-29T08:32:05.190237Z"
        },
        "trusted": true,
        "id": "qu6ek1XA-fid",
        "outputId": "72432699-d996-4355-9903-c5febcb7e980"
      },
      "execution_count": null,
      "outputs": [
        {
          "execution_count": 58,
          "output_type": "execute_result",
          "data": {
            "text/plain": "['POSITIVE', 'NEGATIVE', 'NEUTRAL']"
          },
          "metadata": {}
        }
      ]
    },
    {
      "cell_type": "code",
      "source": [
        "encoder = LabelEncoder()\n",
        "encoder.fit(df_train.target.tolist())\n",
        "\n",
        "y_train = encoder.transform(df_train.target.tolist())\n",
        "y_test = encoder.transform(df_test.target.tolist())\n",
        "\n",
        "y_train = y_train.reshape(-1,1)\n",
        "y_test = y_test.reshape(-1,1)\n",
        "\n",
        "print(\"y_train\",y_train.shape)\n",
        "print(\"y_test\",y_test.shape)"
      ],
      "metadata": {
        "_uuid": "04239a9bef76e7922fd86098a5601dfde8ee4665",
        "execution": {
          "iopub.status.busy": "2023-06-29T08:32:05.192233Z",
          "iopub.execute_input": "2023-06-29T08:32:05.192506Z",
          "iopub.status.idle": "2023-06-29T08:32:06.499675Z",
          "shell.execute_reply.started": "2023-06-29T08:32:05.192458Z",
          "shell.execute_reply": "2023-06-29T08:32:06.498753Z"
        },
        "trusted": true,
        "id": "m6bltsW6-fid",
        "outputId": "ea7f88ee-264c-4150-b39a-62899dc91746"
      },
      "execution_count": null,
      "outputs": [
        {
          "name": "stdout",
          "text": "y_train (1280000, 1)\ny_test (320000, 1)\n",
          "output_type": "stream"
        }
      ]
    },
    {
      "cell_type": "code",
      "source": [
        "print(\"x_train\", x_train.shape)\n",
        "print(\"y_train\", y_train.shape)\n",
        "print()\n",
        "print(\"x_test\", x_test.shape)\n",
        "print(\"y_test\", y_test.shape)"
      ],
      "metadata": {
        "_uuid": "04299c886911ca135583ab64878f213939a2990c",
        "execution": {
          "iopub.status.busy": "2023-06-29T08:32:06.501133Z",
          "iopub.execute_input": "2023-06-29T08:32:06.501430Z",
          "iopub.status.idle": "2023-06-29T08:32:06.511313Z",
          "shell.execute_reply.started": "2023-06-29T08:32:06.501380Z",
          "shell.execute_reply": "2023-06-29T08:32:06.510183Z"
        },
        "trusted": true,
        "id": "rwnbakin-fie",
        "outputId": "1b7a7d63-d896-4868-8a18-bdad25d306e0"
      },
      "execution_count": null,
      "outputs": [
        {
          "name": "stdout",
          "text": "x_train (1280000, 300)\ny_train (1280000, 1)\n\nx_test (320000, 300)\ny_test (320000, 1)\n",
          "output_type": "stream"
        }
      ]
    },
    {
      "cell_type": "code",
      "source": [
        "y_train[:10]"
      ],
      "metadata": {
        "_uuid": "232533fb27b7be99d9b8c2f8fb22c9c6bf121a6f",
        "execution": {
          "iopub.status.busy": "2023-06-29T08:32:06.512655Z",
          "iopub.execute_input": "2023-06-29T08:32:06.512977Z",
          "iopub.status.idle": "2023-06-29T08:32:06.521148Z",
          "shell.execute_reply.started": "2023-06-29T08:32:06.512906Z",
          "shell.execute_reply": "2023-06-29T08:32:06.520010Z"
        },
        "trusted": true,
        "id": "ZvlVwF5n-fie",
        "outputId": "b12447cf-c4bf-457b-cf44-42c971218ea3"
      },
      "execution_count": null,
      "outputs": [
        {
          "execution_count": 61,
          "output_type": "execute_result",
          "data": {
            "text/plain": "array([[1],\n       [1],\n       [1],\n       [0],\n       [1],\n       [1],\n       [1],\n       [1],\n       [1],\n       [1]])"
          },
          "metadata": {}
        }
      ]
    },
    {
      "cell_type": "markdown",
      "source": [
        "### Embedding layer"
      ],
      "metadata": {
        "_uuid": "233c0ea94055a03e2e7df3e2a13d036ec963484f",
        "id": "TEaSR2GF-fie"
      }
    },
    {
      "cell_type": "code",
      "source": [
        "embedding_matrix = np.zeros((vocab_size, W2V_SIZE))\n",
        "for word, i in tokenizer.word_index.items():\n",
        "  if word in w2v_model.wv:\n",
        "    embedding_matrix[i] = w2v_model.wv[word]\n",
        "print(embedding_matrix.shape)"
      ],
      "metadata": {
        "_uuid": "9ab488374b59e3f30f8b1ea92767d853c4846bac",
        "execution": {
          "iopub.status.busy": "2023-06-29T08:32:06.523248Z",
          "iopub.execute_input": "2023-06-29T08:32:06.523752Z",
          "iopub.status.idle": "2023-06-29T08:32:06.899590Z",
          "shell.execute_reply.started": "2023-06-29T08:32:06.523502Z",
          "shell.execute_reply": "2023-06-29T08:32:06.898651Z"
        },
        "trusted": true,
        "id": "LmA-NEaP-fie",
        "outputId": "bd8d631f-b6dc-479b-e563-0b30b2b9abc2"
      },
      "execution_count": null,
      "outputs": [
        {
          "name": "stdout",
          "text": "(290419, 300)\n",
          "output_type": "stream"
        }
      ]
    },
    {
      "cell_type": "code",
      "source": [
        "embedding_layer = Embedding(vocab_size, W2V_SIZE, weights=[embedding_matrix], input_length=SEQUENCE_LENGTH, trainable=False)"
      ],
      "metadata": {
        "_uuid": "833279d91e4286065968237fb5f2a0c2dd4d246c",
        "execution": {
          "iopub.status.busy": "2023-06-29T08:32:06.901830Z",
          "iopub.execute_input": "2023-06-29T08:32:06.902329Z",
          "iopub.status.idle": "2023-06-29T08:32:06.907030Z",
          "shell.execute_reply.started": "2023-06-29T08:32:06.902275Z",
          "shell.execute_reply": "2023-06-29T08:32:06.906100Z"
        },
        "trusted": true,
        "id": "Fl3DCb0K-fie"
      },
      "execution_count": null,
      "outputs": []
    },
    {
      "cell_type": "markdown",
      "source": [
        "### Build Model"
      ],
      "metadata": {
        "_uuid": "b299ef78f94c2085942c993a2d58753a7476305a",
        "id": "4XtBlZm_-fif"
      }
    },
    {
      "cell_type": "code",
      "source": [
        "model = Sequential()\n",
        "model.add(embedding_layer)\n",
        "model.add(Dropout(0.5))\n",
        "model.add(LSTM(100, dropout=0.2, recurrent_dropout=0.2))\n",
        "model.add(Dense(1, activation='sigmoid'))\n",
        "\n",
        "model.summary()"
      ],
      "metadata": {
        "_uuid": "e775ef4f1b74e6412457181383c39f2df554ef3f",
        "execution": {
          "iopub.status.busy": "2023-06-29T08:32:06.908437Z",
          "iopub.execute_input": "2023-06-29T08:32:06.909001Z",
          "iopub.status.idle": "2023-06-29T08:32:08.443759Z",
          "shell.execute_reply.started": "2023-06-29T08:32:06.908750Z",
          "shell.execute_reply": "2023-06-29T08:32:08.443070Z"
        },
        "trusted": true,
        "id": "HyNDgWst-fif",
        "outputId": "88acdad4-6a6c-4326-f0da-fd6d1a6cfafa"
      },
      "execution_count": null,
      "outputs": [
        {
          "name": "stdout",
          "text": "_________________________________________________________________\nLayer (type)                 Output Shape              Param #   \n=================================================================\nembedding_2 (Embedding)      (None, 300, 300)          87125700  \n_________________________________________________________________\ndropout_2 (Dropout)          (None, 300, 300)          0         \n_________________________________________________________________\nlstm_2 (LSTM)                (None, 100)               160400    \n_________________________________________________________________\ndense_2 (Dense)              (None, 1)                 101       \n=================================================================\nTotal params: 87,286,201\nTrainable params: 160,501\nNon-trainable params: 87,125,700\n_________________________________________________________________\n",
          "output_type": "stream"
        }
      ]
    },
    {
      "cell_type": "markdown",
      "source": [
        "### Compile model"
      ],
      "metadata": {
        "_uuid": "28d22eafd0c7d798dcf3d742bc92fb8577939e6c",
        "id": "zUfrqDu9-fif"
      }
    },
    {
      "cell_type": "code",
      "source": [
        "model.compile(loss='binary_crossentropy',\n",
        "              optimizer=\"adam\",\n",
        "              metrics=['accuracy'])"
      ],
      "metadata": {
        "_uuid": "1331e08d590bb2aa2033706c8faca217afc0f1c3",
        "execution": {
          "iopub.status.busy": "2023-06-29T08:32:08.445050Z",
          "iopub.execute_input": "2023-06-29T08:32:08.445345Z",
          "iopub.status.idle": "2023-06-29T08:32:08.496388Z",
          "shell.execute_reply.started": "2023-06-29T08:32:08.445286Z",
          "shell.execute_reply": "2023-06-29T08:32:08.495726Z"
        },
        "trusted": true,
        "id": "0yctqwQV-fig"
      },
      "execution_count": null,
      "outputs": []
    },
    {
      "cell_type": "markdown",
      "source": [
        "### Callbacks"
      ],
      "metadata": {
        "_uuid": "c7733127cb8b380e0c807268903bf4d03ef92542",
        "id": "UR9jDmKr-fig"
      }
    },
    {
      "cell_type": "code",
      "source": [
        "callbacks = [ ReduceLROnPlateau(monitor='val_loss', patience=5, cooldown=0),\n",
        "              EarlyStopping(monitor='val_acc', min_delta=1e-4, patience=5)]"
      ],
      "metadata": {
        "_uuid": "a688df590386f5748da6fe00b01904fe6c71619e",
        "execution": {
          "iopub.status.busy": "2023-06-29T08:32:08.498463Z",
          "iopub.execute_input": "2023-06-29T08:32:08.498727Z",
          "iopub.status.idle": "2023-06-29T08:32:08.505615Z",
          "shell.execute_reply.started": "2023-06-29T08:32:08.498674Z",
          "shell.execute_reply": "2023-06-29T08:32:08.504721Z"
        },
        "trusted": true,
        "id": "XZA8XH3N-fig"
      },
      "execution_count": null,
      "outputs": []
    },
    {
      "cell_type": "markdown",
      "source": [
        "### Train"
      ],
      "metadata": {
        "_uuid": "8d0873633dd49179c8cae17377641b97d323ef3b",
        "id": "sK9XZTOV-fig"
      }
    },
    {
      "cell_type": "code",
      "source": [
        "%%time\n",
        "history = model.fit(x_train, y_train,\n",
        "                    batch_size=BATCH_SIZE,\n",
        "                    epochs=EPOCHS,\n",
        "                    validation_split=0.1,\n",
        "                    verbose=1,\n",
        "                    callbacks=callbacks)"
      ],
      "metadata": {
        "_uuid": "2b659d390c6577dc5cdb6b6297934279b4e801d5",
        "execution": {
          "iopub.status.busy": "2023-06-29T08:32:08.506638Z",
          "iopub.execute_input": "2023-06-29T08:32:08.506906Z",
          "iopub.status.idle": "2023-06-29T09:47:44.705248Z",
          "shell.execute_reply.started": "2023-06-29T08:32:08.506861Z",
          "shell.execute_reply": "2023-06-29T09:47:44.704366Z"
        },
        "trusted": true,
        "id": "n79GcV-t-fig",
        "outputId": "d0b144ea-f5ee-4daa-d684-35bfde2a561a"
      },
      "execution_count": null,
      "outputs": [
        {
          "name": "stdout",
          "text": "Train on 1152000 samples, validate on 128000 samples\nEpoch 1/8\n1152000/1152000 [==============================] - 560s 486us/step - loss: 0.5043 - acc: 0.7501 - val_loss: 0.4655 - val_acc: 0.7787\nEpoch 2/8\n1152000/1152000 [==============================] - 569s 494us/step - loss: 0.4829 - acc: 0.7655 - val_loss: 0.4586 - val_acc: 0.7831\nEpoch 3/8\n1152000/1152000 [==============================] - 569s 494us/step - loss: 0.4757 - acc: 0.7699 - val_loss: 0.4573 - val_acc: 0.7852\nEpoch 4/8\n1152000/1152000 [==============================] - 569s 494us/step - loss: 0.4717 - acc: 0.7722 - val_loss: 0.4564 - val_acc: 0.7861\nEpoch 5/8\n1152000/1152000 [==============================] - 569s 494us/step - loss: 0.4695 - acc: 0.7736 - val_loss: 0.4532 - val_acc: 0.7870\nEpoch 6/8\n1152000/1152000 [==============================] - 571s 496us/step - loss: 0.4674 - acc: 0.7748 - val_loss: 0.4521 - val_acc: 0.7885\nEpoch 7/8\n1152000/1152000 [==============================] - 568s 493us/step - loss: 0.4665 - acc: 0.7757 - val_loss: 0.4512 - val_acc: 0.7883\nEpoch 8/8\n1152000/1152000 [==============================] - 559s 485us/step - loss: 0.4652 - acc: 0.7761 - val_loss: 0.4505 - val_acc: 0.7888\nCPU times: user 1h 38min 52s, sys: 4min 58s, total: 1h 43min 50s\nWall time: 1h 15min 36s\n",
          "output_type": "stream"
        }
      ]
    },
    {
      "cell_type": "markdown",
      "source": [
        "### Evaluate"
      ],
      "metadata": {
        "_uuid": "267258196d96796ac69a7b8c466314bcf5d6ee42",
        "id": "2D3vt05C-fig"
      }
    },
    {
      "cell_type": "code",
      "source": [
        "%%time\n",
        "score = model.evaluate(x_test, y_test, batch_size=BATCH_SIZE)\n",
        "print()\n",
        "print(\"ACCURACY:\",score[1])\n",
        "print(\"LOSS:\",score[0])"
      ],
      "metadata": {
        "_uuid": "98ecd8f1b8b74594c3ea775dd68a094e92458022",
        "execution": {
          "iopub.status.busy": "2023-06-29T10:12:21.018273Z",
          "iopub.execute_input": "2023-06-29T10:12:21.018623Z",
          "iopub.status.idle": "2023-06-29T10:13:16.138210Z",
          "shell.execute_reply.started": "2023-06-29T10:12:21.018558Z",
          "shell.execute_reply": "2023-06-29T10:13:16.137291Z"
        },
        "trusted": true,
        "id": "Aykypgpb-fih",
        "outputId": "b60d76d7-2921-47bc-b950-adbff601cd47"
      },
      "execution_count": null,
      "outputs": [
        {
          "name": "stdout",
          "text": "320000/320000 [==============================] - 55s 172us/step\n\nACCURACY: 0.789584375\nLOSS: 0.44853601384162906\nCPU times: user 1min 17s, sys: 6.11 s, total: 1min 23s\nWall time: 55.1 s\n",
          "output_type": "stream"
        }
      ]
    },
    {
      "cell_type": "code",
      "source": [
        "acc = history.history['acc']\n",
        "val_acc = history.history['val_acc']\n",
        "loss = history.history['loss']\n",
        "val_loss = history.history['val_loss']\n",
        "\n",
        "epochs = range(len(acc))\n",
        "\n",
        "plt.plot(epochs, acc, 'b', label='Training acc')\n",
        "plt.plot(epochs, val_acc, 'r', label='Validation acc')\n",
        "plt.title('Training and validation accuracy')\n",
        "plt.legend()\n",
        "\n",
        "plt.figure()\n",
        "\n",
        "plt.plot(epochs, loss, 'b', label='Training loss')\n",
        "plt.plot(epochs, val_loss, 'r', label='Validation loss')\n",
        "plt.title('Training and validation loss')\n",
        "plt.legend()\n",
        "\n",
        "plt.show()"
      ],
      "metadata": {
        "_uuid": "40c72cd1e9d6c4fd799cbba7c813765ac4039dfc",
        "execution": {
          "iopub.status.busy": "2023-06-29T10:13:16.139425Z",
          "iopub.execute_input": "2023-06-29T10:13:16.139721Z",
          "iopub.status.idle": "2023-06-29T10:13:16.755987Z",
          "shell.execute_reply.started": "2023-06-29T10:13:16.139666Z",
          "shell.execute_reply": "2023-06-29T10:13:16.755127Z"
        },
        "trusted": true,
        "id": "boO9c1-b-fih",
        "outputId": "6685a486-47e1-4acf-ea51-64b7712b70fc"
      },
      "execution_count": null,
      "outputs": [
        {
          "output_type": "display_data",
          "data": {
            "text/plain": "<Figure size 432x288 with 1 Axes>",
            "image/png": "[encoded data removed]"
          },
          "metadata": {}
        },
        {
          "output_type": "display_data",
          "data": {
            "text/plain": "<Figure size 432x288 with 1 Axes>",
            "image/png": "[encoded data removed]"
          },
          "metadata": {}
        }
      ]
    },
    {
      "cell_type": "markdown",
      "source": [
        "### Predict"
      ],
      "metadata": {
        "_uuid": "6bdfc0f6a6af5bebc0271d83dd7432c91001409b",
        "id": "4YU0Woip-fih"
      }
    },
    {
      "cell_type": "code",
      "source": [
        "def decode_sentiment(score, include_neutral=True):\n",
        "    if include_neutral:\n",
        "        label = NEUTRAL\n",
        "        if score <= SENTIMENT_THRESHOLDS[0]:\n",
        "            label = NEGATIVE\n",
        "        elif score >= SENTIMENT_THRESHOLDS[1]:\n",
        "            label = POSITIVE\n",
        "\n",
        "        return label\n",
        "    else:\n",
        "        return NEGATIVE if score < 0.5 else POSITIVE"
      ],
      "metadata": {
        "_uuid": "f0b0fa3d4b1bb14b3f5e3d169a369f3ebef29ae1",
        "execution": {
          "iopub.status.busy": "2023-06-29T10:13:16.760058Z",
          "iopub.execute_input": "2023-06-29T10:13:16.762425Z",
          "iopub.status.idle": "2023-06-29T10:13:16.769994Z",
          "shell.execute_reply.started": "2023-06-29T10:13:16.762365Z",
          "shell.execute_reply": "2023-06-29T10:13:16.769309Z"
        },
        "trusted": true,
        "id": "Re6RfeX9-fih"
      },
      "execution_count": null,
      "outputs": []
    },
    {
      "cell_type": "code",
      "source": [
        "def predict(text, include_neutral=True):\n",
        "    start_at = time.time()\n",
        "    # Tokenize text\n",
        "    x_test = pad_sequences(tokenizer.texts_to_sequences([text]), maxlen=SEQUENCE_LENGTH)\n",
        "    # Predict\n",
        "    score = model.predict([x_test])[0]\n",
        "    # Decode sentiment\n",
        "    label = decode_sentiment(score, include_neutral=include_neutral)\n",
        "\n",
        "    return {\"label\": label, \"score\": float(score),\n",
        "       \"elapsed_time\": time.time()-start_at}"
      ],
      "metadata": {
        "_uuid": "ed4086d651f2f8cbed11d3c909a8873607d29a06",
        "execution": {
          "iopub.status.busy": "2023-06-29T10:13:16.774606Z",
          "iopub.execute_input": "2023-06-29T10:13:16.776448Z",
          "iopub.status.idle": "2023-06-29T10:13:16.786199Z",
          "shell.execute_reply.started": "2023-06-29T10:13:16.776369Z",
          "shell.execute_reply": "2023-06-29T10:13:16.785320Z"
        },
        "trusted": true,
        "id": "P21SlMQk-fih"
      },
      "execution_count": null,
      "outputs": []
    },
    {
      "cell_type": "code",
      "source": [
        "predict(\"Bank of America nurses $100bn paper loss after big bet in bond market\")"
      ],
      "metadata": {
        "_uuid": "ca38b1e6c9b5acfed7467de2cf02a78333108872",
        "execution": {
          "iopub.status.busy": "2023-06-29T10:31:26.809761Z",
          "iopub.execute_input": "2023-06-29T10:31:26.810114Z",
          "iopub.status.idle": "2023-06-29T10:31:26.992111Z",
          "shell.execute_reply.started": "2023-06-29T10:31:26.810069Z",
          "shell.execute_reply": "2023-06-29T10:31:26.991345Z"
        },
        "trusted": true,
        "id": "kVEqiJVM-fii",
        "outputId": "2733d285-2219-4cee-fc77-0458d21e7bbf"
      },
      "execution_count": null,
      "outputs": [
        {
          "execution_count": 95,
          "output_type": "execute_result",
          "data": {
            "text/plain": "{'label': 'NEGATIVE',\n 'score': 0.20024628937244415,\n 'elapsed_time': 0.17540574073791504}"
          },
          "metadata": {}
        }
      ]
    },
    {
      "cell_type": "code",
      "source": [
        "predict(\"Micron Delivers Strong Forecast in Sign That Chip Glut Is Easing\")"
      ],
      "metadata": {
        "_uuid": "0e5fe647533be0148850de349fea6ef6f71303d1",
        "execution": {
          "iopub.status.busy": "2023-06-29T10:34:46.819233Z",
          "iopub.execute_input": "2023-06-29T10:34:46.819588Z",
          "iopub.status.idle": "2023-06-29T10:34:46.997460Z",
          "shell.execute_reply.started": "2023-06-29T10:34:46.819523Z",
          "shell.execute_reply": "2023-06-29T10:34:46.996771Z"
        },
        "trusted": true,
        "id": "qYWhdpbO-fii",
        "outputId": "834cedf2-e8dd-4303-98a5-f0c3e01236f2"
      },
      "execution_count": null,
      "outputs": [
        {
          "execution_count": 96,
          "output_type": "execute_result",
          "data": {
            "text/plain": "{'label': 'NEUTRAL',\n 'score': 0.6587681174278259,\n 'elapsed_time': 0.1715834140777588}"
          },
          "metadata": {}
        }
      ]
    },
    {
      "cell_type": "code",
      "source": [
        "predict(\"$ETRN Equitrans has amazing value right now\")"
      ],
      "metadata": {
        "_uuid": "37064dffcc8920d34ccd54fac7c8b50e583a8269",
        "execution": {
          "iopub.status.busy": "2023-06-29T10:35:38.409716Z",
          "iopub.execute_input": "2023-06-29T10:35:38.410096Z",
          "iopub.status.idle": "2023-06-29T10:35:38.563944Z",
          "shell.execute_reply.started": "2023-06-29T10:35:38.410005Z",
          "shell.execute_reply": "2023-06-29T10:35:38.562996Z"
        },
        "trusted": true,
        "id": "Hsu5XC8N-fii",
        "outputId": "6425b0fd-b16d-41cb-fe15-0fd1cdadf308"
      },
      "execution_count": null,
      "outputs": [
        {
          "execution_count": 97,
          "output_type": "execute_result",
          "data": {
            "text/plain": "{'label': 'POSITIVE',\n 'score': 0.9618452191352844,\n 'elapsed_time': 0.1482686996459961}"
          },
          "metadata": {}
        }
      ]
    },
    {
      "cell_type": "code",
      "source": [
        "predict(\"Nissan reportedly spied on former COO As CEO searched for leverage\")"
      ],
      "metadata": {
        "execution": {
          "iopub.status.busy": "2023-06-29T10:51:40.519021Z",
          "iopub.execute_input": "2023-06-29T10:51:40.519360Z",
          "iopub.status.idle": "2023-06-29T10:51:40.685947Z",
          "shell.execute_reply.started": "2023-06-29T10:51:40.519296Z",
          "shell.execute_reply": "2023-06-29T10:51:40.685265Z"
        },
        "trusted": true,
        "id": "1BcSTYyl-fii",
        "outputId": "e82faf98-29b2-4918-dd0f-de2c899056ee"
      },
      "execution_count": null,
      "outputs": [
        {
          "execution_count": 105,
          "output_type": "execute_result",
          "data": {
            "text/plain": "{'label': 'NEUTRAL',\n 'score': 0.5806874632835388,\n 'elapsed_time': 0.1599874496459961}"
          },
          "metadata": {}
        }
      ]
    },
    {
      "cell_type": "markdown",
      "source": [
        "### Confusion Matrix"
      ],
      "metadata": {
        "_uuid": "3ee72e47f84b6dbc32e02a783de5ec1661f157e1",
        "id": "k7FZsKd_-fij"
      }
    },
    {
      "cell_type": "code",
      "source": [
        "%%time\n",
        "y_pred_1d = []\n",
        "y_test_1d = list(df_test.target)\n",
        "scores = model.predict(x_test, verbose=1, batch_size=8000)\n",
        "y_pred_1d = [decode_sentiment(score, include_neutral=False) for score in scores]"
      ],
      "metadata": {
        "_uuid": "0e920173eb05f04aecdd735bc5dff0f5be5f8d15",
        "execution": {
          "iopub.status.busy": "2023-06-29T10:13:17.773736Z",
          "iopub.execute_input": "2023-06-29T10:13:17.776698Z",
          "iopub.status.idle": "2023-06-29T10:13:39.434171Z",
          "shell.execute_reply.started": "2023-06-29T10:13:17.776643Z",
          "shell.execute_reply": "2023-06-29T10:13:39.433314Z"
        },
        "trusted": true,
        "id": "xBv8dpSL-fij",
        "outputId": "dae1fbae-dd23-491a-8e5d-cff740cbe881"
      },
      "execution_count": null,
      "outputs": [
        {
          "name": "stdout",
          "text": "320000/320000 [==============================] - 21s 65us/step\nCPU times: user 13 s, sys: 1.28 s, total: 14.3 s\nWall time: 21.6 s\n",
          "output_type": "stream"
        }
      ]
    },
    {
      "cell_type": "code",
      "source": [
        "def plot_confusion_matrix(cm, classes,\n",
        "                          title='Confusion matrix',\n",
        "                          cmap=plt.cm.Blues):\n",
        "    \"\"\"\n",
        "    This function prints and plots the confusion matrix.\n",
        "    Normalization can be applied by setting `normalize=True`.\n",
        "    \"\"\"\n",
        "\n",
        "    cm = cm.astype('float') / cm.sum(axis=1)[:, np.newaxis]\n",
        "\n",
        "    plt.imshow(cm, interpolation='nearest', cmap=cmap)\n",
        "    plt.title(title, fontsize=30)\n",
        "    plt.colorbar()\n",
        "    tick_marks = np.arange(len(classes))\n",
        "    plt.xticks(tick_marks, classes, rotation=90, fontsize=22)\n",
        "    plt.yticks(tick_marks, classes, fontsize=22)\n",
        "\n",
        "    fmt = '.2f'\n",
        "    thresh = cm.max() / 2.\n",
        "    for i, j in itertools.product(range(cm.shape[0]), range(cm.shape[1])):\n",
        "        plt.text(j, i, format(cm[i, j], fmt),\n",
        "                 horizontalalignment=\"center\",\n",
        "                 color=\"white\" if cm[i, j] > thresh else \"black\")\n",
        "\n",
        "    plt.ylabel('True label', fontsize=25)\n",
        "    plt.xlabel('Predicted label', fontsize=25)"
      ],
      "metadata": {
        "_uuid": "b3575191bb425ab871f3f41e83812ee84bb7e595",
        "execution": {
          "iopub.status.busy": "2023-06-29T10:13:39.435718Z",
          "iopub.execute_input": "2023-06-29T10:13:39.436081Z",
          "iopub.status.idle": "2023-06-29T10:13:39.446479Z",
          "shell.execute_reply.started": "2023-06-29T10:13:39.436021Z",
          "shell.execute_reply": "2023-06-29T10:13:39.445402Z"
        },
        "trusted": true,
        "id": "UpGBeRf8-fij"
      },
      "execution_count": null,
      "outputs": []
    },
    {
      "cell_type": "code",
      "source": [
        "%%time\n",
        "\n",
        "cnf_matrix = confusion_matrix(y_test_1d, y_pred_1d)\n",
        "plt.figure(figsize=(12,12))\n",
        "plot_confusion_matrix(cnf_matrix, classes=df_train.target.unique(), title=\"Confusion matrix\")\n",
        "plt.show()"
      ],
      "metadata": {
        "_uuid": "a57dc6f6211c144491a70f533225edfa95a2dc66",
        "execution": {
          "iopub.status.busy": "2023-06-29T10:13:39.447867Z",
          "iopub.execute_input": "2023-06-29T10:13:39.448417Z",
          "iopub.status.idle": "2023-06-29T10:13:41.145400Z",
          "shell.execute_reply.started": "2023-06-29T10:13:39.448358Z",
          "shell.execute_reply": "2023-06-29T10:13:41.144546Z"
        },
        "trusted": true,
        "id": "pQMlNv1T-fij",
        "outputId": "8af656e7-4c5e-4d6a-ffa2-b35c7dc2bd7d"
      },
      "execution_count": null,
      "outputs": [
        {
          "output_type": "display_data",
          "data": {
            "text/plain": "<Figure size 864x864 with 2 Axes>",
            "image/png": "[encoded data removed]"
          },
          "metadata": {}
        },
        {
          "name": "stdout",
          "text": "CPU times: user 1.82 s, sys: 191 ms, total: 2.01 s\nWall time: 1.68 s\n",
          "output_type": "stream"
        }
      ]
    },
    {
      "cell_type": "markdown",
      "source": [
        "### Classification Report"
      ],
      "metadata": {
        "_uuid": "e23b957348dcc084249d3cc7538b972da471c2cd",
        "id": "AR1ppnGS-fik"
      }
    },
    {
      "cell_type": "code",
      "source": [
        "print(classification_report(y_test_1d, y_pred_1d))"
      ],
      "metadata": {
        "_uuid": "a7fe05b7caa1c984ff1deb0be2f7c6bc043df9f5",
        "execution": {
          "iopub.status.busy": "2023-06-29T10:13:41.146760Z",
          "iopub.execute_input": "2023-06-29T10:13:41.147318Z",
          "iopub.status.idle": "2023-06-29T10:13:43.769007Z",
          "shell.execute_reply.started": "2023-06-29T10:13:41.147253Z",
          "shell.execute_reply": "2023-06-29T10:13:43.768257Z"
        },
        "trusted": true,
        "id": "3lNdmKii-fik",
        "outputId": "b89e8605-a719-4775-ca57-e9ddc47e3563"
      },
      "execution_count": null,
      "outputs": [
        {
          "name": "stdout",
          "text": "              precision    recall  f1-score   support\n\n    NEGATIVE       0.80      0.78      0.79    159494\n    POSITIVE       0.78      0.80      0.79    160506\n\n   micro avg       0.79      0.79      0.79    320000\n   macro avg       0.79      0.79      0.79    320000\nweighted avg       0.79      0.79      0.79    320000\n\n",
          "output_type": "stream"
        }
      ]
    },
    {
      "cell_type": "markdown",
      "source": [
        "### Accuracy Score"
      ],
      "metadata": {
        "_uuid": "4eb300f0c6693a618587c7dcf32f77f5416cbfb9",
        "id": "0_hiFhnt-fik"
      }
    },
    {
      "cell_type": "code",
      "source": [
        "accuracy_score(y_test_1d, y_pred_1d)"
      ],
      "metadata": {
        "_uuid": "5cf76e6e09f8a60ed25947932b94c772eda44d23",
        "execution": {
          "iopub.status.busy": "2023-06-29T10:13:43.770824Z",
          "iopub.execute_input": "2023-06-29T10:13:43.771332Z",
          "iopub.status.idle": "2023-06-29T10:13:44.227925Z",
          "shell.execute_reply.started": "2023-06-29T10:13:43.771267Z",
          "shell.execute_reply": "2023-06-29T10:13:44.227115Z"
        },
        "trusted": true,
        "id": "waoRqnw8-fik",
        "outputId": "63ddc45d-9176-4ab0-c8bd-cdbfe5b0c99e"
      },
      "execution_count": null,
      "outputs": [
        {
          "execution_count": 92,
          "output_type": "execute_result",
          "data": {
            "text/plain": "0.789584375"
          },
          "metadata": {}
        }
      ]
    },
    {
      "cell_type": "markdown",
      "source": [
        "### Save model"
      ],
      "metadata": {
        "_uuid": "4f014c32f3833db282e1a075c526604f34e3158c",
        "id": "nWOgOMrm-fil"
      }
    },
    {
      "cell_type": "code",
      "source": [
        "model.save(KERAS_MODEL)\n",
        "w2v_model.save(WORD2VEC_MODEL)\n",
        "pickle.dump(tokenizer, open(TOKENIZER_MODEL, \"wb\"), protocol=0)\n",
        "pickle.dump(encoder, open(ENCODER_MODEL, \"wb\"), protocol=0)"
      ],
      "metadata": {
        "_uuid": "3b2b3ad5b592977b404acfa1c9ad303a62837255",
        "execution": {
          "iopub.status.busy": "2023-06-29T10:13:44.229190Z",
          "iopub.execute_input": "2023-06-29T10:13:44.229474Z",
          "iopub.status.idle": "2023-06-29T10:13:46.668889Z",
          "shell.execute_reply.started": "2023-06-29T10:13:44.229425Z",
          "shell.execute_reply": "2023-06-29T10:13:46.667810Z"
        },
        "trusted": true,
        "id": "h19ZSHmC-fil",
        "outputId": "95003201-70e8-436e-ce5c-6c6a5d5d8fdf"
      },
      "execution_count": null,
      "outputs": [
        {
          "name": "stderr",
          "text": "2023-06-29 10:13:44,828 : INFO : saving Word2Vec object under model.w2v, separately None\n2023-06-29 10:13:44,833 : INFO : not storing attribute vectors_norm\n2023-06-29 10:13:44,838 : INFO : not storing attribute cum_table\n2023-06-29 10:13:45,848 : INFO : saved model.w2v\n",
          "output_type": "stream"
        }
      ]
    },
    {
      "cell_type": "code",
      "source": [],
      "metadata": {
        "_uuid": "cc363c54782894757f5ea8820c6a170f2e16ef93",
        "trusted": true,
        "id": "Sum05uzq-fil"
      },
      "execution_count": null,
      "outputs": []
    },
    {
      "cell_type": "code",
      "source": [],
      "metadata": {
        "id": "5-cm7Y81-fil"
      },
      "execution_count": null,
      "outputs": []
    },
    {
      "cell_type": "code",
      "source": [],
      "metadata": {
        "id": "cgbchFkI-fil"
      },
      "execution_count": null,
      "outputs": []
    }
  ]
}